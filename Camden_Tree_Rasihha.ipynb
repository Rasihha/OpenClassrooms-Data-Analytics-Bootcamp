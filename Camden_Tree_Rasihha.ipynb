{
  "cells": [
    {
      "cell_type": "markdown",
      "metadata": {
        "id": "view-in-github",
        "colab_type": "text"
      },
      "source": [
        "<a href=\"https://colab.research.google.com/github/Rasihha/OpenClassrooms-Data-Analytics-Bootcamp---Python-Project/blob/main/Camden_Tree_Rasihha.ipynb\" target=\"_parent\"><img src=\"https://colab.research.google.com/assets/colab-badge.svg\" alt=\"Open In Colab\"/></a>"
      ]
    },
    {
      "cell_type": "markdown",
      "id": "38bcec7a-f9ab-48e8-9553-e9ded639a576",
      "metadata": {
        "id": "38bcec7a-f9ab-48e8-9553-e9ded639a576"
      },
      "source": [
        "# Trees in Camden\n",
        "Use this notebook to complete your analysis.\n",
        "Enter code and comments after the TODOs.\n",
        "\n",
        "There are some code cells completed for you.  These are highlighted with a <font style=\"color:crimson;background-color:lemonchiffon\">TODO</font> comment.  You can use these to guide the subsequent tasks.  Other cells require you to read documentation or search for answers.  The markdown comments give you links to some useful documentation and articles.  Read the documentation, look at the examples provided in the documentation and then try to apply them to your data.\n",
        "\n",
        "Remember that you can find information on the pandas functions on the Pandas website https://pandas.pydata.org/pandas-docs/stable/reference/frame.html or directly in the notebook by puttin a ? before or after the function name. for instance: `?df.head()` or `df['Maturity'].value_counts()?`"
      ]
    },
    {
      "cell_type": "markdown",
      "id": "71f2c016-f440-4601-8262-1d814315d1bb",
      "metadata": {
        "id": "71f2c016-f440-4601-8262-1d814315d1bb"
      },
      "source": [
        "## 1. Prerequisites\n",
        "Import the libraries we need to perform the analysis along with the code required to intergrate with Google Drive files."
      ]
    },
    {
      "cell_type": "markdown",
      "source": [
        "### 1.1 Import libraries"
      ],
      "metadata": {
        "id": "PcuOGXviyw94"
      },
      "id": "PcuOGXviyw94"
    },
    {
      "cell_type": "code",
      "execution_count": null,
      "id": "26c7393c-3a3f-4224-8c88-10aa58310351",
      "metadata": {
        "id": "26c7393c-3a3f-4224-8c88-10aa58310351"
      },
      "outputs": [],
      "source": [
        "import pandas as pd"
      ]
    },
    {
      "cell_type": "markdown",
      "source": [
        "### 1.2 Google Drive Intergration"
      ],
      "metadata": {
        "id": "tSTX2kuJpqQx"
      },
      "id": "tSTX2kuJpqQx"
    },
    {
      "cell_type": "code",
      "source": [
        "from google.colab import drive\n",
        "drive.mount('/content/drive/')"
      ],
      "metadata": {
        "colab": {
          "base_uri": "https://localhost:8080/"
        },
        "id": "rLulrqpWptOy",
        "outputId": "42fc8130-dfa4-46bb-c6da-45e593a05dbe"
      },
      "id": "rLulrqpWptOy",
      "execution_count": null,
      "outputs": [
        {
          "output_type": "stream",
          "name": "stdout",
          "text": [
            "Mounted at /content/drive/\n"
          ]
        }
      ]
    },
    {
      "cell_type": "code",
      "source": [
        "data_path = \"/content/drive/MyDrive/OC/PROJECT 3/Data/\""
      ],
      "metadata": {
        "id": "R03u0DP3sQjH"
      },
      "id": "R03u0DP3sQjH",
      "execution_count": null,
      "outputs": []
    },
    {
      "cell_type": "markdown",
      "id": "ddcf618b-a928-498c-b07e-991c7eb09bb7",
      "metadata": {
        "tags": [],
        "toc-hr-collapsed": true,
        "id": "ddcf618b-a928-498c-b07e-991c7eb09bb7"
      },
      "source": [
        "## Task 2: Load Data and Perform Initial Exploration\n",
        "Load the data from the supplied data files.  The files are in different **file formats**, but Pandas can handle this.\n",
        "\n",
        "You should read the data in using the appropriate function:\n",
        "\n",
        "- [pandas.read_excel](https://pandas.pydata.org/pandas-docs/stable/reference/api/pandas.read_excel.html)\n",
        "- [pandas.read_csv](https://pandas.pydata.org/docs/reference/api/pandas.read_csv.html)\n",
        "- [pandas.read_json](https://pandas.pydata.org/pandas-docs/version/0.23.4/generated/pandas.read_json.html)\n",
        "\n",
        "You can then inspect the first few rows of the loaded dataframe:\n",
        "\n",
        "[pandas.DataFrame.head](https://pandas.pydata.org/docs/reference/api/pandas.DataFrame.head.html)\n",
        "\n",
        "You can get the number of rows and columns:\n",
        "\n",
        "[pandas.DataFrame.shape](https://pandas.pydata.org/pandas-docs/stable/reference/api/pandas.DataFrame.shape.html)\n",
        "\n",
        "You can get the list of column names:\n",
        "\n",
        "[pandas.DataFrame.columns](https://pandas.pydata.org/docs/reference/api/pandas.DataFrame.columns.html)\n",
        "\n",
        "And you can list the data types of the columns:\n",
        "\n",
        "[pandas.DataFrames.dtypes](https://pandas.pydata.org/pandas-docs/stable/reference/api/pandas.DataFrame.dtypes.html)\n",
        "\n",
        "I've done the first one (loading `\"camden_trees.xlsx\"`) for you.  Please load `\"camden_trees_environmental.csv\"` and `\"tree_common_names.json\"` and analyse them in the same way.\n"
      ]
    },
    {
      "cell_type": "markdown",
      "id": "be1b77e3-ef79-49da-a896-dafbc51a3e10",
      "metadata": {
        "id": "be1b77e3-ef79-49da-a896-dafbc51a3e10"
      },
      "source": [
        "### 2.1 Trees\n",
        "The file `\"camden_trees.xlsx\"` is an Excel file, so we use the `read_excel()` function."
      ]
    },
    {
      "cell_type": "code",
      "execution_count": null,
      "id": "dcc71d80-c6e5-41fa-bdd2-8a9c1c129cc7",
      "metadata": {
        "id": "dcc71d80-c6e5-41fa-bdd2-8a9c1c129cc7"
      },
      "outputs": [],
      "source": [
        "# Create a Pandas dataframe called trees that contains the contents of the Excel file\n",
        "trees = pd.read_excel(data_path + \"camden_trees.xlsx\")"
      ]
    },
    {
      "cell_type": "markdown",
      "id": "13689979-f709-4e37-87bc-e005a9dfd0ea",
      "metadata": {
        "id": "13689979-f709-4e37-87bc-e005a9dfd0ea"
      },
      "source": [
        "We can now inspect the first few rows using `head()`.  By default, `head()` displays the first 5 rows."
      ]
    },
    {
      "cell_type": "code",
      "execution_count": null,
      "id": "34c737a4-0666-450f-8db3-b14fd2c2fec5",
      "metadata": {
        "colab": {
          "base_uri": "https://localhost:8080/",
          "height": 394
        },
        "id": "34c737a4-0666-450f-8db3-b14fd2c2fec5",
        "outputId": "a973b26d-c1f1-446d-ab9b-81cf116f9dae"
      },
      "outputs": [
        {
          "output_type": "execute_result",
          "data": {
            "text/plain": [
              "  Identifier  Number Of Trees                   Site Name Contract Area  \\\n",
              "0   00060053              1.0    Russell Nurseries Estate       Housing   \n",
              "1   00057855              1.0           BRECKNOCK JMI (E)     Education   \n",
              "2   00059953              1.0  Estate 51 Ravenshaw Street       Housing   \n",
              "3   00059915              1.0           ROSARY RC JMI (E)     Education   \n",
              "4   00010762              1.0          Holly Lodge Estate       Housing   \n",
              "\n",
              "        Scientific Name Inspection Date Inspection Due Date  Height In Metres  \\\n",
              "0       Vacant Tree Pit             NaT                 NaN               NaN   \n",
              "1       Vacant Tree Pit      2019-07-17           2022/2023               NaN   \n",
              "2          Ficus carica             NaT                 NaN               5.0   \n",
              "3   Betula jacquemontii             NaT                 NaN               4.0   \n",
              "4  Ilex x altaclarensis      2017-06-14           2020/2021              14.0   \n",
              "\n",
              "   Spread In Metres  Diameter In Centimetres At Breast Height  Ward Code  \\\n",
              "0               NaN                                       NaN  E05000135   \n",
              "1               NaN                                       NaN  E05000131   \n",
              "2               4.0                                      10.0        NaN   \n",
              "3               1.0                                       6.0  E05000135   \n",
              "4               6.0                                      26.0  E05000137   \n",
              "\n",
              "        Ward Name  Easting  Northing  Longitude   Latitude  \\\n",
              "0  Hampstead Town   527305    185240  -0.165240  51.551693   \n",
              "1      Cantelowes   529923    184782  -0.127681  51.546984   \n",
              "2             NaN        0         0        NaN        NaN   \n",
              "3  Hampstead Town   527249    185261  -0.166051  51.551901   \n",
              "4        Highgate   528414    186770  -0.148704  51.565198   \n",
              "\n",
              "                 Location  \n",
              "0   (51.551693, -0.16524)  \n",
              "1  (51.546984, -0.127681)  \n",
              "2                     NaN  \n",
              "3  (51.551901, -0.166051)  \n",
              "4  (51.565198, -0.148704)  "
            ],
            "text/html": [
              "\n",
              "  <div id=\"df-6608596b-983c-4fbb-aa8e-4bd07053e02d\" class=\"colab-df-container\">\n",
              "    <div>\n",
              "<style scoped>\n",
              "    .dataframe tbody tr th:only-of-type {\n",
              "        vertical-align: middle;\n",
              "    }\n",
              "\n",
              "    .dataframe tbody tr th {\n",
              "        vertical-align: top;\n",
              "    }\n",
              "\n",
              "    .dataframe thead th {\n",
              "        text-align: right;\n",
              "    }\n",
              "</style>\n",
              "<table border=\"1\" class=\"dataframe\">\n",
              "  <thead>\n",
              "    <tr style=\"text-align: right;\">\n",
              "      <th></th>\n",
              "      <th>Identifier</th>\n",
              "      <th>Number Of Trees</th>\n",
              "      <th>Site Name</th>\n",
              "      <th>Contract Area</th>\n",
              "      <th>Scientific Name</th>\n",
              "      <th>Inspection Date</th>\n",
              "      <th>Inspection Due Date</th>\n",
              "      <th>Height In Metres</th>\n",
              "      <th>Spread In Metres</th>\n",
              "      <th>Diameter In Centimetres At Breast Height</th>\n",
              "      <th>Ward Code</th>\n",
              "      <th>Ward Name</th>\n",
              "      <th>Easting</th>\n",
              "      <th>Northing</th>\n",
              "      <th>Longitude</th>\n",
              "      <th>Latitude</th>\n",
              "      <th>Location</th>\n",
              "    </tr>\n",
              "  </thead>\n",
              "  <tbody>\n",
              "    <tr>\n",
              "      <th>0</th>\n",
              "      <td>00060053</td>\n",
              "      <td>1.0</td>\n",
              "      <td>Russell Nurseries Estate</td>\n",
              "      <td>Housing</td>\n",
              "      <td>Vacant Tree Pit</td>\n",
              "      <td>NaT</td>\n",
              "      <td>NaN</td>\n",
              "      <td>NaN</td>\n",
              "      <td>NaN</td>\n",
              "      <td>NaN</td>\n",
              "      <td>E05000135</td>\n",
              "      <td>Hampstead Town</td>\n",
              "      <td>527305</td>\n",
              "      <td>185240</td>\n",
              "      <td>-0.165240</td>\n",
              "      <td>51.551693</td>\n",
              "      <td>(51.551693, -0.16524)</td>\n",
              "    </tr>\n",
              "    <tr>\n",
              "      <th>1</th>\n",
              "      <td>00057855</td>\n",
              "      <td>1.0</td>\n",
              "      <td>BRECKNOCK JMI (E)</td>\n",
              "      <td>Education</td>\n",
              "      <td>Vacant Tree Pit</td>\n",
              "      <td>2019-07-17</td>\n",
              "      <td>2022/2023</td>\n",
              "      <td>NaN</td>\n",
              "      <td>NaN</td>\n",
              "      <td>NaN</td>\n",
              "      <td>E05000131</td>\n",
              "      <td>Cantelowes</td>\n",
              "      <td>529923</td>\n",
              "      <td>184782</td>\n",
              "      <td>-0.127681</td>\n",
              "      <td>51.546984</td>\n",
              "      <td>(51.546984, -0.127681)</td>\n",
              "    </tr>\n",
              "    <tr>\n",
              "      <th>2</th>\n",
              "      <td>00059953</td>\n",
              "      <td>1.0</td>\n",
              "      <td>Estate 51 Ravenshaw Street</td>\n",
              "      <td>Housing</td>\n",
              "      <td>Ficus carica</td>\n",
              "      <td>NaT</td>\n",
              "      <td>NaN</td>\n",
              "      <td>5.0</td>\n",
              "      <td>4.0</td>\n",
              "      <td>10.0</td>\n",
              "      <td>NaN</td>\n",
              "      <td>NaN</td>\n",
              "      <td>0</td>\n",
              "      <td>0</td>\n",
              "      <td>NaN</td>\n",
              "      <td>NaN</td>\n",
              "      <td>NaN</td>\n",
              "    </tr>\n",
              "    <tr>\n",
              "      <th>3</th>\n",
              "      <td>00059915</td>\n",
              "      <td>1.0</td>\n",
              "      <td>ROSARY RC JMI (E)</td>\n",
              "      <td>Education</td>\n",
              "      <td>Betula jacquemontii</td>\n",
              "      <td>NaT</td>\n",
              "      <td>NaN</td>\n",
              "      <td>4.0</td>\n",
              "      <td>1.0</td>\n",
              "      <td>6.0</td>\n",
              "      <td>E05000135</td>\n",
              "      <td>Hampstead Town</td>\n",
              "      <td>527249</td>\n",
              "      <td>185261</td>\n",
              "      <td>-0.166051</td>\n",
              "      <td>51.551901</td>\n",
              "      <td>(51.551901, -0.166051)</td>\n",
              "    </tr>\n",
              "    <tr>\n",
              "      <th>4</th>\n",
              "      <td>00010762</td>\n",
              "      <td>1.0</td>\n",
              "      <td>Holly Lodge Estate</td>\n",
              "      <td>Housing</td>\n",
              "      <td>Ilex x altaclarensis</td>\n",
              "      <td>2017-06-14</td>\n",
              "      <td>2020/2021</td>\n",
              "      <td>14.0</td>\n",
              "      <td>6.0</td>\n",
              "      <td>26.0</td>\n",
              "      <td>E05000137</td>\n",
              "      <td>Highgate</td>\n",
              "      <td>528414</td>\n",
              "      <td>186770</td>\n",
              "      <td>-0.148704</td>\n",
              "      <td>51.565198</td>\n",
              "      <td>(51.565198, -0.148704)</td>\n",
              "    </tr>\n",
              "  </tbody>\n",
              "</table>\n",
              "</div>\n",
              "    <div class=\"colab-df-buttons\">\n",
              "\n",
              "  <div class=\"colab-df-container\">\n",
              "    <button class=\"colab-df-convert\" onclick=\"convertToInteractive('df-6608596b-983c-4fbb-aa8e-4bd07053e02d')\"\n",
              "            title=\"Convert this dataframe to an interactive table.\"\n",
              "            style=\"display:none;\">\n",
              "\n",
              "  <svg xmlns=\"http://www.w3.org/2000/svg\" height=\"24px\" viewBox=\"0 -960 960 960\">\n",
              "    <path d=\"M120-120v-720h720v720H120Zm60-500h600v-160H180v160Zm220 220h160v-160H400v160Zm0 220h160v-160H400v160ZM180-400h160v-160H180v160Zm440 0h160v-160H620v160ZM180-180h160v-160H180v160Zm440 0h160v-160H620v160Z\"/>\n",
              "  </svg>\n",
              "    </button>\n",
              "\n",
              "  <style>\n",
              "    .colab-df-container {\n",
              "      display:flex;\n",
              "      gap: 12px;\n",
              "    }\n",
              "\n",
              "    .colab-df-convert {\n",
              "      background-color: #E8F0FE;\n",
              "      border: none;\n",
              "      border-radius: 50%;\n",
              "      cursor: pointer;\n",
              "      display: none;\n",
              "      fill: #1967D2;\n",
              "      height: 32px;\n",
              "      padding: 0 0 0 0;\n",
              "      width: 32px;\n",
              "    }\n",
              "\n",
              "    .colab-df-convert:hover {\n",
              "      background-color: #E2EBFA;\n",
              "      box-shadow: 0px 1px 2px rgba(60, 64, 67, 0.3), 0px 1px 3px 1px rgba(60, 64, 67, 0.15);\n",
              "      fill: #174EA6;\n",
              "    }\n",
              "\n",
              "    .colab-df-buttons div {\n",
              "      margin-bottom: 4px;\n",
              "    }\n",
              "\n",
              "    [theme=dark] .colab-df-convert {\n",
              "      background-color: #3B4455;\n",
              "      fill: #D2E3FC;\n",
              "    }\n",
              "\n",
              "    [theme=dark] .colab-df-convert:hover {\n",
              "      background-color: #434B5C;\n",
              "      box-shadow: 0px 1px 3px 1px rgba(0, 0, 0, 0.15);\n",
              "      filter: drop-shadow(0px 1px 2px rgba(0, 0, 0, 0.3));\n",
              "      fill: #FFFFFF;\n",
              "    }\n",
              "  </style>\n",
              "\n",
              "    <script>\n",
              "      const buttonEl =\n",
              "        document.querySelector('#df-6608596b-983c-4fbb-aa8e-4bd07053e02d button.colab-df-convert');\n",
              "      buttonEl.style.display =\n",
              "        google.colab.kernel.accessAllowed ? 'block' : 'none';\n",
              "\n",
              "      async function convertToInteractive(key) {\n",
              "        const element = document.querySelector('#df-6608596b-983c-4fbb-aa8e-4bd07053e02d');\n",
              "        const dataTable =\n",
              "          await google.colab.kernel.invokeFunction('convertToInteractive',\n",
              "                                                    [key], {});\n",
              "        if (!dataTable) return;\n",
              "\n",
              "        const docLinkHtml = 'Like what you see? Visit the ' +\n",
              "          '<a target=\"_blank\" href=https://colab.research.google.com/notebooks/data_table.ipynb>data table notebook</a>'\n",
              "          + ' to learn more about interactive tables.';\n",
              "        element.innerHTML = '';\n",
              "        dataTable['output_type'] = 'display_data';\n",
              "        await google.colab.output.renderOutput(dataTable, element);\n",
              "        const docLink = document.createElement('div');\n",
              "        docLink.innerHTML = docLinkHtml;\n",
              "        element.appendChild(docLink);\n",
              "      }\n",
              "    </script>\n",
              "  </div>\n",
              "\n",
              "\n",
              "<div id=\"df-80a0e486-8b1f-4f6d-ad3e-153069d648cb\">\n",
              "  <button class=\"colab-df-quickchart\" onclick=\"quickchart('df-80a0e486-8b1f-4f6d-ad3e-153069d648cb')\"\n",
              "            title=\"Suggest charts\"\n",
              "            style=\"display:none;\">\n",
              "\n",
              "<svg xmlns=\"http://www.w3.org/2000/svg\" height=\"24px\"viewBox=\"0 0 24 24\"\n",
              "     width=\"24px\">\n",
              "    <g>\n",
              "        <path d=\"M19 3H5c-1.1 0-2 .9-2 2v14c0 1.1.9 2 2 2h14c1.1 0 2-.9 2-2V5c0-1.1-.9-2-2-2zM9 17H7v-7h2v7zm4 0h-2V7h2v10zm4 0h-2v-4h2v4z\"/>\n",
              "    </g>\n",
              "</svg>\n",
              "  </button>\n",
              "\n",
              "<style>\n",
              "  .colab-df-quickchart {\n",
              "      --bg-color: #E8F0FE;\n",
              "      --fill-color: #1967D2;\n",
              "      --hover-bg-color: #E2EBFA;\n",
              "      --hover-fill-color: #174EA6;\n",
              "      --disabled-fill-color: #AAA;\n",
              "      --disabled-bg-color: #DDD;\n",
              "  }\n",
              "\n",
              "  [theme=dark] .colab-df-quickchart {\n",
              "      --bg-color: #3B4455;\n",
              "      --fill-color: #D2E3FC;\n",
              "      --hover-bg-color: #434B5C;\n",
              "      --hover-fill-color: #FFFFFF;\n",
              "      --disabled-bg-color: #3B4455;\n",
              "      --disabled-fill-color: #666;\n",
              "  }\n",
              "\n",
              "  .colab-df-quickchart {\n",
              "    background-color: var(--bg-color);\n",
              "    border: none;\n",
              "    border-radius: 50%;\n",
              "    cursor: pointer;\n",
              "    display: none;\n",
              "    fill: var(--fill-color);\n",
              "    height: 32px;\n",
              "    padding: 0;\n",
              "    width: 32px;\n",
              "  }\n",
              "\n",
              "  .colab-df-quickchart:hover {\n",
              "    background-color: var(--hover-bg-color);\n",
              "    box-shadow: 0 1px 2px rgba(60, 64, 67, 0.3), 0 1px 3px 1px rgba(60, 64, 67, 0.15);\n",
              "    fill: var(--button-hover-fill-color);\n",
              "  }\n",
              "\n",
              "  .colab-df-quickchart-complete:disabled,\n",
              "  .colab-df-quickchart-complete:disabled:hover {\n",
              "    background-color: var(--disabled-bg-color);\n",
              "    fill: var(--disabled-fill-color);\n",
              "    box-shadow: none;\n",
              "  }\n",
              "\n",
              "  .colab-df-spinner {\n",
              "    border: 2px solid var(--fill-color);\n",
              "    border-color: transparent;\n",
              "    border-bottom-color: var(--fill-color);\n",
              "    animation:\n",
              "      spin 1s steps(1) infinite;\n",
              "  }\n",
              "\n",
              "  @keyframes spin {\n",
              "    0% {\n",
              "      border-color: transparent;\n",
              "      border-bottom-color: var(--fill-color);\n",
              "      border-left-color: var(--fill-color);\n",
              "    }\n",
              "    20% {\n",
              "      border-color: transparent;\n",
              "      border-left-color: var(--fill-color);\n",
              "      border-top-color: var(--fill-color);\n",
              "    }\n",
              "    30% {\n",
              "      border-color: transparent;\n",
              "      border-left-color: var(--fill-color);\n",
              "      border-top-color: var(--fill-color);\n",
              "      border-right-color: var(--fill-color);\n",
              "    }\n",
              "    40% {\n",
              "      border-color: transparent;\n",
              "      border-right-color: var(--fill-color);\n",
              "      border-top-color: var(--fill-color);\n",
              "    }\n",
              "    60% {\n",
              "      border-color: transparent;\n",
              "      border-right-color: var(--fill-color);\n",
              "    }\n",
              "    80% {\n",
              "      border-color: transparent;\n",
              "      border-right-color: var(--fill-color);\n",
              "      border-bottom-color: var(--fill-color);\n",
              "    }\n",
              "    90% {\n",
              "      border-color: transparent;\n",
              "      border-bottom-color: var(--fill-color);\n",
              "    }\n",
              "  }\n",
              "</style>\n",
              "\n",
              "  <script>\n",
              "    async function quickchart(key) {\n",
              "      const quickchartButtonEl =\n",
              "        document.querySelector('#' + key + ' button');\n",
              "      quickchartButtonEl.disabled = true;  // To prevent multiple clicks.\n",
              "      quickchartButtonEl.classList.add('colab-df-spinner');\n",
              "      try {\n",
              "        const charts = await google.colab.kernel.invokeFunction(\n",
              "            'suggestCharts', [key], {});\n",
              "      } catch (error) {\n",
              "        console.error('Error during call to suggestCharts:', error);\n",
              "      }\n",
              "      quickchartButtonEl.classList.remove('colab-df-spinner');\n",
              "      quickchartButtonEl.classList.add('colab-df-quickchart-complete');\n",
              "    }\n",
              "    (() => {\n",
              "      let quickchartButtonEl =\n",
              "        document.querySelector('#df-80a0e486-8b1f-4f6d-ad3e-153069d648cb button');\n",
              "      quickchartButtonEl.style.display =\n",
              "        google.colab.kernel.accessAllowed ? 'block' : 'none';\n",
              "    })();\n",
              "  </script>\n",
              "</div>\n",
              "    </div>\n",
              "  </div>\n"
            ]
          },
          "metadata": {},
          "execution_count": 5
        }
      ],
      "source": [
        "# Display the first few rows\n",
        "trees.head()"
      ]
    },
    {
      "cell_type": "markdown",
      "id": "2dc1c27b-7658-41be-92f5-6d1ee07f49c0",
      "metadata": {
        "id": "2dc1c27b-7658-41be-92f5-6d1ee07f49c0"
      },
      "source": [
        "It's good to understand the size of the dataset we are dealing with.  The `shape` property does this for us."
      ]
    },
    {
      "cell_type": "code",
      "execution_count": null,
      "id": "9e7f1cf1-4e79-4cdd-a6b8-0a41c16cb153",
      "metadata": {
        "colab": {
          "base_uri": "https://localhost:8080/"
        },
        "id": "9e7f1cf1-4e79-4cdd-a6b8-0a41c16cb153",
        "outputId": "ff0c90e8-ccf6-4e18-c9a4-d706b27e4506"
      },
      "outputs": [
        {
          "output_type": "execute_result",
          "data": {
            "text/plain": [
              "(23444, 17)"
            ]
          },
          "metadata": {},
          "execution_count": 6
        }
      ],
      "source": [
        "# Get the number of rows and columns\n",
        "trees.shape"
      ]
    },
    {
      "cell_type": "markdown",
      "id": "d499f569-4200-48e9-b0a5-b84fc72a228a",
      "metadata": {
        "id": "d499f569-4200-48e9-b0a5-b84fc72a228a"
      },
      "source": [
        "If there are lots of columns we can't always see all of them in the `head()` list above.  We can use the `columns` property to get a full list:"
      ]
    },
    {
      "cell_type": "code",
      "execution_count": null,
      "id": "be4badda-f1c9-481c-a274-8251330cbc5a",
      "metadata": {
        "colab": {
          "base_uri": "https://localhost:8080/"
        },
        "id": "be4badda-f1c9-481c-a274-8251330cbc5a",
        "outputId": "c84a2c68-ba09-4232-fe8e-7bac4cf1a6ed"
      },
      "outputs": [
        {
          "output_type": "execute_result",
          "data": {
            "text/plain": [
              "Index(['Identifier', 'Number Of Trees', 'Site Name', 'Contract Area',\n",
              "       'Scientific Name', 'Inspection Date', 'Inspection Due Date',\n",
              "       'Height In Metres', 'Spread In Metres',\n",
              "       'Diameter In Centimetres At Breast Height', 'Ward Code', 'Ward Name',\n",
              "       'Easting', 'Northing', 'Longitude', 'Latitude', 'Location'],\n",
              "      dtype='object')"
            ]
          },
          "metadata": {},
          "execution_count": 7
        }
      ],
      "source": [
        "# Get a list of all the columns in the dataframe\n",
        "trees.columns"
      ]
    },
    {
      "cell_type": "markdown",
      "id": "7b184dfb-0498-43c0-afa7-9d4be449863a",
      "metadata": {
        "id": "7b184dfb-0498-43c0-afa7-9d4be449863a"
      },
      "source": [
        "In order to process the data properly, we should understand the data type for each column.  Pandas attempts to work this out for us, but sometimes we need to give it a bit of a hand.  We can use the `dtypes` property to list the data types.  Note that `object` is Pandas way of saying `string`, i.e. a text data type."
      ]
    },
    {
      "cell_type": "code",
      "execution_count": null,
      "id": "f5b603ef-9ce1-4667-a672-5a86fe9daf1a",
      "metadata": {
        "colab": {
          "base_uri": "https://localhost:8080/"
        },
        "id": "f5b603ef-9ce1-4667-a672-5a86fe9daf1a",
        "outputId": "d713f479-b625-4b62-dbe7-e15bc6bc10cf"
      },
      "outputs": [
        {
          "output_type": "execute_result",
          "data": {
            "text/plain": [
              "Identifier                                          object\n",
              "Number Of Trees                                    float64\n",
              "Site Name                                           object\n",
              "Contract Area                                       object\n",
              "Scientific Name                                     object\n",
              "Inspection Date                             datetime64[ns]\n",
              "Inspection Due Date                                 object\n",
              "Height In Metres                                   float64\n",
              "Spread In Metres                                   float64\n",
              "Diameter In Centimetres At Breast Height           float64\n",
              "Ward Code                                           object\n",
              "Ward Name                                           object\n",
              "Easting                                              int64\n",
              "Northing                                             int64\n",
              "Longitude                                          float64\n",
              "Latitude                                           float64\n",
              "Location                                            object\n",
              "dtype: object"
            ]
          },
          "metadata": {},
          "execution_count": 8
        }
      ],
      "source": [
        "# List the data types of each column\n",
        "trees.dtypes"
      ]
    },
    {
      "cell_type": "markdown",
      "id": "722d9b40-5f9c-4362-9b46-b052b2449898",
      "metadata": {
        "id": "722d9b40-5f9c-4362-9b46-b052b2449898"
      },
      "source": [
        "### 2.2 Environmental\n",
        "The file `\"camden_trees_environmental.csv\"` is a csv file.  Use the appropriate function to load it into a Pandas DataFrame."
      ]
    },
    {
      "cell_type": "markdown",
      "id": "5585e3b9-4c1c-436e-a34f-f8f19a0cbd02",
      "metadata": {
        "id": "5585e3b9-4c1c-436e-a34f-f8f19a0cbd02"
      },
      "source": [
        "<div style=\"background-color:lemonchiffon; border:1px solid; padding:5px; margin:5px; font-weight:bold\"><font color=\"crimson\">\n",
        "TODO: Complete the following code cells\n",
        "    </font></div>"
      ]
    },
    {
      "cell_type": "code",
      "execution_count": null,
      "id": "a12780eb-bcb5-4955-bc9b-28439ee81d22",
      "metadata": {
        "id": "a12780eb-bcb5-4955-bc9b-28439ee81d22"
      },
      "outputs": [],
      "source": [
        "# Create a Pandas dataframe called environmental that contains the contents of the csv file\n",
        "environmental = pd.read_csv(data_path + \"camden_trees_environmental.csv\")"
      ]
    },
    {
      "cell_type": "code",
      "execution_count": null,
      "id": "4d6e254d-a3df-4004-b262-004923fdbf9a",
      "metadata": {
        "colab": {
          "base_uri": "https://localhost:8080/",
          "height": 272
        },
        "id": "4d6e254d-a3df-4004-b262-004923fdbf9a",
        "outputId": "3dcd61ff-2cd9-4d29-f96b-f6e8c32ed3e0"
      },
      "outputs": [
        {
          "output_type": "execute_result",
          "data": {
            "text/plain": [
              "  Identifier     Maturity Physiological Condition Tree Set To Be Removed  \\\n",
              "0   00055125     Juvenile                    Good                     No   \n",
              "1   00059429  Middle aged                    Fair                     No   \n",
              "2   00018254       Mature                    Fair                     No   \n",
              "3   00027155       Mature                    Fair                     No   \n",
              "4   00041326     Juvenile                    Good                     No   \n",
              "\n",
              "  Removal Reason  Capital Asset Value For Amenity Trees  \\\n",
              "0            NaN                                 115.07   \n",
              "1            NaN                                7518.08   \n",
              "2            NaN                               20419.63   \n",
              "3            NaN                               21447.74   \n",
              "4            NaN                                 524.30   \n",
              "\n",
              "   Carbon Storage In Kilograms  \\\n",
              "0                          1.6   \n",
              "1                          NaN   \n",
              "2                        426.4   \n",
              "3                        448.3   \n",
              "4                          9.9   \n",
              "\n",
              "   Gross Carbon Sequestration Per Year In Kilograms  \\\n",
              "0                                               0.5   \n",
              "1                                               NaN   \n",
              "2                                               8.8   \n",
              "3                                               9.6   \n",
              "4                                               1.4   \n",
              "\n",
              "   Pollution Removal Per Year In Grams  \n",
              "0                                  5.7  \n",
              "1                                  NaN  \n",
              "2                                215.2  \n",
              "3                                379.1  \n",
              "4                                 12.8  "
            ],
            "text/html": [
              "\n",
              "  <div id=\"df-8898f913-56af-4366-a6f8-fa9001d8da8a\" class=\"colab-df-container\">\n",
              "    <div>\n",
              "<style scoped>\n",
              "    .dataframe tbody tr th:only-of-type {\n",
              "        vertical-align: middle;\n",
              "    }\n",
              "\n",
              "    .dataframe tbody tr th {\n",
              "        vertical-align: top;\n",
              "    }\n",
              "\n",
              "    .dataframe thead th {\n",
              "        text-align: right;\n",
              "    }\n",
              "</style>\n",
              "<table border=\"1\" class=\"dataframe\">\n",
              "  <thead>\n",
              "    <tr style=\"text-align: right;\">\n",
              "      <th></th>\n",
              "      <th>Identifier</th>\n",
              "      <th>Maturity</th>\n",
              "      <th>Physiological Condition</th>\n",
              "      <th>Tree Set To Be Removed</th>\n",
              "      <th>Removal Reason</th>\n",
              "      <th>Capital Asset Value For Amenity Trees</th>\n",
              "      <th>Carbon Storage In Kilograms</th>\n",
              "      <th>Gross Carbon Sequestration Per Year In Kilograms</th>\n",
              "      <th>Pollution Removal Per Year In Grams</th>\n",
              "    </tr>\n",
              "  </thead>\n",
              "  <tbody>\n",
              "    <tr>\n",
              "      <th>0</th>\n",
              "      <td>00055125</td>\n",
              "      <td>Juvenile</td>\n",
              "      <td>Good</td>\n",
              "      <td>No</td>\n",
              "      <td>NaN</td>\n",
              "      <td>115.07</td>\n",
              "      <td>1.6</td>\n",
              "      <td>0.5</td>\n",
              "      <td>5.7</td>\n",
              "    </tr>\n",
              "    <tr>\n",
              "      <th>1</th>\n",
              "      <td>00059429</td>\n",
              "      <td>Middle aged</td>\n",
              "      <td>Fair</td>\n",
              "      <td>No</td>\n",
              "      <td>NaN</td>\n",
              "      <td>7518.08</td>\n",
              "      <td>NaN</td>\n",
              "      <td>NaN</td>\n",
              "      <td>NaN</td>\n",
              "    </tr>\n",
              "    <tr>\n",
              "      <th>2</th>\n",
              "      <td>00018254</td>\n",
              "      <td>Mature</td>\n",
              "      <td>Fair</td>\n",
              "      <td>No</td>\n",
              "      <td>NaN</td>\n",
              "      <td>20419.63</td>\n",
              "      <td>426.4</td>\n",
              "      <td>8.8</td>\n",
              "      <td>215.2</td>\n",
              "    </tr>\n",
              "    <tr>\n",
              "      <th>3</th>\n",
              "      <td>00027155</td>\n",
              "      <td>Mature</td>\n",
              "      <td>Fair</td>\n",
              "      <td>No</td>\n",
              "      <td>NaN</td>\n",
              "      <td>21447.74</td>\n",
              "      <td>448.3</td>\n",
              "      <td>9.6</td>\n",
              "      <td>379.1</td>\n",
              "    </tr>\n",
              "    <tr>\n",
              "      <th>4</th>\n",
              "      <td>00041326</td>\n",
              "      <td>Juvenile</td>\n",
              "      <td>Good</td>\n",
              "      <td>No</td>\n",
              "      <td>NaN</td>\n",
              "      <td>524.30</td>\n",
              "      <td>9.9</td>\n",
              "      <td>1.4</td>\n",
              "      <td>12.8</td>\n",
              "    </tr>\n",
              "  </tbody>\n",
              "</table>\n",
              "</div>\n",
              "    <div class=\"colab-df-buttons\">\n",
              "\n",
              "  <div class=\"colab-df-container\">\n",
              "    <button class=\"colab-df-convert\" onclick=\"convertToInteractive('df-8898f913-56af-4366-a6f8-fa9001d8da8a')\"\n",
              "            title=\"Convert this dataframe to an interactive table.\"\n",
              "            style=\"display:none;\">\n",
              "\n",
              "  <svg xmlns=\"http://www.w3.org/2000/svg\" height=\"24px\" viewBox=\"0 -960 960 960\">\n",
              "    <path d=\"M120-120v-720h720v720H120Zm60-500h600v-160H180v160Zm220 220h160v-160H400v160Zm0 220h160v-160H400v160ZM180-400h160v-160H180v160Zm440 0h160v-160H620v160ZM180-180h160v-160H180v160Zm440 0h160v-160H620v160Z\"/>\n",
              "  </svg>\n",
              "    </button>\n",
              "\n",
              "  <style>\n",
              "    .colab-df-container {\n",
              "      display:flex;\n",
              "      gap: 12px;\n",
              "    }\n",
              "\n",
              "    .colab-df-convert {\n",
              "      background-color: #E8F0FE;\n",
              "      border: none;\n",
              "      border-radius: 50%;\n",
              "      cursor: pointer;\n",
              "      display: none;\n",
              "      fill: #1967D2;\n",
              "      height: 32px;\n",
              "      padding: 0 0 0 0;\n",
              "      width: 32px;\n",
              "    }\n",
              "\n",
              "    .colab-df-convert:hover {\n",
              "      background-color: #E2EBFA;\n",
              "      box-shadow: 0px 1px 2px rgba(60, 64, 67, 0.3), 0px 1px 3px 1px rgba(60, 64, 67, 0.15);\n",
              "      fill: #174EA6;\n",
              "    }\n",
              "\n",
              "    .colab-df-buttons div {\n",
              "      margin-bottom: 4px;\n",
              "    }\n",
              "\n",
              "    [theme=dark] .colab-df-convert {\n",
              "      background-color: #3B4455;\n",
              "      fill: #D2E3FC;\n",
              "    }\n",
              "\n",
              "    [theme=dark] .colab-df-convert:hover {\n",
              "      background-color: #434B5C;\n",
              "      box-shadow: 0px 1px 3px 1px rgba(0, 0, 0, 0.15);\n",
              "      filter: drop-shadow(0px 1px 2px rgba(0, 0, 0, 0.3));\n",
              "      fill: #FFFFFF;\n",
              "    }\n",
              "  </style>\n",
              "\n",
              "    <script>\n",
              "      const buttonEl =\n",
              "        document.querySelector('#df-8898f913-56af-4366-a6f8-fa9001d8da8a button.colab-df-convert');\n",
              "      buttonEl.style.display =\n",
              "        google.colab.kernel.accessAllowed ? 'block' : 'none';\n",
              "\n",
              "      async function convertToInteractive(key) {\n",
              "        const element = document.querySelector('#df-8898f913-56af-4366-a6f8-fa9001d8da8a');\n",
              "        const dataTable =\n",
              "          await google.colab.kernel.invokeFunction('convertToInteractive',\n",
              "                                                    [key], {});\n",
              "        if (!dataTable) return;\n",
              "\n",
              "        const docLinkHtml = 'Like what you see? Visit the ' +\n",
              "          '<a target=\"_blank\" href=https://colab.research.google.com/notebooks/data_table.ipynb>data table notebook</a>'\n",
              "          + ' to learn more about interactive tables.';\n",
              "        element.innerHTML = '';\n",
              "        dataTable['output_type'] = 'display_data';\n",
              "        await google.colab.output.renderOutput(dataTable, element);\n",
              "        const docLink = document.createElement('div');\n",
              "        docLink.innerHTML = docLinkHtml;\n",
              "        element.appendChild(docLink);\n",
              "      }\n",
              "    </script>\n",
              "  </div>\n",
              "\n",
              "\n",
              "<div id=\"df-273195ff-13e6-43f6-a057-547529984b57\">\n",
              "  <button class=\"colab-df-quickchart\" onclick=\"quickchart('df-273195ff-13e6-43f6-a057-547529984b57')\"\n",
              "            title=\"Suggest charts\"\n",
              "            style=\"display:none;\">\n",
              "\n",
              "<svg xmlns=\"http://www.w3.org/2000/svg\" height=\"24px\"viewBox=\"0 0 24 24\"\n",
              "     width=\"24px\">\n",
              "    <g>\n",
              "        <path d=\"M19 3H5c-1.1 0-2 .9-2 2v14c0 1.1.9 2 2 2h14c1.1 0 2-.9 2-2V5c0-1.1-.9-2-2-2zM9 17H7v-7h2v7zm4 0h-2V7h2v10zm4 0h-2v-4h2v4z\"/>\n",
              "    </g>\n",
              "</svg>\n",
              "  </button>\n",
              "\n",
              "<style>\n",
              "  .colab-df-quickchart {\n",
              "      --bg-color: #E8F0FE;\n",
              "      --fill-color: #1967D2;\n",
              "      --hover-bg-color: #E2EBFA;\n",
              "      --hover-fill-color: #174EA6;\n",
              "      --disabled-fill-color: #AAA;\n",
              "      --disabled-bg-color: #DDD;\n",
              "  }\n",
              "\n",
              "  [theme=dark] .colab-df-quickchart {\n",
              "      --bg-color: #3B4455;\n",
              "      --fill-color: #D2E3FC;\n",
              "      --hover-bg-color: #434B5C;\n",
              "      --hover-fill-color: #FFFFFF;\n",
              "      --disabled-bg-color: #3B4455;\n",
              "      --disabled-fill-color: #666;\n",
              "  }\n",
              "\n",
              "  .colab-df-quickchart {\n",
              "    background-color: var(--bg-color);\n",
              "    border: none;\n",
              "    border-radius: 50%;\n",
              "    cursor: pointer;\n",
              "    display: none;\n",
              "    fill: var(--fill-color);\n",
              "    height: 32px;\n",
              "    padding: 0;\n",
              "    width: 32px;\n",
              "  }\n",
              "\n",
              "  .colab-df-quickchart:hover {\n",
              "    background-color: var(--hover-bg-color);\n",
              "    box-shadow: 0 1px 2px rgba(60, 64, 67, 0.3), 0 1px 3px 1px rgba(60, 64, 67, 0.15);\n",
              "    fill: var(--button-hover-fill-color);\n",
              "  }\n",
              "\n",
              "  .colab-df-quickchart-complete:disabled,\n",
              "  .colab-df-quickchart-complete:disabled:hover {\n",
              "    background-color: var(--disabled-bg-color);\n",
              "    fill: var(--disabled-fill-color);\n",
              "    box-shadow: none;\n",
              "  }\n",
              "\n",
              "  .colab-df-spinner {\n",
              "    border: 2px solid var(--fill-color);\n",
              "    border-color: transparent;\n",
              "    border-bottom-color: var(--fill-color);\n",
              "    animation:\n",
              "      spin 1s steps(1) infinite;\n",
              "  }\n",
              "\n",
              "  @keyframes spin {\n",
              "    0% {\n",
              "      border-color: transparent;\n",
              "      border-bottom-color: var(--fill-color);\n",
              "      border-left-color: var(--fill-color);\n",
              "    }\n",
              "    20% {\n",
              "      border-color: transparent;\n",
              "      border-left-color: var(--fill-color);\n",
              "      border-top-color: var(--fill-color);\n",
              "    }\n",
              "    30% {\n",
              "      border-color: transparent;\n",
              "      border-left-color: var(--fill-color);\n",
              "      border-top-color: var(--fill-color);\n",
              "      border-right-color: var(--fill-color);\n",
              "    }\n",
              "    40% {\n",
              "      border-color: transparent;\n",
              "      border-right-color: var(--fill-color);\n",
              "      border-top-color: var(--fill-color);\n",
              "    }\n",
              "    60% {\n",
              "      border-color: transparent;\n",
              "      border-right-color: var(--fill-color);\n",
              "    }\n",
              "    80% {\n",
              "      border-color: transparent;\n",
              "      border-right-color: var(--fill-color);\n",
              "      border-bottom-color: var(--fill-color);\n",
              "    }\n",
              "    90% {\n",
              "      border-color: transparent;\n",
              "      border-bottom-color: var(--fill-color);\n",
              "    }\n",
              "  }\n",
              "</style>\n",
              "\n",
              "  <script>\n",
              "    async function quickchart(key) {\n",
              "      const quickchartButtonEl =\n",
              "        document.querySelector('#' + key + ' button');\n",
              "      quickchartButtonEl.disabled = true;  // To prevent multiple clicks.\n",
              "      quickchartButtonEl.classList.add('colab-df-spinner');\n",
              "      try {\n",
              "        const charts = await google.colab.kernel.invokeFunction(\n",
              "            'suggestCharts', [key], {});\n",
              "      } catch (error) {\n",
              "        console.error('Error during call to suggestCharts:', error);\n",
              "      }\n",
              "      quickchartButtonEl.classList.remove('colab-df-spinner');\n",
              "      quickchartButtonEl.classList.add('colab-df-quickchart-complete');\n",
              "    }\n",
              "    (() => {\n",
              "      let quickchartButtonEl =\n",
              "        document.querySelector('#df-273195ff-13e6-43f6-a057-547529984b57 button');\n",
              "      quickchartButtonEl.style.display =\n",
              "        google.colab.kernel.accessAllowed ? 'block' : 'none';\n",
              "    })();\n",
              "  </script>\n",
              "</div>\n",
              "    </div>\n",
              "  </div>\n"
            ]
          },
          "metadata": {},
          "execution_count": 10
        }
      ],
      "source": [
        "# Display the first few rows\n",
        "environmental.head()"
      ]
    },
    {
      "cell_type": "code",
      "execution_count": null,
      "id": "66c23391-628f-4612-936b-7f55c561fd1b",
      "metadata": {
        "colab": {
          "base_uri": "https://localhost:8080/"
        },
        "id": "66c23391-628f-4612-936b-7f55c561fd1b",
        "outputId": "493f8386-491b-4e50-e18e-ea72240ba1e3"
      },
      "outputs": [
        {
          "output_type": "execute_result",
          "data": {
            "text/plain": [
              "(23415, 9)"
            ]
          },
          "metadata": {},
          "execution_count": 11
        }
      ],
      "source": [
        "# Get the number of rows and columns\n",
        "environmental.shape"
      ]
    },
    {
      "cell_type": "code",
      "execution_count": null,
      "id": "2ccce95e-0aec-4b3b-a961-5356606c2d60",
      "metadata": {
        "colab": {
          "base_uri": "https://localhost:8080/"
        },
        "id": "2ccce95e-0aec-4b3b-a961-5356606c2d60",
        "outputId": "9e20e66d-95d5-494d-9378-a8373f677a70"
      },
      "outputs": [
        {
          "output_type": "execute_result",
          "data": {
            "text/plain": [
              "Index(['Identifier', 'Maturity', 'Physiological Condition',\n",
              "       'Tree Set To Be Removed', 'Removal Reason',\n",
              "       'Capital Asset Value For Amenity Trees', 'Carbon Storage In Kilograms',\n",
              "       'Gross Carbon Sequestration Per Year In Kilograms',\n",
              "       'Pollution Removal Per Year In Grams'],\n",
              "      dtype='object')"
            ]
          },
          "metadata": {},
          "execution_count": 12
        }
      ],
      "source": [
        "# Get a list of all the columns in the dataframe\n",
        "environmental.columns"
      ]
    },
    {
      "cell_type": "code",
      "execution_count": null,
      "id": "b32a0236-40fc-44d8-a0b1-d2afb3baba19",
      "metadata": {
        "colab": {
          "base_uri": "https://localhost:8080/"
        },
        "id": "b32a0236-40fc-44d8-a0b1-d2afb3baba19",
        "outputId": "4da19917-4c7b-4a7f-ffe2-9d31bb106331"
      },
      "outputs": [
        {
          "output_type": "execute_result",
          "data": {
            "text/plain": [
              "Identifier                                           object\n",
              "Maturity                                             object\n",
              "Physiological Condition                              object\n",
              "Tree Set To Be Removed                               object\n",
              "Removal Reason                                       object\n",
              "Capital Asset Value For Amenity Trees               float64\n",
              "Carbon Storage In Kilograms                         float64\n",
              "Gross Carbon Sequestration Per Year In Kilograms    float64\n",
              "Pollution Removal Per Year In Grams                 float64\n",
              "dtype: object"
            ]
          },
          "metadata": {},
          "execution_count": 13
        }
      ],
      "source": [
        "# List the data types of each column\n",
        "environmental.dtypes"
      ]
    },
    {
      "cell_type": "markdown",
      "id": "35e2a8fe-944e-4ef0-b944-0a536f699455",
      "metadata": {
        "id": "35e2a8fe-944e-4ef0-b944-0a536f699455"
      },
      "source": [
        "<hr/>"
      ]
    },
    {
      "cell_type": "markdown",
      "id": "faa2e5f5-67d8-4382-bad0-549486826c3a",
      "metadata": {
        "id": "faa2e5f5-67d8-4382-bad0-549486826c3a"
      },
      "source": [
        "### 2.3 Common and Scientific Names\n",
        "The file `\"tree_common_names.json\"` is a json file.  Use the appropriate function to load it into a Pandas DataFrame."
      ]
    },
    {
      "cell_type": "markdown",
      "id": "c60ddc1e-1bc2-498b-83c8-296e182a5048",
      "metadata": {
        "id": "c60ddc1e-1bc2-498b-83c8-296e182a5048"
      },
      "source": [
        "<div style=\"background-color:lemonchiffon; border:1px solid; padding:5px; margin:5px; font-weight:bold\"><font color=\"crimson\">\n",
        "TODO: Complete the following code cells\n",
        "    </font></div>"
      ]
    },
    {
      "cell_type": "code",
      "execution_count": null,
      "id": "9d3eef7b-123a-4e3d-8d19-5808becb2d35",
      "metadata": {
        "id": "9d3eef7b-123a-4e3d-8d19-5808becb2d35"
      },
      "outputs": [],
      "source": [
        "# Create a Pandas dataframe called names that contains the contents of the json file\n",
        "names = pd.read_json(data_path + \"tree_common_names.json\")"
      ]
    },
    {
      "cell_type": "code",
      "execution_count": null,
      "id": "5d05c25c-b462-481b-b8ca-485f4b5a6cec",
      "metadata": {
        "colab": {
          "base_uri": "https://localhost:8080/",
          "height": 204
        },
        "id": "5d05c25c-b462-481b-b8ca-485f4b5a6cec",
        "outputId": "ffd39476-28d5-4a73-deca-79a46125a974"
      },
      "outputs": [
        {
          "output_type": "execute_result",
          "data": {
            "text/plain": [
              "              Scientific Name          Common Name\n",
              "0      Carpinus betulus Lucas  Hornbeam - European\n",
              "1            Prunus 'Pandora'  Cherry - Ornamental\n",
              "2  Tilia unidentified species                 Lime\n",
              "3   Rosa unidentified species                 None\n",
              "4               Cedrus libani     Cedar of Lebanon"
            ],
            "text/html": [
              "\n",
              "  <div id=\"df-b0e3ebd0-4b77-46d3-938f-18b9150c2312\" class=\"colab-df-container\">\n",
              "    <div>\n",
              "<style scoped>\n",
              "    .dataframe tbody tr th:only-of-type {\n",
              "        vertical-align: middle;\n",
              "    }\n",
              "\n",
              "    .dataframe tbody tr th {\n",
              "        vertical-align: top;\n",
              "    }\n",
              "\n",
              "    .dataframe thead th {\n",
              "        text-align: right;\n",
              "    }\n",
              "</style>\n",
              "<table border=\"1\" class=\"dataframe\">\n",
              "  <thead>\n",
              "    <tr style=\"text-align: right;\">\n",
              "      <th></th>\n",
              "      <th>Scientific Name</th>\n",
              "      <th>Common Name</th>\n",
              "    </tr>\n",
              "  </thead>\n",
              "  <tbody>\n",
              "    <tr>\n",
              "      <th>0</th>\n",
              "      <td>Carpinus betulus Lucas</td>\n",
              "      <td>Hornbeam - European</td>\n",
              "    </tr>\n",
              "    <tr>\n",
              "      <th>1</th>\n",
              "      <td>Prunus 'Pandora'</td>\n",
              "      <td>Cherry - Ornamental</td>\n",
              "    </tr>\n",
              "    <tr>\n",
              "      <th>2</th>\n",
              "      <td>Tilia unidentified species</td>\n",
              "      <td>Lime</td>\n",
              "    </tr>\n",
              "    <tr>\n",
              "      <th>3</th>\n",
              "      <td>Rosa unidentified species</td>\n",
              "      <td>None</td>\n",
              "    </tr>\n",
              "    <tr>\n",
              "      <th>4</th>\n",
              "      <td>Cedrus libani</td>\n",
              "      <td>Cedar of Lebanon</td>\n",
              "    </tr>\n",
              "  </tbody>\n",
              "</table>\n",
              "</div>\n",
              "    <div class=\"colab-df-buttons\">\n",
              "\n",
              "  <div class=\"colab-df-container\">\n",
              "    <button class=\"colab-df-convert\" onclick=\"convertToInteractive('df-b0e3ebd0-4b77-46d3-938f-18b9150c2312')\"\n",
              "            title=\"Convert this dataframe to an interactive table.\"\n",
              "            style=\"display:none;\">\n",
              "\n",
              "  <svg xmlns=\"http://www.w3.org/2000/svg\" height=\"24px\" viewBox=\"0 -960 960 960\">\n",
              "    <path d=\"M120-120v-720h720v720H120Zm60-500h600v-160H180v160Zm220 220h160v-160H400v160Zm0 220h160v-160H400v160ZM180-400h160v-160H180v160Zm440 0h160v-160H620v160ZM180-180h160v-160H180v160Zm440 0h160v-160H620v160Z\"/>\n",
              "  </svg>\n",
              "    </button>\n",
              "\n",
              "  <style>\n",
              "    .colab-df-container {\n",
              "      display:flex;\n",
              "      gap: 12px;\n",
              "    }\n",
              "\n",
              "    .colab-df-convert {\n",
              "      background-color: #E8F0FE;\n",
              "      border: none;\n",
              "      border-radius: 50%;\n",
              "      cursor: pointer;\n",
              "      display: none;\n",
              "      fill: #1967D2;\n",
              "      height: 32px;\n",
              "      padding: 0 0 0 0;\n",
              "      width: 32px;\n",
              "    }\n",
              "\n",
              "    .colab-df-convert:hover {\n",
              "      background-color: #E2EBFA;\n",
              "      box-shadow: 0px 1px 2px rgba(60, 64, 67, 0.3), 0px 1px 3px 1px rgba(60, 64, 67, 0.15);\n",
              "      fill: #174EA6;\n",
              "    }\n",
              "\n",
              "    .colab-df-buttons div {\n",
              "      margin-bottom: 4px;\n",
              "    }\n",
              "\n",
              "    [theme=dark] .colab-df-convert {\n",
              "      background-color: #3B4455;\n",
              "      fill: #D2E3FC;\n",
              "    }\n",
              "\n",
              "    [theme=dark] .colab-df-convert:hover {\n",
              "      background-color: #434B5C;\n",
              "      box-shadow: 0px 1px 3px 1px rgba(0, 0, 0, 0.15);\n",
              "      filter: drop-shadow(0px 1px 2px rgba(0, 0, 0, 0.3));\n",
              "      fill: #FFFFFF;\n",
              "    }\n",
              "  </style>\n",
              "\n",
              "    <script>\n",
              "      const buttonEl =\n",
              "        document.querySelector('#df-b0e3ebd0-4b77-46d3-938f-18b9150c2312 button.colab-df-convert');\n",
              "      buttonEl.style.display =\n",
              "        google.colab.kernel.accessAllowed ? 'block' : 'none';\n",
              "\n",
              "      async function convertToInteractive(key) {\n",
              "        const element = document.querySelector('#df-b0e3ebd0-4b77-46d3-938f-18b9150c2312');\n",
              "        const dataTable =\n",
              "          await google.colab.kernel.invokeFunction('convertToInteractive',\n",
              "                                                    [key], {});\n",
              "        if (!dataTable) return;\n",
              "\n",
              "        const docLinkHtml = 'Like what you see? Visit the ' +\n",
              "          '<a target=\"_blank\" href=https://colab.research.google.com/notebooks/data_table.ipynb>data table notebook</a>'\n",
              "          + ' to learn more about interactive tables.';\n",
              "        element.innerHTML = '';\n",
              "        dataTable['output_type'] = 'display_data';\n",
              "        await google.colab.output.renderOutput(dataTable, element);\n",
              "        const docLink = document.createElement('div');\n",
              "        docLink.innerHTML = docLinkHtml;\n",
              "        element.appendChild(docLink);\n",
              "      }\n",
              "    </script>\n",
              "  </div>\n",
              "\n",
              "\n",
              "<div id=\"df-c7355e15-12d1-4841-86f3-85a11cc65411\">\n",
              "  <button class=\"colab-df-quickchart\" onclick=\"quickchart('df-c7355e15-12d1-4841-86f3-85a11cc65411')\"\n",
              "            title=\"Suggest charts\"\n",
              "            style=\"display:none;\">\n",
              "\n",
              "<svg xmlns=\"http://www.w3.org/2000/svg\" height=\"24px\"viewBox=\"0 0 24 24\"\n",
              "     width=\"24px\">\n",
              "    <g>\n",
              "        <path d=\"M19 3H5c-1.1 0-2 .9-2 2v14c0 1.1.9 2 2 2h14c1.1 0 2-.9 2-2V5c0-1.1-.9-2-2-2zM9 17H7v-7h2v7zm4 0h-2V7h2v10zm4 0h-2v-4h2v4z\"/>\n",
              "    </g>\n",
              "</svg>\n",
              "  </button>\n",
              "\n",
              "<style>\n",
              "  .colab-df-quickchart {\n",
              "      --bg-color: #E8F0FE;\n",
              "      --fill-color: #1967D2;\n",
              "      --hover-bg-color: #E2EBFA;\n",
              "      --hover-fill-color: #174EA6;\n",
              "      --disabled-fill-color: #AAA;\n",
              "      --disabled-bg-color: #DDD;\n",
              "  }\n",
              "\n",
              "  [theme=dark] .colab-df-quickchart {\n",
              "      --bg-color: #3B4455;\n",
              "      --fill-color: #D2E3FC;\n",
              "      --hover-bg-color: #434B5C;\n",
              "      --hover-fill-color: #FFFFFF;\n",
              "      --disabled-bg-color: #3B4455;\n",
              "      --disabled-fill-color: #666;\n",
              "  }\n",
              "\n",
              "  .colab-df-quickchart {\n",
              "    background-color: var(--bg-color);\n",
              "    border: none;\n",
              "    border-radius: 50%;\n",
              "    cursor: pointer;\n",
              "    display: none;\n",
              "    fill: var(--fill-color);\n",
              "    height: 32px;\n",
              "    padding: 0;\n",
              "    width: 32px;\n",
              "  }\n",
              "\n",
              "  .colab-df-quickchart:hover {\n",
              "    background-color: var(--hover-bg-color);\n",
              "    box-shadow: 0 1px 2px rgba(60, 64, 67, 0.3), 0 1px 3px 1px rgba(60, 64, 67, 0.15);\n",
              "    fill: var(--button-hover-fill-color);\n",
              "  }\n",
              "\n",
              "  .colab-df-quickchart-complete:disabled,\n",
              "  .colab-df-quickchart-complete:disabled:hover {\n",
              "    background-color: var(--disabled-bg-color);\n",
              "    fill: var(--disabled-fill-color);\n",
              "    box-shadow: none;\n",
              "  }\n",
              "\n",
              "  .colab-df-spinner {\n",
              "    border: 2px solid var(--fill-color);\n",
              "    border-color: transparent;\n",
              "    border-bottom-color: var(--fill-color);\n",
              "    animation:\n",
              "      spin 1s steps(1) infinite;\n",
              "  }\n",
              "\n",
              "  @keyframes spin {\n",
              "    0% {\n",
              "      border-color: transparent;\n",
              "      border-bottom-color: var(--fill-color);\n",
              "      border-left-color: var(--fill-color);\n",
              "    }\n",
              "    20% {\n",
              "      border-color: transparent;\n",
              "      border-left-color: var(--fill-color);\n",
              "      border-top-color: var(--fill-color);\n",
              "    }\n",
              "    30% {\n",
              "      border-color: transparent;\n",
              "      border-left-color: var(--fill-color);\n",
              "      border-top-color: var(--fill-color);\n",
              "      border-right-color: var(--fill-color);\n",
              "    }\n",
              "    40% {\n",
              "      border-color: transparent;\n",
              "      border-right-color: var(--fill-color);\n",
              "      border-top-color: var(--fill-color);\n",
              "    }\n",
              "    60% {\n",
              "      border-color: transparent;\n",
              "      border-right-color: var(--fill-color);\n",
              "    }\n",
              "    80% {\n",
              "      border-color: transparent;\n",
              "      border-right-color: var(--fill-color);\n",
              "      border-bottom-color: var(--fill-color);\n",
              "    }\n",
              "    90% {\n",
              "      border-color: transparent;\n",
              "      border-bottom-color: var(--fill-color);\n",
              "    }\n",
              "  }\n",
              "</style>\n",
              "\n",
              "  <script>\n",
              "    async function quickchart(key) {\n",
              "      const quickchartButtonEl =\n",
              "        document.querySelector('#' + key + ' button');\n",
              "      quickchartButtonEl.disabled = true;  // To prevent multiple clicks.\n",
              "      quickchartButtonEl.classList.add('colab-df-spinner');\n",
              "      try {\n",
              "        const charts = await google.colab.kernel.invokeFunction(\n",
              "            'suggestCharts', [key], {});\n",
              "      } catch (error) {\n",
              "        console.error('Error during call to suggestCharts:', error);\n",
              "      }\n",
              "      quickchartButtonEl.classList.remove('colab-df-spinner');\n",
              "      quickchartButtonEl.classList.add('colab-df-quickchart-complete');\n",
              "    }\n",
              "    (() => {\n",
              "      let quickchartButtonEl =\n",
              "        document.querySelector('#df-c7355e15-12d1-4841-86f3-85a11cc65411 button');\n",
              "      quickchartButtonEl.style.display =\n",
              "        google.colab.kernel.accessAllowed ? 'block' : 'none';\n",
              "    })();\n",
              "  </script>\n",
              "</div>\n",
              "    </div>\n",
              "  </div>\n"
            ]
          },
          "metadata": {},
          "execution_count": 15
        }
      ],
      "source": [
        "# Display the first few rows\n",
        "names.head()"
      ]
    },
    {
      "cell_type": "code",
      "execution_count": null,
      "id": "d6b7cc1e-1ec9-4a5e-a526-23143c0702f7",
      "metadata": {
        "colab": {
          "base_uri": "https://localhost:8080/"
        },
        "id": "d6b7cc1e-1ec9-4a5e-a526-23143c0702f7",
        "outputId": "225883cb-c1c7-46e5-a5b0-46460d23fad3"
      },
      "outputs": [
        {
          "output_type": "execute_result",
          "data": {
            "text/plain": [
              "(589, 2)"
            ]
          },
          "metadata": {},
          "execution_count": 16
        }
      ],
      "source": [
        "# Get the number of rows and columns\n",
        "names.shape"
      ]
    },
    {
      "cell_type": "code",
      "execution_count": null,
      "id": "f349e0ba-c2d0-469b-9f16-530394e85446",
      "metadata": {
        "colab": {
          "base_uri": "https://localhost:8080/"
        },
        "id": "f349e0ba-c2d0-469b-9f16-530394e85446",
        "outputId": "e1ef20ef-af7e-45df-ef5f-2842ee381f88"
      },
      "outputs": [
        {
          "output_type": "execute_result",
          "data": {
            "text/plain": [
              "Index(['Scientific Name', 'Common Name'], dtype='object')"
            ]
          },
          "metadata": {},
          "execution_count": 17
        }
      ],
      "source": [
        "# Get a list of all the columns in the dataframe\n",
        "names.columns"
      ]
    },
    {
      "cell_type": "code",
      "execution_count": null,
      "id": "aa722c8d-db42-4d95-85cc-eb3d87bcdc5a",
      "metadata": {
        "colab": {
          "base_uri": "https://localhost:8080/"
        },
        "id": "aa722c8d-db42-4d95-85cc-eb3d87bcdc5a",
        "outputId": "617a9c52-0d1f-495f-cf84-57f6a2b200c3"
      },
      "outputs": [
        {
          "output_type": "execute_result",
          "data": {
            "text/plain": [
              "Scientific Name    object\n",
              "Common Name        object\n",
              "dtype: object"
            ]
          },
          "metadata": {},
          "execution_count": 18
        }
      ],
      "source": [
        "# List the data types of each column\n",
        "names.dtypes"
      ]
    },
    {
      "cell_type": "markdown",
      "id": "17473375-5a50-4709-9d87-8ba11c738dc9",
      "metadata": {
        "id": "17473375-5a50-4709-9d87-8ba11c738dc9"
      },
      "source": [
        "<hr/>"
      ]
    },
    {
      "cell_type": "markdown",
      "id": "5034de69-86fd-4332-9fbd-9ce160540ded",
      "metadata": {
        "id": "5034de69-86fd-4332-9fbd-9ce160540ded"
      },
      "source": [
        "### 2.4 Review\n",
        "At the end of this task you should have a good basic understanding of the contents and overall shape of the different data files.  If you don't, do back and review the outputs above."
      ]
    },
    {
      "cell_type": "markdown",
      "id": "0ba2d5d3-ad1e-4961-a2c6-c6ecd1bcc9e0",
      "metadata": {
        "tags": [],
        "id": "0ba2d5d3-ad1e-4961-a2c6-c6ecd1bcc9e0"
      },
      "source": [
        "## Task 3: Further Inspect the Datasets\n",
        "The initial inspection gave you a very high-level understanding of the data.  We will now drill a bit deeper and try to understand the data column-by-column.\n",
        "\n",
        "For columns with a string data type (`object` in Pandas) we have **qualitative** data.  It would be good to know how many *different* values we have in the column, what those values are and the *count* how many of each different value we have.  This will help us understand if the qualitative variable is **binary**, **nominal** or **ordinal**.\n",
        "\n",
        "For columns with a numeric data type (`int` or `float`) we have **quantitative** data.  Usually integer type variables can the thought of as **discrete** and float type variables can be thought of as **continuous**.  It would be good to know some summary descriptive statistics for these columns.   \n",
        "\n",
        "If you are unsure of what these different data classifications mean, read this:\n",
        "\n",
        "[Types of Variables](https://openclassrooms.com/en/courses/6037301-perform-an-initial-data-analysis/6051886-discover-the-four-variable-types)\n",
        "\n",
        "You can get the list of values and counts for a column using this function:\n",
        "\n",
        "[pandas.Series.value_counts](https://pandas.pydata.org/docs/reference/api/pandas.Series.value_counts.html)\n",
        "\n",
        "You can get the descriptive statistics for a DataFrame using this function:\n",
        "\n",
        "[pandas.DataFrame.describe](https://pandas.pydata.org/pandas-docs/stable/reference/api/pandas.DataFrame.describe.html)\n",
        "\n",
        "Note that Pandas may treat integer columns as floats if there are null values in the columns.  So if you see a float data type it might be worth checking the actual values to confirm if it really is a float or if it really is an int with nulls.  You can check the actual values with:\n",
        "\n",
        "[pandas.Series.unique](https://pandas.pydata.org/docs/reference/api/pandas.Series.unique.html)\n",
        "\n"
      ]
    },
    {
      "cell_type": "markdown",
      "id": "9899c07e-0430-49db-875a-6d5a629d6887",
      "metadata": {
        "id": "9899c07e-0430-49db-875a-6d5a629d6887"
      },
      "source": [
        "### 3.1 Further Inspect the Trees Dataset\n",
        "Let's start with the trees dataset.\n"
      ]
    },
    {
      "cell_type": "markdown",
      "id": "e220daf9-b12b-4d67-9253-6f61b1952e2f",
      "metadata": {
        "id": "e220daf9-b12b-4d67-9253-6f61b1952e2f"
      },
      "source": [
        "#### 3.1.a Counts of Values for String Types Columns\n",
        "Go through each column that is a string (object) type and count the number of rows for each value in the column.  After each one, classify the data as binary, nominal or ordinal using a markdown comment.\n",
        "\n",
        "I've done the first one for you.\n"
      ]
    },
    {
      "cell_type": "markdown",
      "id": "3dd0dd30-406d-4635-888b-4157fa5e3f37",
      "metadata": {
        "id": "3dd0dd30-406d-4635-888b-4157fa5e3f37"
      },
      "source": [
        "**Site Name**"
      ]
    },
    {
      "cell_type": "code",
      "execution_count": null,
      "id": "3a4a0915-8d0e-45a2-a919-6b9fd49160da",
      "metadata": {
        "id": "3a4a0915-8d0e-45a2-a919-6b9fd49160da",
        "colab": {
          "base_uri": "https://localhost:8080/"
        },
        "outputId": "5de1e372-2d81-424e-a9ba-e64d3c9644b6"
      },
      "outputs": [
        {
          "output_type": "execute_result",
          "data": {
            "text/plain": [
              "Site Name\n",
              "WATERLOW PARK (LS)                         920\n",
              "Alexandra & Ainsworth Estate               289\n",
              "Belsize nature reserve, Russell Nursery    278\n",
              "Holly Lodge Estate                         272\n",
              "LINCOLN'S INN FIELDS, GARDENS (LS)         193\n",
              "                                          ... \n",
              "DOWNSHIRE HILL                               1\n",
              "LEIGHTON CRESCENT                            1\n",
              "Estate 24-73 Tonbridge House (cons)          1\n",
              "Estate 21-27 Dynham Road (odd)               1\n",
              "Estate 1-5 Northcote House (cons)            1\n",
              "Length: 1135, dtype: int64"
            ]
          },
          "metadata": {},
          "execution_count": 19
        }
      ],
      "source": [
        "# List of values in Site Name column and their counts\n",
        "trees.value_counts(\"Site Name\")"
      ]
    },
    {
      "cell_type": "markdown",
      "id": "9117ae6f-8ecb-429f-9e1e-84931d1291c2",
      "metadata": {
        "id": "9117ae6f-8ecb-429f-9e1e-84931d1291c2"
      },
      "source": [
        "Site Name is **qualitative nominal**."
      ]
    },
    {
      "cell_type": "markdown",
      "id": "62f1b4ef-e76a-4464-af20-70a31385091f",
      "metadata": {
        "id": "62f1b4ef-e76a-4464-af20-70a31385091f"
      },
      "source": [
        "Now do the same on the other string columns.  Use `value_counts()` and then classify as binary, ordered or unordered using a markdown comment.  As you do each one, stop and look at the values and counts and think about how the data in the column might be useful for supporting the council's initiatives.  Don't just treat this as a mechanical copy/paste task. The objective is, after all, to get really intimate with the data!"
      ]
    },
    {
      "cell_type": "markdown",
      "id": "51845db9-18f6-4373-a8fc-e19492568561",
      "metadata": {
        "id": "51845db9-18f6-4373-a8fc-e19492568561"
      },
      "source": [
        "<div style=\"background-color:lemonchiffon; border:1px solid; padding:5px; margin:5px; font-weight:bold\"><font color=\"crimson\">\n",
        "TODO: Enter your code below.  Use one code cell per column and then add a markdown cell after each one to classify the column as in the above example.  Add as many cells as you need.\n",
        "    </font></div>"
      ]
    },
    {
      "cell_type": "markdown",
      "source": [
        "**Contract Area**"
      ],
      "metadata": {
        "id": "dtcdeQgh2K9R"
      },
      "id": "dtcdeQgh2K9R"
    },
    {
      "cell_type": "code",
      "execution_count": null,
      "id": "30f79dcc-0c78-407e-9479-131db91b2400",
      "metadata": {
        "id": "30f79dcc-0c78-407e-9479-131db91b2400",
        "colab": {
          "base_uri": "https://localhost:8080/"
        },
        "outputId": "de734afd-0c68-44bd-dcfe-715106fed388"
      },
      "outputs": [
        {
          "output_type": "execute_result",
          "data": {
            "text/plain": [
              "Contract Area\n",
              "Highways              10062\n",
              "Housing                7500\n",
              "Parks                  4330\n",
              "Education              1288\n",
              "Corporate Landlord      264\n",
              "dtype: int64"
            ]
          },
          "metadata": {},
          "execution_count": 20
        }
      ],
      "source": [
        "trees.value_counts(\"Contract Area\")"
      ]
    },
    {
      "cell_type": "markdown",
      "source": [
        "Contract Area is **qualitative nominal**. <br><br>\n",
        "**Scientific Name**"
      ],
      "metadata": {
        "id": "aDey1RfV2Aoa"
      },
      "id": "aDey1RfV2Aoa"
    },
    {
      "cell_type": "code",
      "execution_count": null,
      "id": "90a2c62b-fb2c-492d-a529-06cc6066802d",
      "metadata": {
        "id": "90a2c62b-fb2c-492d-a529-06cc6066802d",
        "colab": {
          "base_uri": "https://localhost:8080/"
        },
        "outputId": "a8e73c22-d150-4050-aef4-e59c2e3bb12d"
      },
      "outputs": [
        {
          "output_type": "execute_result",
          "data": {
            "text/plain": [
              "Scientific Name\n",
              "Platanus x hispanica              3340\n",
              "Tilia europaea                    1468\n",
              "Acer pseudoplatanus                941\n",
              "Betula pendula                     765\n",
              "Fraxinus excelsior                 754\n",
              "                                  ... \n",
              "Prunus virginiana 'Canada Red'       1\n",
              "Prunus x yedoensis                   1\n",
              "Pseudotsuga menziesii                1\n",
              "Publications/Periodicals GD230       1\n",
              "x Cupresocyparis leylandii 'Ca       1\n",
              "Length: 543, dtype: int64"
            ]
          },
          "metadata": {},
          "execution_count": 21
        }
      ],
      "source": [
        "trees.value_counts(\"Scientific Name\")"
      ]
    },
    {
      "cell_type": "markdown",
      "source": [
        "Scientific Name is qualitative nominal. <br><br>\n",
        "**Inspection Due Date**"
      ],
      "metadata": {
        "id": "yOCVnaeA2lDT"
      },
      "id": "yOCVnaeA2lDT"
    },
    {
      "cell_type": "code",
      "execution_count": null,
      "id": "1f38b812-f955-481d-8964-55ce58be0290",
      "metadata": {
        "id": "1f38b812-f955-481d-8964-55ce58be0290",
        "colab": {
          "base_uri": "https://localhost:8080/"
        },
        "outputId": "365e69cd-19ca-4486-8dce-4ee34a494365"
      },
      "outputs": [
        {
          "output_type": "execute_result",
          "data": {
            "text/plain": [
              "Inspection Due Date\n",
              "2022/2023    7921\n",
              "2021/2022    7353\n",
              "2020/2021    6577\n",
              "2019/2020    1157\n",
              "2018/2019      16\n",
              "2017/2018       5\n",
              "2001/2002       4\n",
              "2016/2017       4\n",
              "2003/2004       2\n",
              "2006/2007       1\n",
              "2011/2012       1\n",
              "2012/2013       1\n",
              "2013/2014       1\n",
              "dtype: int64"
            ]
          },
          "metadata": {},
          "execution_count": 22
        }
      ],
      "source": [
        "trees.value_counts(\"Inspection Due Date\")"
      ]
    },
    {
      "cell_type": "markdown",
      "source": [
        "Inspection Due Date is qualitative ordinal. <br><br>\n",
        "**Ward Code**"
      ],
      "metadata": {
        "id": "n5hgi_ET3Vo2"
      },
      "id": "n5hgi_ET3Vo2"
    },
    {
      "cell_type": "code",
      "execution_count": null,
      "id": "128fc054-89ec-494f-b651-2e01a5e95442",
      "metadata": {
        "id": "128fc054-89ec-494f-b651-2e01a5e95442",
        "colab": {
          "base_uri": "https://localhost:8080/"
        },
        "outputId": "3831f57d-c6cc-4d64-cb46-d795bfbf6169"
      },
      "outputs": [
        {
          "output_type": "execute_result",
          "data": {
            "text/plain": [
              "Ward Code\n",
              "E05000137    2799\n",
              "E05000143    1832\n",
              "E05000134    1541\n",
              "E05000140    1540\n",
              "E05000139    1463\n",
              "E05000136    1424\n",
              "E05000135    1340\n",
              "E05000138    1293\n",
              "E05000132    1284\n",
              "E05000131    1231\n",
              "E05000133    1229\n",
              "E05000129    1008\n",
              "E05000142     989\n",
              "E05000144     978\n",
              "E05000130     899\n",
              "E05000145     853\n",
              "E05000141     824\n",
              "E05000128     691\n",
              "dtype: int64"
            ]
          },
          "metadata": {},
          "execution_count": 23
        }
      ],
      "source": [
        "trees.value_counts(\"Ward Code\")"
      ]
    },
    {
      "cell_type": "markdown",
      "source": [
        "Ward Code is qualitative nominal."
      ],
      "metadata": {
        "id": "4owe6USz3gvF"
      },
      "id": "4owe6USz3gvF"
    },
    {
      "cell_type": "markdown",
      "id": "098f1891-aa39-4304-9845-13cf7041d27f",
      "metadata": {
        "id": "098f1891-aa39-4304-9845-13cf7041d27f"
      },
      "source": [
        "<hr/>"
      ]
    },
    {
      "cell_type": "markdown",
      "id": "65820ccc-8566-4b63-b141-7dffa8e9d067",
      "metadata": {
        "id": "65820ccc-8566-4b63-b141-7dffa8e9d067"
      },
      "source": [
        "#### 3.1.b Descriptive Stats for Numeric Type Columns\n",
        "Use the `describe()` function to get the descriptive stats for the numeric columns.\n",
        "\n",
        "For each column, classify the column as discrete or continuous (use the data type to guide you, but check any floats to confirm whether they are really floats or just ints with null values.  Use `pandas.Series.unique()` to check this).\n"
      ]
    },
    {
      "cell_type": "markdown",
      "id": "bef50831-d839-4dd0-833e-cabfda83cba4",
      "metadata": {
        "id": "bef50831-d839-4dd0-833e-cabfda83cba4"
      },
      "source": [
        "<div style=\"background-color:lemonchiffon; border:1px solid; padding:5px; margin:5px; font-weight:bold\"><font color=\"crimson\">\n",
        "TODO: Complete the following code cells\n",
        "    </font></div>"
      ]
    },
    {
      "cell_type": "code",
      "execution_count": null,
      "id": "0f449063-a7c5-4526-a057-fd20bd17ba6f",
      "metadata": {
        "id": "0f449063-a7c5-4526-a057-fd20bd17ba6f",
        "colab": {
          "base_uri": "https://localhost:8080/",
          "height": 331
        },
        "outputId": "12aca0b9-325b-4e6b-c2f7-576b79207155"
      },
      "outputs": [
        {
          "output_type": "execute_result",
          "data": {
            "text/plain": [
              "       Number Of Trees  Height In Metres  Spread In Metres  \\\n",
              "count     23422.000000      23006.000000      23006.000000   \n",
              "mean          1.100034         10.307029          5.997612   \n",
              "std           1.288041          6.325293          4.132379   \n",
              "min           0.000000          0.000000          0.000000   \n",
              "25%           1.000000          5.000000          3.000000   \n",
              "50%           1.000000          9.000000          5.000000   \n",
              "75%           1.000000         15.000000          8.000000   \n",
              "max          67.000000        127.000000         88.000000   \n",
              "\n",
              "       Diameter In Centimetres At Breast Height        Easting       Northing  \\\n",
              "count                              23005.000000   23444.000000   23444.000000   \n",
              "mean                                  32.595262  526762.518171  184085.188662   \n",
              "std                                   26.149994   25835.857212    9121.059755   \n",
              "min                                    0.000000       0.000000       0.000000   \n",
              "25%                                   12.000000  526583.750000  183665.000000   \n",
              "50%                                   27.000000  528456.500000  184690.000000   \n",
              "75%                                   46.000000  529369.000000  185481.000000   \n",
              "max                                  228.000000  531514.000000  196188.000000   \n",
              "\n",
              "          Longitude      Latitude  \n",
              "count  23388.000000  23388.000000  \n",
              "mean      -0.155145     51.545115  \n",
              "std        0.025058      0.013067  \n",
              "min       -0.261719     51.512858  \n",
              "25%       -0.175734     51.537472  \n",
              "50%       -0.148478     51.546669  \n",
              "75%       -0.135978     51.554032  \n",
              "max       -0.105858     51.650843  "
            ],
            "text/html": [
              "\n",
              "  <div id=\"df-7f7081f9-f9ae-4a38-9010-b8f0edd8860b\" class=\"colab-df-container\">\n",
              "    <div>\n",
              "<style scoped>\n",
              "    .dataframe tbody tr th:only-of-type {\n",
              "        vertical-align: middle;\n",
              "    }\n",
              "\n",
              "    .dataframe tbody tr th {\n",
              "        vertical-align: top;\n",
              "    }\n",
              "\n",
              "    .dataframe thead th {\n",
              "        text-align: right;\n",
              "    }\n",
              "</style>\n",
              "<table border=\"1\" class=\"dataframe\">\n",
              "  <thead>\n",
              "    <tr style=\"text-align: right;\">\n",
              "      <th></th>\n",
              "      <th>Number Of Trees</th>\n",
              "      <th>Height In Metres</th>\n",
              "      <th>Spread In Metres</th>\n",
              "      <th>Diameter In Centimetres At Breast Height</th>\n",
              "      <th>Easting</th>\n",
              "      <th>Northing</th>\n",
              "      <th>Longitude</th>\n",
              "      <th>Latitude</th>\n",
              "    </tr>\n",
              "  </thead>\n",
              "  <tbody>\n",
              "    <tr>\n",
              "      <th>count</th>\n",
              "      <td>23422.000000</td>\n",
              "      <td>23006.000000</td>\n",
              "      <td>23006.000000</td>\n",
              "      <td>23005.000000</td>\n",
              "      <td>23444.000000</td>\n",
              "      <td>23444.000000</td>\n",
              "      <td>23388.000000</td>\n",
              "      <td>23388.000000</td>\n",
              "    </tr>\n",
              "    <tr>\n",
              "      <th>mean</th>\n",
              "      <td>1.100034</td>\n",
              "      <td>10.307029</td>\n",
              "      <td>5.997612</td>\n",
              "      <td>32.595262</td>\n",
              "      <td>526762.518171</td>\n",
              "      <td>184085.188662</td>\n",
              "      <td>-0.155145</td>\n",
              "      <td>51.545115</td>\n",
              "    </tr>\n",
              "    <tr>\n",
              "      <th>std</th>\n",
              "      <td>1.288041</td>\n",
              "      <td>6.325293</td>\n",
              "      <td>4.132379</td>\n",
              "      <td>26.149994</td>\n",
              "      <td>25835.857212</td>\n",
              "      <td>9121.059755</td>\n",
              "      <td>0.025058</td>\n",
              "      <td>0.013067</td>\n",
              "    </tr>\n",
              "    <tr>\n",
              "      <th>min</th>\n",
              "      <td>0.000000</td>\n",
              "      <td>0.000000</td>\n",
              "      <td>0.000000</td>\n",
              "      <td>0.000000</td>\n",
              "      <td>0.000000</td>\n",
              "      <td>0.000000</td>\n",
              "      <td>-0.261719</td>\n",
              "      <td>51.512858</td>\n",
              "    </tr>\n",
              "    <tr>\n",
              "      <th>25%</th>\n",
              "      <td>1.000000</td>\n",
              "      <td>5.000000</td>\n",
              "      <td>3.000000</td>\n",
              "      <td>12.000000</td>\n",
              "      <td>526583.750000</td>\n",
              "      <td>183665.000000</td>\n",
              "      <td>-0.175734</td>\n",
              "      <td>51.537472</td>\n",
              "    </tr>\n",
              "    <tr>\n",
              "      <th>50%</th>\n",
              "      <td>1.000000</td>\n",
              "      <td>9.000000</td>\n",
              "      <td>5.000000</td>\n",
              "      <td>27.000000</td>\n",
              "      <td>528456.500000</td>\n",
              "      <td>184690.000000</td>\n",
              "      <td>-0.148478</td>\n",
              "      <td>51.546669</td>\n",
              "    </tr>\n",
              "    <tr>\n",
              "      <th>75%</th>\n",
              "      <td>1.000000</td>\n",
              "      <td>15.000000</td>\n",
              "      <td>8.000000</td>\n",
              "      <td>46.000000</td>\n",
              "      <td>529369.000000</td>\n",
              "      <td>185481.000000</td>\n",
              "      <td>-0.135978</td>\n",
              "      <td>51.554032</td>\n",
              "    </tr>\n",
              "    <tr>\n",
              "      <th>max</th>\n",
              "      <td>67.000000</td>\n",
              "      <td>127.000000</td>\n",
              "      <td>88.000000</td>\n",
              "      <td>228.000000</td>\n",
              "      <td>531514.000000</td>\n",
              "      <td>196188.000000</td>\n",
              "      <td>-0.105858</td>\n",
              "      <td>51.650843</td>\n",
              "    </tr>\n",
              "  </tbody>\n",
              "</table>\n",
              "</div>\n",
              "    <div class=\"colab-df-buttons\">\n",
              "\n",
              "  <div class=\"colab-df-container\">\n",
              "    <button class=\"colab-df-convert\" onclick=\"convertToInteractive('df-7f7081f9-f9ae-4a38-9010-b8f0edd8860b')\"\n",
              "            title=\"Convert this dataframe to an interactive table.\"\n",
              "            style=\"display:none;\">\n",
              "\n",
              "  <svg xmlns=\"http://www.w3.org/2000/svg\" height=\"24px\" viewBox=\"0 -960 960 960\">\n",
              "    <path d=\"M120-120v-720h720v720H120Zm60-500h600v-160H180v160Zm220 220h160v-160H400v160Zm0 220h160v-160H400v160ZM180-400h160v-160H180v160Zm440 0h160v-160H620v160ZM180-180h160v-160H180v160Zm440 0h160v-160H620v160Z\"/>\n",
              "  </svg>\n",
              "    </button>\n",
              "\n",
              "  <style>\n",
              "    .colab-df-container {\n",
              "      display:flex;\n",
              "      gap: 12px;\n",
              "    }\n",
              "\n",
              "    .colab-df-convert {\n",
              "      background-color: #E8F0FE;\n",
              "      border: none;\n",
              "      border-radius: 50%;\n",
              "      cursor: pointer;\n",
              "      display: none;\n",
              "      fill: #1967D2;\n",
              "      height: 32px;\n",
              "      padding: 0 0 0 0;\n",
              "      width: 32px;\n",
              "    }\n",
              "\n",
              "    .colab-df-convert:hover {\n",
              "      background-color: #E2EBFA;\n",
              "      box-shadow: 0px 1px 2px rgba(60, 64, 67, 0.3), 0px 1px 3px 1px rgba(60, 64, 67, 0.15);\n",
              "      fill: #174EA6;\n",
              "    }\n",
              "\n",
              "    .colab-df-buttons div {\n",
              "      margin-bottom: 4px;\n",
              "    }\n",
              "\n",
              "    [theme=dark] .colab-df-convert {\n",
              "      background-color: #3B4455;\n",
              "      fill: #D2E3FC;\n",
              "    }\n",
              "\n",
              "    [theme=dark] .colab-df-convert:hover {\n",
              "      background-color: #434B5C;\n",
              "      box-shadow: 0px 1px 3px 1px rgba(0, 0, 0, 0.15);\n",
              "      filter: drop-shadow(0px 1px 2px rgba(0, 0, 0, 0.3));\n",
              "      fill: #FFFFFF;\n",
              "    }\n",
              "  </style>\n",
              "\n",
              "    <script>\n",
              "      const buttonEl =\n",
              "        document.querySelector('#df-7f7081f9-f9ae-4a38-9010-b8f0edd8860b button.colab-df-convert');\n",
              "      buttonEl.style.display =\n",
              "        google.colab.kernel.accessAllowed ? 'block' : 'none';\n",
              "\n",
              "      async function convertToInteractive(key) {\n",
              "        const element = document.querySelector('#df-7f7081f9-f9ae-4a38-9010-b8f0edd8860b');\n",
              "        const dataTable =\n",
              "          await google.colab.kernel.invokeFunction('convertToInteractive',\n",
              "                                                    [key], {});\n",
              "        if (!dataTable) return;\n",
              "\n",
              "        const docLinkHtml = 'Like what you see? Visit the ' +\n",
              "          '<a target=\"_blank\" href=https://colab.research.google.com/notebooks/data_table.ipynb>data table notebook</a>'\n",
              "          + ' to learn more about interactive tables.';\n",
              "        element.innerHTML = '';\n",
              "        dataTable['output_type'] = 'display_data';\n",
              "        await google.colab.output.renderOutput(dataTable, element);\n",
              "        const docLink = document.createElement('div');\n",
              "        docLink.innerHTML = docLinkHtml;\n",
              "        element.appendChild(docLink);\n",
              "      }\n",
              "    </script>\n",
              "  </div>\n",
              "\n",
              "\n",
              "<div id=\"df-33d09a67-bed7-4aba-874e-a111162b6cea\">\n",
              "  <button class=\"colab-df-quickchart\" onclick=\"quickchart('df-33d09a67-bed7-4aba-874e-a111162b6cea')\"\n",
              "            title=\"Suggest charts\"\n",
              "            style=\"display:none;\">\n",
              "\n",
              "<svg xmlns=\"http://www.w3.org/2000/svg\" height=\"24px\"viewBox=\"0 0 24 24\"\n",
              "     width=\"24px\">\n",
              "    <g>\n",
              "        <path d=\"M19 3H5c-1.1 0-2 .9-2 2v14c0 1.1.9 2 2 2h14c1.1 0 2-.9 2-2V5c0-1.1-.9-2-2-2zM9 17H7v-7h2v7zm4 0h-2V7h2v10zm4 0h-2v-4h2v4z\"/>\n",
              "    </g>\n",
              "</svg>\n",
              "  </button>\n",
              "\n",
              "<style>\n",
              "  .colab-df-quickchart {\n",
              "      --bg-color: #E8F0FE;\n",
              "      --fill-color: #1967D2;\n",
              "      --hover-bg-color: #E2EBFA;\n",
              "      --hover-fill-color: #174EA6;\n",
              "      --disabled-fill-color: #AAA;\n",
              "      --disabled-bg-color: #DDD;\n",
              "  }\n",
              "\n",
              "  [theme=dark] .colab-df-quickchart {\n",
              "      --bg-color: #3B4455;\n",
              "      --fill-color: #D2E3FC;\n",
              "      --hover-bg-color: #434B5C;\n",
              "      --hover-fill-color: #FFFFFF;\n",
              "      --disabled-bg-color: #3B4455;\n",
              "      --disabled-fill-color: #666;\n",
              "  }\n",
              "\n",
              "  .colab-df-quickchart {\n",
              "    background-color: var(--bg-color);\n",
              "    border: none;\n",
              "    border-radius: 50%;\n",
              "    cursor: pointer;\n",
              "    display: none;\n",
              "    fill: var(--fill-color);\n",
              "    height: 32px;\n",
              "    padding: 0;\n",
              "    width: 32px;\n",
              "  }\n",
              "\n",
              "  .colab-df-quickchart:hover {\n",
              "    background-color: var(--hover-bg-color);\n",
              "    box-shadow: 0 1px 2px rgba(60, 64, 67, 0.3), 0 1px 3px 1px rgba(60, 64, 67, 0.15);\n",
              "    fill: var(--button-hover-fill-color);\n",
              "  }\n",
              "\n",
              "  .colab-df-quickchart-complete:disabled,\n",
              "  .colab-df-quickchart-complete:disabled:hover {\n",
              "    background-color: var(--disabled-bg-color);\n",
              "    fill: var(--disabled-fill-color);\n",
              "    box-shadow: none;\n",
              "  }\n",
              "\n",
              "  .colab-df-spinner {\n",
              "    border: 2px solid var(--fill-color);\n",
              "    border-color: transparent;\n",
              "    border-bottom-color: var(--fill-color);\n",
              "    animation:\n",
              "      spin 1s steps(1) infinite;\n",
              "  }\n",
              "\n",
              "  @keyframes spin {\n",
              "    0% {\n",
              "      border-color: transparent;\n",
              "      border-bottom-color: var(--fill-color);\n",
              "      border-left-color: var(--fill-color);\n",
              "    }\n",
              "    20% {\n",
              "      border-color: transparent;\n",
              "      border-left-color: var(--fill-color);\n",
              "      border-top-color: var(--fill-color);\n",
              "    }\n",
              "    30% {\n",
              "      border-color: transparent;\n",
              "      border-left-color: var(--fill-color);\n",
              "      border-top-color: var(--fill-color);\n",
              "      border-right-color: var(--fill-color);\n",
              "    }\n",
              "    40% {\n",
              "      border-color: transparent;\n",
              "      border-right-color: var(--fill-color);\n",
              "      border-top-color: var(--fill-color);\n",
              "    }\n",
              "    60% {\n",
              "      border-color: transparent;\n",
              "      border-right-color: var(--fill-color);\n",
              "    }\n",
              "    80% {\n",
              "      border-color: transparent;\n",
              "      border-right-color: var(--fill-color);\n",
              "      border-bottom-color: var(--fill-color);\n",
              "    }\n",
              "    90% {\n",
              "      border-color: transparent;\n",
              "      border-bottom-color: var(--fill-color);\n",
              "    }\n",
              "  }\n",
              "</style>\n",
              "\n",
              "  <script>\n",
              "    async function quickchart(key) {\n",
              "      const quickchartButtonEl =\n",
              "        document.querySelector('#' + key + ' button');\n",
              "      quickchartButtonEl.disabled = true;  // To prevent multiple clicks.\n",
              "      quickchartButtonEl.classList.add('colab-df-spinner');\n",
              "      try {\n",
              "        const charts = await google.colab.kernel.invokeFunction(\n",
              "            'suggestCharts', [key], {});\n",
              "      } catch (error) {\n",
              "        console.error('Error during call to suggestCharts:', error);\n",
              "      }\n",
              "      quickchartButtonEl.classList.remove('colab-df-spinner');\n",
              "      quickchartButtonEl.classList.add('colab-df-quickchart-complete');\n",
              "    }\n",
              "    (() => {\n",
              "      let quickchartButtonEl =\n",
              "        document.querySelector('#df-33d09a67-bed7-4aba-874e-a111162b6cea button');\n",
              "      quickchartButtonEl.style.display =\n",
              "        google.colab.kernel.accessAllowed ? 'block' : 'none';\n",
              "    })();\n",
              "  </script>\n",
              "</div>\n",
              "    </div>\n",
              "  </div>\n"
            ]
          },
          "metadata": {},
          "execution_count": 24
        }
      ],
      "source": [
        "trees.describe()"
      ]
    },
    {
      "cell_type": "code",
      "execution_count": null,
      "id": "9b793f70-5799-4eb0-aa11-4cb38f86baba",
      "metadata": {
        "id": "9b793f70-5799-4eb0-aa11-4cb38f86baba",
        "colab": {
          "base_uri": "https://localhost:8080/"
        },
        "outputId": "b73b1a6c-0a15-41f9-e44b-4dbc85c88141"
      },
      "outputs": [
        {
          "output_type": "execute_result",
          "data": {
            "text/plain": [
              "Identifier                                          object\n",
              "Number Of Trees                                    float64\n",
              "Site Name                                           object\n",
              "Contract Area                                       object\n",
              "Scientific Name                                     object\n",
              "Inspection Date                             datetime64[ns]\n",
              "Inspection Due Date                                 object\n",
              "Height In Metres                                   float64\n",
              "Spread In Metres                                   float64\n",
              "Diameter In Centimetres At Breast Height           float64\n",
              "Ward Code                                           object\n",
              "Ward Name                                           object\n",
              "Easting                                              int64\n",
              "Northing                                             int64\n",
              "Longitude                                          float64\n",
              "Latitude                                           float64\n",
              "Location                                            object\n",
              "dtype: object"
            ]
          },
          "metadata": {},
          "execution_count": 25
        }
      ],
      "source": [
        "trees.dtypes"
      ]
    },
    {
      "cell_type": "markdown",
      "id": "f8139d4e-5890-4d4d-bf64-850c9f783710",
      "metadata": {
        "id": "f8139d4e-5890-4d4d-bf64-850c9f783710"
      },
      "source": [
        "<hr/>\n",
        "\n",
        "Find out if floats are really floats or ints with nulls.\n",
        "\n",
        "<div style=\"background-color:lemonchiffon; border:1px solid; padding:5px; margin:5px; font-weight:bold\"><font color=\"crimson\">\n",
        "TODO: Enter your code below.  Use one code cell per column.   Add as many cells as you need.\n",
        "    </font></div>"
      ]
    },
    {
      "cell_type": "code",
      "execution_count": null,
      "id": "d1b425fc-edd1-4bfd-9766-6bd300bd2968",
      "metadata": {
        "id": "d1b425fc-edd1-4bfd-9766-6bd300bd2968",
        "colab": {
          "base_uri": "https://localhost:8080/"
        },
        "outputId": "fd4a9f68-4397-48bd-dd41-336b4e51d880"
      },
      "outputs": [
        {
          "output_type": "execute_result",
          "data": {
            "text/plain": [
              "array([ 1.,  2.,  3.,  0., nan,  5.,  6.,  7., 18.,  8., 65.,  4., 10.,\n",
              "        9., 11., 50., 12., 15., 52., 40., 33., 13., 20., 67., 21., 32.,\n",
              "       24., 26., 16., 25., 51.])"
            ]
          },
          "metadata": {},
          "execution_count": 26
        }
      ],
      "source": [
        "trees[\"Number Of Trees\"].unique()"
      ]
    },
    {
      "cell_type": "markdown",
      "source": [
        "Number of Trees are ints with null."
      ],
      "metadata": {
        "id": "nWtzvG4BvSWs"
      },
      "id": "nWtzvG4BvSWs"
    },
    {
      "cell_type": "code",
      "execution_count": null,
      "id": "a463c666-709d-4821-b0d0-815ce6810bd9",
      "metadata": {
        "id": "a463c666-709d-4821-b0d0-815ce6810bd9",
        "colab": {
          "base_uri": "https://localhost:8080/"
        },
        "outputId": "b7f017e9-3a6f-4d16-e692-4c72592b0bda"
      },
      "outputs": [
        {
          "output_type": "execute_result",
          "data": {
            "text/plain": [
              "array([  nan,   5. ,   4. ,  14. ,   9. ,   0. ,   2. ,   2.5,   8. ,\n",
              "        13. ,  17. ,  10. ,   3. ,  19. ,   7. ,   6. ,   1.8,  15. ,\n",
              "        12. ,   1.5,  16. ,  20. ,  21. ,  24. ,  25. ,   2.7,  18. ,\n",
              "        11. ,  26. ,  22. ,   0.5,  16.1,  27. ,  28. ,   2.3,  22.3,\n",
              "        38. ,  15.5,  29. ,  23. ,  34. ,   3.5,   2.6,   1. ,   5.5,\n",
              "        22.5,   2.2,  36. ,  31. ,  96. ,  13.6, 127. ,  14.7,   4.5,\n",
              "        30. ,  35. ,  32. ,   9.4,  11.8,  33. ,  40. ,   2.1,   6.5,\n",
              "        41. ,  23.1,  37. ,  39. ,  12.5,   7.5,  13.7,  31.6,  23.8,\n",
              "         0.2,  12.3,  15.7,   6.8,   9.3,   3.8,  24.9,  17.4,   2.8,\n",
              "         3.2,  13.9,  12.4,  10.2,  10.8,  24.5,  30.4,   9.8,  11.4,\n",
              "        23.4,   3.7,  11.6,   7.7,   8.3,   3.6,  17.5,  19.5])"
            ]
          },
          "metadata": {},
          "execution_count": 27
        }
      ],
      "source": [
        "trees[\"Height In Metres\"].unique()"
      ]
    },
    {
      "cell_type": "markdown",
      "source": [
        "Height In Metres are floats."
      ],
      "metadata": {
        "id": "LrWRJf0Rv1Tx"
      },
      "id": "LrWRJf0Rv1Tx"
    },
    {
      "cell_type": "code",
      "execution_count": null,
      "id": "81ec49ca-b8dc-4c4f-ae1f-2fd3368330e8",
      "metadata": {
        "id": "81ec49ca-b8dc-4c4f-ae1f-2fd3368330e8",
        "colab": {
          "base_uri": "https://localhost:8080/"
        },
        "outputId": "7f86e115-ad71-40d2-b893-6b79b74cc54b"
      },
      "outputs": [
        {
          "output_type": "execute_result",
          "data": {
            "text/plain": [
              "array([  nan,  4.  ,  1.  ,  6.  ,  7.  ,  0.  ,  1.5 ,  5.  ,  9.  ,\n",
              "       10.  ,  3.  ,  2.  , 13.  ,  2.5 , 12.  , 15.  , 14.  ,  8.  ,\n",
              "       11.  ,  0.6 ,  1.8 , 17.  , 20.  , 18.  , 16.  , 22.  , 19.  ,\n",
              "        5.5 , 26.  ,  1.4 , 23.  , 21.  , 28.  ,  1.2 ,  0.5 ,  3.5 ,\n",
              "       24.  ,  1.3 ,  1.6 , 30.  ,  1.7 , 27.  ,  4.2 , 11.02,  0.7 ,\n",
              "        6.5 ,  4.5 , 31.  , 25.  ,  0.8 ,  0.3 ,  2.2 ,  2.8 ,  1.65,\n",
              "       29.  , 88.  ])"
            ]
          },
          "metadata": {},
          "execution_count": 28
        }
      ],
      "source": [
        "trees[\"Spread In Metres\"].unique()"
      ]
    },
    {
      "cell_type": "markdown",
      "source": [
        "Spread In Metres are floats."
      ],
      "metadata": {
        "id": "sCvI3MhSwFa7"
      },
      "id": "sCvI3MhSwFa7"
    },
    {
      "cell_type": "code",
      "execution_count": null,
      "id": "ece0e5ee-9b62-43b7-ae9b-1c71086736f4",
      "metadata": {
        "id": "ece0e5ee-9b62-43b7-ae9b-1c71086736f4",
        "colab": {
          "base_uri": "https://localhost:8080/"
        },
        "outputId": "49f0148e-bb86-45e2-c42d-c15d74b39dce"
      },
      "outputs": [
        {
          "output_type": "execute_result",
          "data": {
            "text/plain": [
              "array([  nan,  10. ,   6. ,  26. ,  29. ,   5. ,   0. ,   4. ,  12. ,\n",
              "        59. ,  52. ,  23. ,  50. ,  63. ,  15. ,   3. ,  49. ,  42. ,\n",
              "        14. ,  19. ,   9. ,  70. ,  32. ,  28. ,  34. ,  20. ,  17. ,\n",
              "        27. ,  37. ,   8. ,  45. ,  18. , 119. ,   7. ,  38. ,  55. ,\n",
              "        41. ,  75. ,  31. ,  25. ,  11. ,  30. ,  43. ,  68. ,  92. ,\n",
              "        16. ,  35. ,  58. ,  72. ,  64. ,  13. ,  61. ,  69. ,  33. ,\n",
              "        47. ,  67. , 109. , 106. ,  24. ,  51. ,  40. ,  22. ,  60. ,\n",
              "        39. ,  46. ,  57. ,  21. ,  54. , 117. ,  44. ,  82. , 114. ,\n",
              "        65. ,  84. , 118. ,   1. ,  89. ,  53. ,  36. ,  93. ,  88. ,\n",
              "        86. , 163. ,  66. ,  81. ,  74. , 100. ,  48. ,  73. ,  95. ,\n",
              "       129. ,  62. ,  85. ,  56. ,   3.5, 161. ,  71. , 105. , 102. ,\n",
              "        80. ,  87. , 101. ,  76. , 113. , 108. , 160. , 132. ,  90. ,\n",
              "       145. , 130. ,  79. , 228. , 110. ,  83. ,  78. , 122. , 170. ,\n",
              "       115. ,   2. ,  77. , 107. ,  96. , 126. ,  91. , 104. , 158. ,\n",
              "        99. ,  94. ,  16.5, 127. , 151. , 103. , 112. ,  98. ,  97. ,\n",
              "       136. , 125. , 111. , 124. , 139. , 156. , 120. , 148. , 144. ,\n",
              "       140. , 121. , 143. ,  17.5, 154. , 159. , 142. , 197. , 123. ,\n",
              "       149. , 155. , 191. , 131. , 147. , 162. , 116. , 152. , 153. ,\n",
              "       165. , 137. , 200. , 177. , 133. , 128. , 134. ,  11.5, 135. ,\n",
              "       150. , 187. , 210. , 166. , 138. ,  10.5, 206. , 141. , 209. ,\n",
              "       184. , 173. , 192. ,   7.5, 194. , 157. , 146. , 185. ])"
            ]
          },
          "metadata": {},
          "execution_count": 29
        }
      ],
      "source": [
        "trees[\"Diameter In Centimetres At Breast Height\"].unique()"
      ]
    },
    {
      "cell_type": "markdown",
      "source": [
        "Diameter In Centimetres At Breast Height are floats."
      ],
      "metadata": {
        "id": "XWclKxRMwPqp"
      },
      "id": "XWclKxRMwPqp"
    },
    {
      "cell_type": "code",
      "source": [
        "trees[\"Longitude\"].unique()"
      ],
      "metadata": {
        "colab": {
          "base_uri": "https://localhost:8080/"
        },
        "id": "Ymtyd35swY91",
        "outputId": "d6d5efa2-10f1-4765-dc34-33c246bfb889"
      },
      "id": "Ymtyd35swY91",
      "execution_count": null,
      "outputs": [
        {
          "output_type": "execute_result",
          "data": {
            "text/plain": [
              "array([-0.16524 , -0.127681,       nan, ..., -0.196884, -0.204206,\n",
              "       -0.173397])"
            ]
          },
          "metadata": {},
          "execution_count": 30
        }
      ]
    },
    {
      "cell_type": "markdown",
      "source": [
        "Longitude are floats."
      ],
      "metadata": {
        "id": "6jxRVWT4weco"
      },
      "id": "6jxRVWT4weco"
    },
    {
      "cell_type": "code",
      "source": [
        "trees[\"Latitude\"].unique()"
      ],
      "metadata": {
        "colab": {
          "base_uri": "https://localhost:8080/"
        },
        "id": "pK0cn360wh9B",
        "outputId": "63625d16-61bd-45f4-be5a-cd448544cc15"
      },
      "id": "pK0cn360wh9B",
      "execution_count": null,
      "outputs": [
        {
          "output_type": "execute_result",
          "data": {
            "text/plain": [
              "array([51.551693, 51.546984,       nan, ..., 51.54329 , 51.545726,\n",
              "       51.531863])"
            ]
          },
          "metadata": {},
          "execution_count": 31
        }
      ]
    },
    {
      "cell_type": "markdown",
      "source": [
        "Latitude are floats."
      ],
      "metadata": {
        "id": "QM17isFkwlm0"
      },
      "id": "QM17isFkwlm0"
    },
    {
      "cell_type": "markdown",
      "id": "27c930e8-f1f0-45d1-851a-ac41f43fbdcd",
      "metadata": {
        "id": "27c930e8-f1f0-45d1-851a-ac41f43fbdcd"
      },
      "source": [
        "\n",
        "<hr/>"
      ]
    },
    {
      "cell_type": "markdown",
      "id": "de74dc7d-a346-42ba-9def-8d07b1ef1e0c",
      "metadata": {
        "id": "de74dc7d-a346-42ba-9def-8d07b1ef1e0c"
      },
      "source": [
        "Classify the columns as discrete or continuous.\n",
        "\n",
        "<div style=\"background-color:lemonchiffon; border:1px solid; padding:5px; margin:5px; font-weight:bold\"><font color=\"crimson\">\n",
        "TODO: Enter markdown below.\n",
        "</div>"
      ]
    },
    {
      "cell_type": "markdown",
      "id": "5a7931f5-fac2-4181-84d6-b4999e983057",
      "metadata": {
        "id": "5a7931f5-fac2-4181-84d6-b4999e983057"
      },
      "source": [
        "\n",
        "Number Of Trees is discrete. <br>\n",
        "Height In Metres is continuous. <br>\n",
        "Diameter In Centimetres At Breast Height is continuous. <br>\n",
        "Eating is discrete. <br>\n",
        "Northing is discrete. <br>\n",
        "Longitude is continuous. <br>\n",
        "Latitude is continuous. <br>\n"
      ]
    },
    {
      "cell_type": "markdown",
      "id": "4ee2e405-e35f-49d7-bcd6-00c12d31fa8d",
      "metadata": {
        "id": "4ee2e405-e35f-49d7-bcd6-00c12d31fa8d"
      },
      "source": [
        "<hr/>"
      ]
    },
    {
      "cell_type": "markdown",
      "id": "90c6e10d-2f2e-4003-b983-f60870b6fc1a",
      "metadata": {
        "id": "90c6e10d-2f2e-4003-b983-f60870b6fc1a"
      },
      "source": [
        "### 3.2 Further Inspect the Environmental Dataset\n",
        "Now repeat the above for the environmental dataset.\n",
        "\n",
        "#### 3.2.a Counts of Values for String Type Columns\n",
        "For each string column in the environmental dataset show the counts of the unique values."
      ]
    },
    {
      "cell_type": "markdown",
      "id": "f077e892-01db-426e-9cae-e59a6b0940be",
      "metadata": {
        "id": "f077e892-01db-426e-9cae-e59a6b0940be"
      },
      "source": [
        "<div style=\"background-color:lemonchiffon; border:1px solid; padding:5px; margin:5px; font-weight:bold\"><font color=\"crimson\">\n",
        "    TODO: Enter your code below.  Use one code cell per column and then add a markdown cell after each one to classify the column.  Add as many cells as you need.\n",
        "</font></div>"
      ]
    },
    {
      "cell_type": "code",
      "execution_count": null,
      "id": "044f2b73-aa4b-4a10-8546-e3149d39d817",
      "metadata": {
        "id": "044f2b73-aa4b-4a10-8546-e3149d39d817",
        "colab": {
          "base_uri": "https://localhost:8080/"
        },
        "outputId": "ae1a4cf8-9ebf-465e-dbb3-b584834a9083"
      },
      "outputs": [
        {
          "output_type": "execute_result",
          "data": {
            "text/plain": [
              "Identifier                                           object\n",
              "Maturity                                             object\n",
              "Physiological Condition                              object\n",
              "Tree Set To Be Removed                               object\n",
              "Removal Reason                                       object\n",
              "Capital Asset Value For Amenity Trees               float64\n",
              "Carbon Storage In Kilograms                         float64\n",
              "Gross Carbon Sequestration Per Year In Kilograms    float64\n",
              "Pollution Removal Per Year In Grams                 float64\n",
              "dtype: object"
            ]
          },
          "metadata": {},
          "execution_count": 32
        }
      ],
      "source": [
        "environmental.dtypes"
      ]
    },
    {
      "cell_type": "markdown",
      "source": [
        "**Identifier**"
      ],
      "metadata": {
        "id": "oeck5vYh1oR9"
      },
      "id": "oeck5vYh1oR9"
    },
    {
      "cell_type": "code",
      "execution_count": null,
      "id": "44ba9648-4ddb-4d61-b176-264bce03818c",
      "metadata": {
        "id": "44ba9648-4ddb-4d61-b176-264bce03818c",
        "colab": {
          "base_uri": "https://localhost:8080/"
        },
        "outputId": "332c4edc-3547-4a38-b703-c57a116a02a0"
      },
      "outputs": [
        {
          "output_type": "execute_result",
          "data": {
            "text/plain": [
              "Identifier\n",
              "00000001    1\n",
              "00045135    1\n",
              "00045133    1\n",
              "00045130    1\n",
              "00045128    1\n",
              "           ..\n",
              "00014928    1\n",
              "00014927    1\n",
              "00014925    1\n",
              "00014923    1\n",
              "01100611    1\n",
              "Length: 23415, dtype: int64"
            ]
          },
          "metadata": {},
          "execution_count": 33
        }
      ],
      "source": [
        "environmental.value_counts(\"Identifier\")"
      ]
    },
    {
      "cell_type": "markdown",
      "source": [
        "Identifier is qualitative nominal.<br><br>\n",
        "**Maturity**"
      ],
      "metadata": {
        "id": "1h6gsnMu1rGi"
      },
      "id": "1h6gsnMu1rGi"
    },
    {
      "cell_type": "code",
      "execution_count": null,
      "id": "089c3831-ae1e-47f9-a907-45260efe3d56",
      "metadata": {
        "id": "089c3831-ae1e-47f9-a907-45260efe3d56",
        "colab": {
          "base_uri": "https://localhost:8080/"
        },
        "outputId": "f2fff113-ce75-45bf-d4be-2166e9612582"
      },
      "outputs": [
        {
          "output_type": "execute_result",
          "data": {
            "text/plain": [
              "Maturity\n",
              "Mature            10225\n",
              "Middle aged        7779\n",
              "Juvenile           4393\n",
              "Not Applicable      377\n",
              "Over Mature         191\n",
              "Veteran              41\n",
              "dtype: int64"
            ]
          },
          "metadata": {},
          "execution_count": 34
        }
      ],
      "source": [
        "environmental.value_counts(\"Maturity\")"
      ]
    },
    {
      "cell_type": "markdown",
      "source": [
        "Maturity is qualitative nominal. <br><br>\n",
        "**Physiological Condition**"
      ],
      "metadata": {
        "id": "ycXeXqFp3-kX"
      },
      "id": "ycXeXqFp3-kX"
    },
    {
      "cell_type": "code",
      "execution_count": null,
      "id": "eb9ecfc7-a941-4980-8c2e-aec88871c8c0",
      "metadata": {
        "id": "eb9ecfc7-a941-4980-8c2e-aec88871c8c0",
        "colab": {
          "base_uri": "https://localhost:8080/"
        },
        "outputId": "a1488a5a-7f85-48cc-a06a-e1f9220a7f0c"
      },
      "outputs": [
        {
          "output_type": "execute_result",
          "data": {
            "text/plain": [
              "Physiological Condition\n",
              "Good              12910\n",
              "Fair               9183\n",
              "Poor                357\n",
              "Not applicable      249\n",
              "Dead                236\n",
              "Excellent             8\n",
              "dtype: int64"
            ]
          },
          "metadata": {},
          "execution_count": 35
        }
      ],
      "source": [
        "environmental.value_counts(\"Physiological Condition\")"
      ]
    },
    {
      "cell_type": "markdown",
      "source": [
        "Physiological Condition is qualitative ordinal. <br><br>\n",
        "**Tree Set To Be Removed**"
      ],
      "metadata": {
        "id": "6Dowe4_d4Lri"
      },
      "id": "6Dowe4_d4Lri"
    },
    {
      "cell_type": "code",
      "source": [
        "environmental.value_counts(\"Tree Set To Be Removed\")"
      ],
      "metadata": {
        "colab": {
          "base_uri": "https://localhost:8080/"
        },
        "id": "wvPVs7PK4Wrp",
        "outputId": "7c330e02-53b7-49c1-df76-4c966a757e00"
      },
      "id": "wvPVs7PK4Wrp",
      "execution_count": null,
      "outputs": [
        {
          "output_type": "execute_result",
          "data": {
            "text/plain": [
              "Tree Set To Be Removed\n",
              "No     23331\n",
              "Yes       84\n",
              "dtype: int64"
            ]
          },
          "metadata": {},
          "execution_count": 36
        }
      ]
    },
    {
      "cell_type": "markdown",
      "source": [
        "Tree Set To Be Removed is qualitative binary.<br><br>\n",
        "**Removal Reason**"
      ],
      "metadata": {
        "id": "HCsnJJd74djy"
      },
      "id": "HCsnJJd74djy"
    },
    {
      "cell_type": "code",
      "source": [
        "environmental.value_counts(\"Removal Reason\")"
      ],
      "metadata": {
        "colab": {
          "base_uri": "https://localhost:8080/"
        },
        "id": "m9EzL9XI4mF8",
        "outputId": "6cfb60a8-73a5-4ad4-85fd-74411b341093"
      },
      "id": "m9EzL9XI4mF8",
      "execution_count": null,
      "outputs": [
        {
          "output_type": "execute_result",
          "data": {
            "text/plain": [
              "Removal Reason\n",
              "Dead, dying                    30\n",
              "Basal decay                    17\n",
              "Trunk decay                    10\n",
              "Crown die-back                  5\n",
              "Tree defect                     5\n",
              "Dog damage                      3\n",
              "Unsuitable location             3\n",
              "Newly planted tree failure      2\n",
              "Crown decay                     1\n",
              "Coppiced stump                  1\n",
              "No defects - work required      1\n",
              "Split trunk                     1\n",
              "Suppressed                      1\n",
              "Touching building/structure     1\n",
              "Climber                         1\n",
              "Broken/split branch             1\n",
              "ATRD                            1\n",
              "dtype: int64"
            ]
          },
          "metadata": {},
          "execution_count": 37
        }
      ]
    },
    {
      "cell_type": "markdown",
      "source": [
        "Removal Reason is qualitative ordinal."
      ],
      "metadata": {
        "id": "5hLjOvhW401S"
      },
      "id": "5hLjOvhW401S"
    },
    {
      "cell_type": "markdown",
      "id": "fa84e8d1-57aa-483b-bb38-e54a07e6aff8",
      "metadata": {
        "id": "fa84e8d1-57aa-483b-bb38-e54a07e6aff8"
      },
      "source": [
        "<hr/>"
      ]
    },
    {
      "cell_type": "markdown",
      "id": "5c9ae370-ab1f-43f3-ba17-5dd062a2cbf1",
      "metadata": {
        "id": "5c9ae370-ab1f-43f3-ba17-5dd062a2cbf1"
      },
      "source": [
        "#### 3.2.b Descriptive Stats for Numeric Type Columns\n",
        "For each numeric column in the environmental dataset show the descriptive stats"
      ]
    },
    {
      "cell_type": "markdown",
      "id": "eafafa68-7cf4-4f9d-bbe1-7513151aa727",
      "metadata": {
        "id": "eafafa68-7cf4-4f9d-bbe1-7513151aa727"
      },
      "source": [
        "<div style=\"background-color:lemonchiffon; border:1px solid; padding:5px; margin:5px; font-weight:bold\"><font color=\"crimson\">\n",
        "TODO: Complete the following code cells\n",
        "    </font></div>"
      ]
    },
    {
      "cell_type": "code",
      "execution_count": null,
      "id": "4380cd76-3b4c-4488-8b5d-b8429c747228",
      "metadata": {
        "id": "4380cd76-3b4c-4488-8b5d-b8429c747228",
        "colab": {
          "base_uri": "https://localhost:8080/",
          "height": 314
        },
        "outputId": "f40bf35d-60f6-45a9-9c3a-ac70df1af5fd"
      },
      "outputs": [
        {
          "output_type": "execute_result",
          "data": {
            "text/plain": [
              "       Capital Asset Value For Amenity Trees  Carbon Storage In Kilograms  \\\n",
              "count                           22982.000000                 20555.000000   \n",
              "mean                            14056.393047                   467.465454   \n",
              "std                             24803.806595                   844.926555   \n",
              "min                                 0.000000                     0.500000   \n",
              "25%                              1035.650000                    24.800000   \n",
              "50%                              5443.660000                   163.900000   \n",
              "75%                             16781.420000                   497.300000   \n",
              "max                            504725.720000                  6000.000000   \n",
              "\n",
              "       Gross Carbon Sequestration Per Year In Kilograms  \\\n",
              "count                                      20555.000000   \n",
              "mean                                           8.675057   \n",
              "std                                            8.681446   \n",
              "min                                            0.000000   \n",
              "25%                                            2.200000   \n",
              "50%                                            6.100000   \n",
              "75%                                           11.700000   \n",
              "max                                           53.800000   \n",
              "\n",
              "       Pollution Removal Per Year In Grams  \n",
              "count                         20555.000000  \n",
              "mean                            217.740316  \n",
              "std                             306.751920  \n",
              "min                               0.300000  \n",
              "25%                              29.300000  \n",
              "50%                             108.100000  \n",
              "75%                             297.600000  \n",
              "max                            8223.700000  "
            ],
            "text/html": [
              "\n",
              "  <div id=\"df-5d2595bb-c4cd-4471-8af5-87a0d5ed8d85\" class=\"colab-df-container\">\n",
              "    <div>\n",
              "<style scoped>\n",
              "    .dataframe tbody tr th:only-of-type {\n",
              "        vertical-align: middle;\n",
              "    }\n",
              "\n",
              "    .dataframe tbody tr th {\n",
              "        vertical-align: top;\n",
              "    }\n",
              "\n",
              "    .dataframe thead th {\n",
              "        text-align: right;\n",
              "    }\n",
              "</style>\n",
              "<table border=\"1\" class=\"dataframe\">\n",
              "  <thead>\n",
              "    <tr style=\"text-align: right;\">\n",
              "      <th></th>\n",
              "      <th>Capital Asset Value For Amenity Trees</th>\n",
              "      <th>Carbon Storage In Kilograms</th>\n",
              "      <th>Gross Carbon Sequestration Per Year In Kilograms</th>\n",
              "      <th>Pollution Removal Per Year In Grams</th>\n",
              "    </tr>\n",
              "  </thead>\n",
              "  <tbody>\n",
              "    <tr>\n",
              "      <th>count</th>\n",
              "      <td>22982.000000</td>\n",
              "      <td>20555.000000</td>\n",
              "      <td>20555.000000</td>\n",
              "      <td>20555.000000</td>\n",
              "    </tr>\n",
              "    <tr>\n",
              "      <th>mean</th>\n",
              "      <td>14056.393047</td>\n",
              "      <td>467.465454</td>\n",
              "      <td>8.675057</td>\n",
              "      <td>217.740316</td>\n",
              "    </tr>\n",
              "    <tr>\n",
              "      <th>std</th>\n",
              "      <td>24803.806595</td>\n",
              "      <td>844.926555</td>\n",
              "      <td>8.681446</td>\n",
              "      <td>306.751920</td>\n",
              "    </tr>\n",
              "    <tr>\n",
              "      <th>min</th>\n",
              "      <td>0.000000</td>\n",
              "      <td>0.500000</td>\n",
              "      <td>0.000000</td>\n",
              "      <td>0.300000</td>\n",
              "    </tr>\n",
              "    <tr>\n",
              "      <th>25%</th>\n",
              "      <td>1035.650000</td>\n",
              "      <td>24.800000</td>\n",
              "      <td>2.200000</td>\n",
              "      <td>29.300000</td>\n",
              "    </tr>\n",
              "    <tr>\n",
              "      <th>50%</th>\n",
              "      <td>5443.660000</td>\n",
              "      <td>163.900000</td>\n",
              "      <td>6.100000</td>\n",
              "      <td>108.100000</td>\n",
              "    </tr>\n",
              "    <tr>\n",
              "      <th>75%</th>\n",
              "      <td>16781.420000</td>\n",
              "      <td>497.300000</td>\n",
              "      <td>11.700000</td>\n",
              "      <td>297.600000</td>\n",
              "    </tr>\n",
              "    <tr>\n",
              "      <th>max</th>\n",
              "      <td>504725.720000</td>\n",
              "      <td>6000.000000</td>\n",
              "      <td>53.800000</td>\n",
              "      <td>8223.700000</td>\n",
              "    </tr>\n",
              "  </tbody>\n",
              "</table>\n",
              "</div>\n",
              "    <div class=\"colab-df-buttons\">\n",
              "\n",
              "  <div class=\"colab-df-container\">\n",
              "    <button class=\"colab-df-convert\" onclick=\"convertToInteractive('df-5d2595bb-c4cd-4471-8af5-87a0d5ed8d85')\"\n",
              "            title=\"Convert this dataframe to an interactive table.\"\n",
              "            style=\"display:none;\">\n",
              "\n",
              "  <svg xmlns=\"http://www.w3.org/2000/svg\" height=\"24px\" viewBox=\"0 -960 960 960\">\n",
              "    <path d=\"M120-120v-720h720v720H120Zm60-500h600v-160H180v160Zm220 220h160v-160H400v160Zm0 220h160v-160H400v160ZM180-400h160v-160H180v160Zm440 0h160v-160H620v160ZM180-180h160v-160H180v160Zm440 0h160v-160H620v160Z\"/>\n",
              "  </svg>\n",
              "    </button>\n",
              "\n",
              "  <style>\n",
              "    .colab-df-container {\n",
              "      display:flex;\n",
              "      gap: 12px;\n",
              "    }\n",
              "\n",
              "    .colab-df-convert {\n",
              "      background-color: #E8F0FE;\n",
              "      border: none;\n",
              "      border-radius: 50%;\n",
              "      cursor: pointer;\n",
              "      display: none;\n",
              "      fill: #1967D2;\n",
              "      height: 32px;\n",
              "      padding: 0 0 0 0;\n",
              "      width: 32px;\n",
              "    }\n",
              "\n",
              "    .colab-df-convert:hover {\n",
              "      background-color: #E2EBFA;\n",
              "      box-shadow: 0px 1px 2px rgba(60, 64, 67, 0.3), 0px 1px 3px 1px rgba(60, 64, 67, 0.15);\n",
              "      fill: #174EA6;\n",
              "    }\n",
              "\n",
              "    .colab-df-buttons div {\n",
              "      margin-bottom: 4px;\n",
              "    }\n",
              "\n",
              "    [theme=dark] .colab-df-convert {\n",
              "      background-color: #3B4455;\n",
              "      fill: #D2E3FC;\n",
              "    }\n",
              "\n",
              "    [theme=dark] .colab-df-convert:hover {\n",
              "      background-color: #434B5C;\n",
              "      box-shadow: 0px 1px 3px 1px rgba(0, 0, 0, 0.15);\n",
              "      filter: drop-shadow(0px 1px 2px rgba(0, 0, 0, 0.3));\n",
              "      fill: #FFFFFF;\n",
              "    }\n",
              "  </style>\n",
              "\n",
              "    <script>\n",
              "      const buttonEl =\n",
              "        document.querySelector('#df-5d2595bb-c4cd-4471-8af5-87a0d5ed8d85 button.colab-df-convert');\n",
              "      buttonEl.style.display =\n",
              "        google.colab.kernel.accessAllowed ? 'block' : 'none';\n",
              "\n",
              "      async function convertToInteractive(key) {\n",
              "        const element = document.querySelector('#df-5d2595bb-c4cd-4471-8af5-87a0d5ed8d85');\n",
              "        const dataTable =\n",
              "          await google.colab.kernel.invokeFunction('convertToInteractive',\n",
              "                                                    [key], {});\n",
              "        if (!dataTable) return;\n",
              "\n",
              "        const docLinkHtml = 'Like what you see? Visit the ' +\n",
              "          '<a target=\"_blank\" href=https://colab.research.google.com/notebooks/data_table.ipynb>data table notebook</a>'\n",
              "          + ' to learn more about interactive tables.';\n",
              "        element.innerHTML = '';\n",
              "        dataTable['output_type'] = 'display_data';\n",
              "        await google.colab.output.renderOutput(dataTable, element);\n",
              "        const docLink = document.createElement('div');\n",
              "        docLink.innerHTML = docLinkHtml;\n",
              "        element.appendChild(docLink);\n",
              "      }\n",
              "    </script>\n",
              "  </div>\n",
              "\n",
              "\n",
              "<div id=\"df-ac020af2-2765-435b-8aa6-be876c14e365\">\n",
              "  <button class=\"colab-df-quickchart\" onclick=\"quickchart('df-ac020af2-2765-435b-8aa6-be876c14e365')\"\n",
              "            title=\"Suggest charts\"\n",
              "            style=\"display:none;\">\n",
              "\n",
              "<svg xmlns=\"http://www.w3.org/2000/svg\" height=\"24px\"viewBox=\"0 0 24 24\"\n",
              "     width=\"24px\">\n",
              "    <g>\n",
              "        <path d=\"M19 3H5c-1.1 0-2 .9-2 2v14c0 1.1.9 2 2 2h14c1.1 0 2-.9 2-2V5c0-1.1-.9-2-2-2zM9 17H7v-7h2v7zm4 0h-2V7h2v10zm4 0h-2v-4h2v4z\"/>\n",
              "    </g>\n",
              "</svg>\n",
              "  </button>\n",
              "\n",
              "<style>\n",
              "  .colab-df-quickchart {\n",
              "      --bg-color: #E8F0FE;\n",
              "      --fill-color: #1967D2;\n",
              "      --hover-bg-color: #E2EBFA;\n",
              "      --hover-fill-color: #174EA6;\n",
              "      --disabled-fill-color: #AAA;\n",
              "      --disabled-bg-color: #DDD;\n",
              "  }\n",
              "\n",
              "  [theme=dark] .colab-df-quickchart {\n",
              "      --bg-color: #3B4455;\n",
              "      --fill-color: #D2E3FC;\n",
              "      --hover-bg-color: #434B5C;\n",
              "      --hover-fill-color: #FFFFFF;\n",
              "      --disabled-bg-color: #3B4455;\n",
              "      --disabled-fill-color: #666;\n",
              "  }\n",
              "\n",
              "  .colab-df-quickchart {\n",
              "    background-color: var(--bg-color);\n",
              "    border: none;\n",
              "    border-radius: 50%;\n",
              "    cursor: pointer;\n",
              "    display: none;\n",
              "    fill: var(--fill-color);\n",
              "    height: 32px;\n",
              "    padding: 0;\n",
              "    width: 32px;\n",
              "  }\n",
              "\n",
              "  .colab-df-quickchart:hover {\n",
              "    background-color: var(--hover-bg-color);\n",
              "    box-shadow: 0 1px 2px rgba(60, 64, 67, 0.3), 0 1px 3px 1px rgba(60, 64, 67, 0.15);\n",
              "    fill: var(--button-hover-fill-color);\n",
              "  }\n",
              "\n",
              "  .colab-df-quickchart-complete:disabled,\n",
              "  .colab-df-quickchart-complete:disabled:hover {\n",
              "    background-color: var(--disabled-bg-color);\n",
              "    fill: var(--disabled-fill-color);\n",
              "    box-shadow: none;\n",
              "  }\n",
              "\n",
              "  .colab-df-spinner {\n",
              "    border: 2px solid var(--fill-color);\n",
              "    border-color: transparent;\n",
              "    border-bottom-color: var(--fill-color);\n",
              "    animation:\n",
              "      spin 1s steps(1) infinite;\n",
              "  }\n",
              "\n",
              "  @keyframes spin {\n",
              "    0% {\n",
              "      border-color: transparent;\n",
              "      border-bottom-color: var(--fill-color);\n",
              "      border-left-color: var(--fill-color);\n",
              "    }\n",
              "    20% {\n",
              "      border-color: transparent;\n",
              "      border-left-color: var(--fill-color);\n",
              "      border-top-color: var(--fill-color);\n",
              "    }\n",
              "    30% {\n",
              "      border-color: transparent;\n",
              "      border-left-color: var(--fill-color);\n",
              "      border-top-color: var(--fill-color);\n",
              "      border-right-color: var(--fill-color);\n",
              "    }\n",
              "    40% {\n",
              "      border-color: transparent;\n",
              "      border-right-color: var(--fill-color);\n",
              "      border-top-color: var(--fill-color);\n",
              "    }\n",
              "    60% {\n",
              "      border-color: transparent;\n",
              "      border-right-color: var(--fill-color);\n",
              "    }\n",
              "    80% {\n",
              "      border-color: transparent;\n",
              "      border-right-color: var(--fill-color);\n",
              "      border-bottom-color: var(--fill-color);\n",
              "    }\n",
              "    90% {\n",
              "      border-color: transparent;\n",
              "      border-bottom-color: var(--fill-color);\n",
              "    }\n",
              "  }\n",
              "</style>\n",
              "\n",
              "  <script>\n",
              "    async function quickchart(key) {\n",
              "      const quickchartButtonEl =\n",
              "        document.querySelector('#' + key + ' button');\n",
              "      quickchartButtonEl.disabled = true;  // To prevent multiple clicks.\n",
              "      quickchartButtonEl.classList.add('colab-df-spinner');\n",
              "      try {\n",
              "        const charts = await google.colab.kernel.invokeFunction(\n",
              "            'suggestCharts', [key], {});\n",
              "      } catch (error) {\n",
              "        console.error('Error during call to suggestCharts:', error);\n",
              "      }\n",
              "      quickchartButtonEl.classList.remove('colab-df-spinner');\n",
              "      quickchartButtonEl.classList.add('colab-df-quickchart-complete');\n",
              "    }\n",
              "    (() => {\n",
              "      let quickchartButtonEl =\n",
              "        document.querySelector('#df-ac020af2-2765-435b-8aa6-be876c14e365 button');\n",
              "      quickchartButtonEl.style.display =\n",
              "        google.colab.kernel.accessAllowed ? 'block' : 'none';\n",
              "    })();\n",
              "  </script>\n",
              "</div>\n",
              "    </div>\n",
              "  </div>\n"
            ]
          },
          "metadata": {},
          "execution_count": 38
        }
      ],
      "source": [
        "environmental.describe()"
      ]
    },
    {
      "cell_type": "code",
      "execution_count": null,
      "id": "d0f77821-130d-4f5d-b92e-0ce89e6b3bcd",
      "metadata": {
        "id": "d0f77821-130d-4f5d-b92e-0ce89e6b3bcd",
        "colab": {
          "base_uri": "https://localhost:8080/"
        },
        "outputId": "c0ddd975-8f70-40a8-bd54-1541874be02b"
      },
      "outputs": [
        {
          "output_type": "execute_result",
          "data": {
            "text/plain": [
              "Identifier                                           object\n",
              "Maturity                                             object\n",
              "Physiological Condition                              object\n",
              "Tree Set To Be Removed                               object\n",
              "Removal Reason                                       object\n",
              "Capital Asset Value For Amenity Trees               float64\n",
              "Carbon Storage In Kilograms                         float64\n",
              "Gross Carbon Sequestration Per Year In Kilograms    float64\n",
              "Pollution Removal Per Year In Grams                 float64\n",
              "dtype: object"
            ]
          },
          "metadata": {},
          "execution_count": 39
        }
      ],
      "source": [
        "environmental.dtypes"
      ]
    },
    {
      "cell_type": "markdown",
      "id": "eb227586-d79a-46b9-a665-854b330a4c72",
      "metadata": {
        "id": "eb227586-d79a-46b9-a665-854b330a4c72"
      },
      "source": [
        "<hr/>\n",
        "\n",
        "Find out if floats are really floats or ints with nulls.\n",
        "\n",
        "<div style=\"background-color:lemonchiffon; border:1px solid; padding:5px; margin:5px; font-weight:bold\"><font color=\"crimson\">\n",
        "TODO: Enter your code below.  Use one code cell per column.   Add as many cells as you need.\n",
        "    </font></div>"
      ]
    },
    {
      "cell_type": "code",
      "execution_count": null,
      "id": "20d9ddc5-3be9-4836-bc1a-5974d9b6b6b8",
      "metadata": {
        "id": "20d9ddc5-3be9-4836-bc1a-5974d9b6b6b8",
        "colab": {
          "base_uri": "https://localhost:8080/"
        },
        "outputId": "43b79747-1508-424c-8745-42efb6b2cfc2"
      },
      "outputs": [
        {
          "output_type": "execute_result",
          "data": {
            "text/plain": [
              "array([1.1507000e+02, 7.5180800e+03, 2.0419630e+04, ..., 3.3664130e+04,\n",
              "       3.6269450e+04, 1.4801215e+05])"
            ]
          },
          "metadata": {},
          "execution_count": 40
        }
      ],
      "source": [
        "environmental[\"Capital Asset Value For Amenity Trees\"].unique()"
      ]
    },
    {
      "cell_type": "markdown",
      "source": [
        "Capital Asset Value For Amenity Trees are floats."
      ],
      "metadata": {
        "id": "bkrOM1Pn5U1c"
      },
      "id": "bkrOM1Pn5U1c"
    },
    {
      "cell_type": "code",
      "execution_count": null,
      "id": "0ac2cda7-cc1c-4a51-935e-033958ee9072",
      "metadata": {
        "id": "0ac2cda7-cc1c-4a51-935e-033958ee9072",
        "colab": {
          "base_uri": "https://localhost:8080/"
        },
        "outputId": "d0d87ecb-3024-4bfb-d423-69dc3665259d"
      },
      "outputs": [
        {
          "output_type": "execute_result",
          "data": {
            "text/plain": [
              "array([1.6000e+00,        nan, 4.2640e+02, ..., 4.7233e+03, 3.7305e+03,\n",
              "       4.8100e+02])"
            ]
          },
          "metadata": {},
          "execution_count": 41
        }
      ],
      "source": [
        "environmental[\"Carbon Storage In Kilograms\"].unique()"
      ]
    },
    {
      "cell_type": "markdown",
      "source": [
        "Carbon Storage In Kilograms are floats."
      ],
      "metadata": {
        "id": "-gcPoK1H5bI7"
      },
      "id": "-gcPoK1H5bI7"
    },
    {
      "cell_type": "code",
      "execution_count": null,
      "id": "5503930d-debf-40d0-b845-e00adc7ac40b",
      "metadata": {
        "id": "5503930d-debf-40d0-b845-e00adc7ac40b",
        "colab": {
          "base_uri": "https://localhost:8080/"
        },
        "outputId": "08fefba9-cc8a-4423-f874-120bdd49fe3d"
      },
      "outputs": [
        {
          "output_type": "execute_result",
          "data": {
            "text/plain": [
              "array([ 0.5,  nan,  8.8,  9.6,  1.4, 10.1,  0.8,  7.9, 24.2,  2.4,  0.9,\n",
              "        3. , 14.6,  8.1,  4.1,  1.8, 18.8, 24.4, 13.4,  4.3,  6.5,  1.3,\n",
              "        0.6,  2.5, 13.1,  2.1,  3.9, 15.9,  1. ,  6.6,  0.4,  3.4,  2.9,\n",
              "       28.7,  0.7,  1.5, 12.5, 25.4, 11.2,  9. , 23.9,  4.4, 11.5, 11. ,\n",
              "        8.4, 10.9, 10.7,  6.9,  7. ,  3.8,  3.2,  6.1,  8.6, 30.2,  3.7,\n",
              "       15. , 30.4,  7.6, 20.1, 10.2,  8.3, 39.9,  0.3,  4.9, 14.3, 13.5,\n",
              "       16.7,  8.9,  1.6,  4.2,  3.6,  4. ,  6.7,  0.1, 19.7, 24.6,  6.4,\n",
              "        5.4,  5.9, 12.2,  7.3, 13. ,  7.1, 36.9,  9.3, 18.2, 10. ,  4.7,\n",
              "        5. , 29.8, 17.8, 18.5, 17.6,  7.2,  4.8,  5.6,  5.3, 10.5, 12.9,\n",
              "        9.4,  7.8,  1.1, 19.2, 37.3,  2.7, 12.8, 17. , 15.5, 27.6, 34.2,\n",
              "        5.7,  5.8, 17.3, 20.4,  9.9, 15.6,  7.4, 11.8,  9.2,  2.6, 21.7,\n",
              "       11.3, 10.8, 29.4, 23.1, 26.5,  1.2, 10.6, 33.6, 23.6, 11.7, 17.4,\n",
              "       15.1, 16.6,  2.3, 13.3, 16.3, 18.3, 10.4, 19. ,  1.7,  3.3, 14.1,\n",
              "        5.5, 12.6, 14.5,  3.5,  8.7, 36.6, 17.7,  5.1, 21.1, 20.2,  7.7,\n",
              "       15.2,  7.5, 30.5, 13.8,  4.6, 39.2, 37.8, 13.2, 51. , 11.6,  6.8,\n",
              "       21. ,  5.2,  8. ,  4.5, 15.3, 13.7, 18. ,  6.3,  2. ,  2.8,  9.1,\n",
              "        6. , 12.4, 11.4, 18.6,  1.9, 23.5, 18.9, 26.2, 12.1, 41.7,  2.2,\n",
              "       14.7, 14.4,  9.7, 23. , 22.1, 15.7, 12. , 14.8, 19.9, 29.7, 11.1,\n",
              "       19.6, 12.7, 31.9, 33.2, 19.1,  6.2, 28.4, 27. , 17.5, 16.4, 27.7,\n",
              "       38.4, 43.9, 35.4,  8.2, 37.1, 29.5, 22.2, 17.1, 26.3, 21.2, 20.5,\n",
              "       11.9, 31.3, 14.2,  8.5, 26.8,  0.2, 16.8, 35.6, 20.8, 22.3, 19.4,\n",
              "       20. , 14. , 36.1, 20.9, 15.8, 14.9,  9.5, 28.3, 16.9,  3.1, 37.6,\n",
              "       34.7, 17.9, 35.3,  9.8, 16.5, 21.4, 19.3, 28.5, 29. , 33.5, 40.7,\n",
              "       28.6, 13.6, 27.1, 26.7, 13.9, 21.3, 23.8, 35.1, 40.5, 32.9, 18.1,\n",
              "       37. , 20.6, 35.2, 12.3, 41.8, 22.7, 21.5, 35.7, 32.4, 16.1, 31.1,\n",
              "       25.3, 26. , 23.4, 30.1, 42.1, 36.5, 10.3, 44.3, 16. , 23.2, 28.8,\n",
              "       21.9, 32. , 30.3, 15.4, 24.3, 26.9, 25.8, 28.2, 22.8, 42.3, 33.9,\n",
              "       25.6, 38.6, 18.4, 31.2, 32.7, 28. , 30.6, 42. , 27.3, 33.8, 21.6,\n",
              "       33.3, 35.9, 24. , 40.6, 42.7, 31.5, 22.5, 20.7, 33.1, 35.5, 27.5,\n",
              "       24.8, 26.4, 22.6, 18.7, 32.6, 36.4, 16.2, 38.5, 22.4, 22.9, 29.2,\n",
              "       25.9, 19.5, 24.5, 20.3, 27.9, 29.6, 25. , 27.4, 30.7, 25.1, 34.6,\n",
              "       38. , 34.4, 36.7, 34.1, 32.5, 27.8, 32.8, 43.1, 17.2, 37.5, 39.3,\n",
              "       29.1, 30.8, 34.8, 29.9, 38.3, 23.3, 21.8, 41.3, 38.7, 36.3, 30. ,\n",
              "       41.5, 37.2, 24.9, 19.8, 28.9, 42.2, 39.5, 31.8, 37.4, 24.1,  0. ,\n",
              "       37.7, 32.3, 36.8, 27.2, 24.7, 36.2, 39.7, 42.9, 49.5, 31.6, 38.9,\n",
              "       40.9, 44.2, 32.1, 42.5, 25.7, 35.8, 38.2, 40.8, 35. , 34. , 31.7,\n",
              "       40.1, 26.1, 25.2, 39. , 41.1, 33.4, 32.2, 43.3, 33.7, 26.6, 39.1,\n",
              "       41.4, 43.2, 31. , 41.9, 41. , 42.4, 43. , 40.3, 40.2, 29.3, 31.4,\n",
              "       22. , 42.8, 43.7, 23.7, 34.5, 41.6, 39.6, 39.8, 37.9, 43.8, 42.6,\n",
              "       41.2, 43.6, 36. , 39.4, 43.5, 25.5, 38.1, 34.9, 28.1, 43.4, 53.8,\n",
              "       30.9, 40.4, 34.3, 45.5, 52.7, 40. , 38.8, 44.9, 33. ])"
            ]
          },
          "metadata": {},
          "execution_count": 42
        }
      ],
      "source": [
        "environmental[\"Gross Carbon Sequestration Per Year In Kilograms\"].unique()"
      ]
    },
    {
      "cell_type": "markdown",
      "source": [
        "Gross Carbon Sequestration Per Year In Kilograms are floats."
      ],
      "metadata": {
        "id": "6m2Mo70S5i5F"
      },
      "id": "6m2Mo70S5i5F"
    },
    {
      "cell_type": "code",
      "execution_count": null,
      "id": "2a1ad19d-b9d9-4752-a876-c39121829f22",
      "metadata": {
        "id": "2a1ad19d-b9d9-4752-a876-c39121829f22",
        "colab": {
          "base_uri": "https://localhost:8080/"
        },
        "outputId": "9ad726de-db02-4bbb-c513-2516f5f48062"
      },
      "outputs": [
        {
          "output_type": "execute_result",
          "data": {
            "text/plain": [
              "array([  5.7,   nan, 215.2, ...,   8. , 399.9,  60.1])"
            ]
          },
          "metadata": {},
          "execution_count": 43
        }
      ],
      "source": [
        "environmental[\"Pollution Removal Per Year In Grams\"].unique()"
      ]
    },
    {
      "cell_type": "markdown",
      "source": [
        "Pollution Removal Per Year In Grams are floats."
      ],
      "metadata": {
        "id": "Edt0R1V35oFR"
      },
      "id": "Edt0R1V35oFR"
    },
    {
      "cell_type": "markdown",
      "id": "6d550cf1-defa-4c65-9fcf-7d334a0c8899",
      "metadata": {
        "id": "6d550cf1-defa-4c65-9fcf-7d334a0c8899"
      },
      "source": [
        "<hr/>"
      ]
    },
    {
      "cell_type": "markdown",
      "id": "8bda5350-317b-43c1-91b1-71aeedf06ed3",
      "metadata": {
        "id": "8bda5350-317b-43c1-91b1-71aeedf06ed3"
      },
      "source": [
        "\n",
        "Classify the columns as discrete or continuous.\n",
        "\n",
        "<div style=\"background-color:lemonchiffon; border:1px solid; padding:5px; margin:5px; font-weight:bold\"><font color=\"crimson\">\n",
        "TODO: Enter markdown below.\n",
        "    </font></div>\n"
      ]
    },
    {
      "cell_type": "markdown",
      "source": [
        "Capital Asset Value For Amenity Trees is continuous <br>   Carbon Storage In Kilograms is continuous. <br>         Gross Carbon Sequestration Per Year In Kilograms is continuous. <br>Pollution Removal Per Year In Grams is continuous."
      ],
      "metadata": {
        "id": "DLU7jfrD5quh"
      },
      "id": "DLU7jfrD5quh"
    },
    {
      "cell_type": "markdown",
      "id": "e90ac26a-3015-491c-9c5d-a0d1b47c1f94",
      "metadata": {
        "id": "e90ac26a-3015-491c-9c5d-a0d1b47c1f94"
      },
      "source": [
        "ENTER MARKDOWN HERE"
      ]
    },
    {
      "cell_type": "markdown",
      "id": "1467aacd-ee75-46c9-b1d9-753c78869723",
      "metadata": {
        "id": "1467aacd-ee75-46c9-b1d9-753c78869723"
      },
      "source": [
        "<hr/>"
      ]
    },
    {
      "cell_type": "markdown",
      "id": "5edacbd1-2ef6-4719-acc7-2d8f630d4195",
      "metadata": {
        "id": "5edacbd1-2ef6-4719-acc7-2d8f630d4195"
      },
      "source": [
        "### 3.3 Further Inspect the Common Names Dataset\n",
        "Now repeat the above for the common names dataset.\n",
        "\n",
        "#### 3.3.a (Names) Counts of Values for String Type Columns\n",
        "For each string column in the common names dataset show the counts of the unique values.\n",
        "\n",
        "<div style=\"background-color:lemonchiffon; border:1px solid; padding:5px; margin:5px; font-weight:bold\"><font color=\"crimson\">\n",
        "<font color=\"crimson\">TODO: Enter your code below.  Use one code cell per column and then add a markdown cell after each one to classify the column.  Add as many cells as you need.</font>\n",
        "    </font></div>\n"
      ]
    },
    {
      "cell_type": "code",
      "execution_count": null,
      "id": "ca5c98b7-a9c5-4ece-bb76-ed03a804525e",
      "metadata": {
        "id": "ca5c98b7-a9c5-4ece-bb76-ed03a804525e",
        "colab": {
          "base_uri": "https://localhost:8080/"
        },
        "outputId": "f027e0fb-61a1-4f5a-d2e3-5b72e2b0843d"
      },
      "outputs": [
        {
          "output_type": "execute_result",
          "data": {
            "text/plain": [
              "Scientific Name    object\n",
              "Common Name        object\n",
              "dtype: object"
            ]
          },
          "metadata": {},
          "execution_count": 44
        }
      ],
      "source": [
        "names.dtypes"
      ]
    },
    {
      "cell_type": "markdown",
      "source": [
        "**Scientific Name**"
      ],
      "metadata": {
        "id": "xRWMzytDl6zH"
      },
      "id": "xRWMzytDl6zH"
    },
    {
      "cell_type": "code",
      "execution_count": null,
      "id": "6e144307-026e-45ee-b0d2-025b7b5f3d9c",
      "metadata": {
        "id": "6e144307-026e-45ee-b0d2-025b7b5f3d9c",
        "colab": {
          "base_uri": "https://localhost:8080/"
        },
        "outputId": "09db0a43-d9e5-4997-c7fa-d5c99e514f57"
      },
      "outputs": [
        {
          "output_type": "execute_result",
          "data": {
            "text/plain": [
              "Scientific Name\n",
              "Pinus sylvestris                  2\n",
              "Sorbus intermedia                 2\n",
              "Castanea sativa                   2\n",
              "Salix fragilis                    2\n",
              "Salix caprea                      2\n",
              "                                 ..\n",
              "Fraxinus oxycarpa 'Raywood'       1\n",
              "Fraxinus ornus 'Meczek'           1\n",
              "Fraxinus ornus                    1\n",
              "Fraxinus excelsior 'Pendula'      1\n",
              "x Cupresocyparis leylandii 'Ca    1\n",
              "Length: 560, dtype: int64"
            ]
          },
          "metadata": {},
          "execution_count": 45
        }
      ],
      "source": [
        "names.value_counts(\"Scientific Name\")"
      ]
    },
    {
      "cell_type": "markdown",
      "source": [
        "Scientific Name is qualitative nominal. <br><br>\n",
        "**Common Name**"
      ],
      "metadata": {
        "id": "jpi6V7Bzl9wd"
      },
      "id": "jpi6V7Bzl9wd"
    },
    {
      "cell_type": "code",
      "execution_count": null,
      "id": "ff3758f5-ac62-45b0-a326-baa98b0a5625",
      "metadata": {
        "id": "ff3758f5-ac62-45b0-a326-baa98b0a5625",
        "colab": {
          "base_uri": "https://localhost:8080/"
        },
        "outputId": "ff7d699e-5140-44d0-dac5-321df772e0d3"
      },
      "outputs": [
        {
          "output_type": "execute_result",
          "data": {
            "text/plain": [
              "Common Name\n",
              "Cherry                            12\n",
              "Magnolia                          10\n",
              "Rowan                             10\n",
              "Vacant Tree Pit (planned: )       10\n",
              "Apple - Crab                       9\n",
              "                                  ..\n",
              "Horse Chestnut                     1\n",
              "Hornbeam - Japanese                1\n",
              "Hornbeam - Hop                     1\n",
              "Hornbeam - Fastigiate European     1\n",
              "Zelkova - Japanese                 1\n",
              "Length: 431, dtype: int64"
            ]
          },
          "metadata": {},
          "execution_count": 46
        }
      ],
      "source": [
        "names.value_counts(\"Common Name\")"
      ]
    },
    {
      "cell_type": "markdown",
      "source": [
        "Common Name is qualitative nominal."
      ],
      "metadata": {
        "id": "sAA6GcTGmRYJ"
      },
      "id": "sAA6GcTGmRYJ"
    },
    {
      "cell_type": "markdown",
      "id": "2778e230-5042-42eb-b51a-022a1c9710cc",
      "metadata": {
        "id": "2778e230-5042-42eb-b51a-022a1c9710cc"
      },
      "source": [
        "<hr/>\n"
      ]
    },
    {
      "cell_type": "markdown",
      "id": "8b9a614c-0c3f-41f1-9b30-7259bcb3a2d3",
      "metadata": {
        "id": "8b9a614c-0c3f-41f1-9b30-7259bcb3a2d3"
      },
      "source": [
        "#### 3.3.b (Names) Descriptive Stats for Numeric Type Columns\n",
        "There are no numeric columns."
      ]
    },
    {
      "cell_type": "markdown",
      "id": "8641574f-7ee8-4cac-98d9-4c33a54891af",
      "metadata": {
        "tags": [],
        "id": "8641574f-7ee8-4cac-98d9-4c33a54891af"
      },
      "source": [
        "## Task 4: Identify Missing Values\n",
        "Find the number of missing values in each column.  Missing values can indicate data quality issues.  Missing are nulls in our data.  But sometimes zero values indicate missing values.  For example, a zero value for a tree height is clearly not a valid valid, so should be considered missing.\n",
        "\n",
        "Use these functions to find rows that have missing and zero values:\n",
        "\n",
        "- [pandas.DataFrame.isnull](https://pandas.pydata.org/docs/reference/api/pandas.DataFrame.isnull.html)\n",
        "- [pandas.DataFrame.isin](https://pandas.pydata.org/docs/reference/api/pandas.DataFrame.isin.html)\n",
        "- [pandas.DataFrame.mean](https://pandas.pydata.org/pandas-docs/stable/reference/api/pandas.DataFrame.mean.html)\n",
        "- [pandas.DataFrame.sum](https://pandas.pydata.org/docs/reference/api/pandas.DataFrame.sum.html)\n",
        "\n",
        "As you go through this task, think about the possible impact of the missing values on the ability of the data to deliver on the council's initiatives.  There is no absolute answer to \"how many missing values is too many\".  It depends on the context of what you intend to do with the data.  Try to make an interpretation based on your understanding of the requirements."
      ]
    },
    {
      "cell_type": "markdown",
      "id": "5ee7f2e0-20bf-4249-9f5d-57ab6cc0fa30",
      "metadata": {
        "id": "5ee7f2e0-20bf-4249-9f5d-57ab6cc0fa30"
      },
      "source": [
        "### 4.1 Missing Values for the Trees Dataset\n",
        "I've shown you how to do this for the trees dataset."
      ]
    },
    {
      "cell_type": "code",
      "execution_count": null,
      "id": "0bd1e712-9211-44f8-a22c-fb1df46c1961",
      "metadata": {
        "id": "0bd1e712-9211-44f8-a22c-fb1df46c1961",
        "colab": {
          "base_uri": "https://localhost:8080/"
        },
        "outputId": "eedc6801-0d04-44df-bf33-0a37184eb163"
      },
      "outputs": [
        {
          "output_type": "execute_result",
          "data": {
            "text/plain": [
              "Identifier                                  0.000000\n",
              "Number Of Trees                             0.093841\n",
              "Site Name                                   0.000000\n",
              "Contract Area                               0.000000\n",
              "Scientific Name                             0.000000\n",
              "Inspection Date                             1.710459\n",
              "Inspection Due Date                         1.710459\n",
              "Height In Metres                            1.868282\n",
              "Spread In Metres                            1.868282\n",
              "Diameter In Centimetres At Breast Height    1.872547\n",
              "Ward Code                                   0.963999\n",
              "Ward Name                                   0.963999\n",
              "Easting                                     0.000000\n",
              "Northing                                    0.000000\n",
              "Longitude                                   0.238867\n",
              "Latitude                                    0.238867\n",
              "Location                                    0.238867\n",
              "dtype: float64"
            ]
          },
          "metadata": {},
          "execution_count": 47
        }
      ],
      "source": [
        "# Percentage of null values\n",
        "trees.isnull().mean()*100"
      ]
    },
    {
      "cell_type": "code",
      "execution_count": null,
      "id": "afbf5093-5716-440a-8f89-eeb6a5d66662",
      "metadata": {
        "id": "afbf5093-5716-440a-8f89-eeb6a5d66662",
        "colab": {
          "base_uri": "https://localhost:8080/"
        },
        "outputId": "6174fe88-339e-45a6-bf6c-303eff80d3c5"
      },
      "outputs": [
        {
          "output_type": "execute_result",
          "data": {
            "text/plain": [
              "Identifier                                    0\n",
              "Number Of Trees                              22\n",
              "Site Name                                     0\n",
              "Contract Area                                 0\n",
              "Scientific Name                               0\n",
              "Inspection Date                             401\n",
              "Inspection Due Date                         401\n",
              "Height In Metres                            438\n",
              "Spread In Metres                            438\n",
              "Diameter In Centimetres At Breast Height    439\n",
              "Ward Code                                   226\n",
              "Ward Name                                   226\n",
              "Easting                                       0\n",
              "Northing                                      0\n",
              "Longitude                                    56\n",
              "Latitude                                     56\n",
              "Location                                     56\n",
              "dtype: int64"
            ]
          },
          "metadata": {},
          "execution_count": 48
        }
      ],
      "source": [
        "# Number of null values\n",
        "trees.isnull().sum()"
      ]
    },
    {
      "cell_type": "code",
      "execution_count": null,
      "id": "cde99d54-297d-41d8-954d-94ba2e08a2c5",
      "metadata": {
        "id": "cde99d54-297d-41d8-954d-94ba2e08a2c5",
        "colab": {
          "base_uri": "https://localhost:8080/"
        },
        "outputId": "17ef1a80-41d5-46ff-998f-ec63d940cce9"
      },
      "outputs": [
        {
          "output_type": "execute_result",
          "data": {
            "text/plain": [
              "Identifier                                  0.000000\n",
              "Number Of Trees                             0.396690\n",
              "Site Name                                   0.000000\n",
              "Contract Area                               0.000000\n",
              "Scientific Name                             0.000000\n",
              "Inspection Date                             0.000000\n",
              "Inspection Due Date                         0.000000\n",
              "Height In Metres                            0.733663\n",
              "Spread In Metres                            1.181539\n",
              "Diameter In Centimetres At Breast Height    1.164477\n",
              "Ward Code                                   0.000000\n",
              "Ward Name                                   0.000000\n",
              "Easting                                     0.238867\n",
              "Northing                                    0.238867\n",
              "Longitude                                   0.000000\n",
              "Latitude                                    0.000000\n",
              "Location                                    0.000000\n",
              "dtype: float64"
            ]
          },
          "metadata": {},
          "execution_count": 49
        }
      ],
      "source": [
        "# Percentage of zero values\n",
        "trees.isin([0]).mean()*100"
      ]
    },
    {
      "cell_type": "code",
      "execution_count": null,
      "id": "d0947b5d-8978-46d8-8d57-252d29c25ca8",
      "metadata": {
        "id": "d0947b5d-8978-46d8-8d57-252d29c25ca8",
        "colab": {
          "base_uri": "https://localhost:8080/"
        },
        "outputId": "08ac1254-d79a-4443-eb1d-3f910eae4020"
      },
      "outputs": [
        {
          "output_type": "execute_result",
          "data": {
            "text/plain": [
              "Identifier                                    0\n",
              "Number Of Trees                              93\n",
              "Site Name                                     0\n",
              "Contract Area                                 0\n",
              "Scientific Name                               0\n",
              "Inspection Date                               0\n",
              "Inspection Due Date                           0\n",
              "Height In Metres                            172\n",
              "Spread In Metres                            277\n",
              "Diameter In Centimetres At Breast Height    273\n",
              "Ward Code                                     0\n",
              "Ward Name                                     0\n",
              "Easting                                      56\n",
              "Northing                                     56\n",
              "Longitude                                     0\n",
              "Latitude                                      0\n",
              "Location                                      0\n",
              "dtype: int64"
            ]
          },
          "metadata": {},
          "execution_count": 50
        }
      ],
      "source": [
        "# Number of zero values\n",
        "trees.isin([0]).sum()"
      ]
    },
    {
      "cell_type": "code",
      "execution_count": null,
      "id": "de03ea2b-8ea2-48ff-b620-d9fd16290c7b",
      "metadata": {
        "id": "de03ea2b-8ea2-48ff-b620-d9fd16290c7b",
        "colab": {
          "base_uri": "https://localhost:8080/"
        },
        "outputId": "895c9f7d-885e-41a5-ef10-bc0d560a78f4"
      },
      "outputs": [
        {
          "output_type": "execute_result",
          "data": {
            "text/plain": [
              "Identifier                                  0.000000\n",
              "Number Of Trees                             0.004905\n",
              "Site Name                                   0.000000\n",
              "Contract Area                               0.000000\n",
              "Scientific Name                             0.000000\n",
              "Inspection Date                             0.017105\n",
              "Inspection Due Date                         0.017105\n",
              "Height In Metres                            0.026019\n",
              "Spread In Metres                            0.030498\n",
              "Diameter In Centimetres At Breast Height    0.030370\n",
              "Ward Code                                   0.009640\n",
              "Ward Name                                   0.009640\n",
              "Easting                                     0.002389\n",
              "Northing                                    0.002389\n",
              "Longitude                                   0.002389\n",
              "Latitude                                    0.002389\n",
              "Location                                    0.002389\n",
              "dtype: float64"
            ]
          },
          "metadata": {},
          "execution_count": 51
        }
      ],
      "source": [
        "# Percentage of null and zero values\n",
        "(trees.isnull().sum() + trees.isin([0]).sum())/trees.shape[0]"
      ]
    },
    {
      "cell_type": "code",
      "execution_count": null,
      "id": "f43e38e0-00c6-4ebd-9899-8f91557becb7",
      "metadata": {
        "id": "f43e38e0-00c6-4ebd-9899-8f91557becb7",
        "colab": {
          "base_uri": "https://localhost:8080/"
        },
        "outputId": "05824bdb-1bf3-4d9a-d741-af707025f916"
      },
      "outputs": [
        {
          "output_type": "execute_result",
          "data": {
            "text/plain": [
              "Identifier                                    0\n",
              "Number Of Trees                             115\n",
              "Site Name                                     0\n",
              "Contract Area                                 0\n",
              "Scientific Name                               0\n",
              "Inspection Date                             401\n",
              "Inspection Due Date                         401\n",
              "Height In Metres                            610\n",
              "Spread In Metres                            715\n",
              "Diameter In Centimetres At Breast Height    712\n",
              "Ward Code                                   226\n",
              "Ward Name                                   226\n",
              "Easting                                      56\n",
              "Northing                                     56\n",
              "Longitude                                    56\n",
              "Latitude                                     56\n",
              "Location                                     56\n",
              "dtype: int64"
            ]
          },
          "metadata": {},
          "execution_count": 52
        }
      ],
      "source": [
        "# Number of null and zero values\n",
        "(trees.isnull().sum() + trees.isin([0]).sum())"
      ]
    },
    {
      "cell_type": "markdown",
      "id": "a7416001-4d63-4bd5-9bea-2412d322ed88",
      "metadata": {
        "id": "a7416001-4d63-4bd5-9bea-2412d322ed88"
      },
      "source": [
        "### 4.2 Missing Values for the Environmental Dataset\n",
        "Now repeat the missing values check for the environmental dataset.\n",
        "\n",
        "<div style=\"background-color:lemonchiffon; border:1px solid; padding:5px; margin:5px; font-weight:bold\"><font color=\"crimson\">\n",
        "TODO: Complete the following code cells\n",
        "    </font></div>"
      ]
    },
    {
      "cell_type": "code",
      "execution_count": null,
      "id": "45971fda-0b80-4652-bc63-ed8baeaad087",
      "metadata": {
        "id": "45971fda-0b80-4652-bc63-ed8baeaad087",
        "colab": {
          "base_uri": "https://localhost:8080/"
        },
        "outputId": "41330951-e108-494f-eed5-d1e3a2b8e4cc"
      },
      "outputs": [
        {
          "output_type": "execute_result",
          "data": {
            "text/plain": [
              "Identifier                                           0.000000\n",
              "Maturity                                             1.746744\n",
              "Physiological Condition                              2.015802\n",
              "Tree Set To Be Removed                               0.000000\n",
              "Removal Reason                                      99.641256\n",
              "Capital Asset Value For Amenity Trees                1.849242\n",
              "Carbon Storage In Kilograms                         12.214392\n",
              "Gross Carbon Sequestration Per Year In Kilograms    12.214392\n",
              "Pollution Removal Per Year In Grams                 12.214392\n",
              "dtype: float64"
            ]
          },
          "metadata": {},
          "execution_count": 53
        }
      ],
      "source": [
        "# Percentage of null values\n",
        "environmental.isnull().mean()*100"
      ]
    },
    {
      "cell_type": "code",
      "execution_count": null,
      "id": "35471141-aca6-453d-afc8-babde8975f14",
      "metadata": {
        "id": "35471141-aca6-453d-afc8-babde8975f14",
        "colab": {
          "base_uri": "https://localhost:8080/"
        },
        "outputId": "71a40496-906a-4e57-ec65-c386913aa8fd"
      },
      "outputs": [
        {
          "output_type": "execute_result",
          "data": {
            "text/plain": [
              "Identifier                                              0\n",
              "Maturity                                              409\n",
              "Physiological Condition                               472\n",
              "Tree Set To Be Removed                                  0\n",
              "Removal Reason                                      23331\n",
              "Capital Asset Value For Amenity Trees                 433\n",
              "Carbon Storage In Kilograms                          2860\n",
              "Gross Carbon Sequestration Per Year In Kilograms     2860\n",
              "Pollution Removal Per Year In Grams                  2860\n",
              "dtype: int64"
            ]
          },
          "metadata": {},
          "execution_count": 54
        }
      ],
      "source": [
        "# Number of null values\n",
        "environmental.isnull().sum()"
      ]
    },
    {
      "cell_type": "code",
      "execution_count": null,
      "id": "333f86d0-8443-48b5-ba17-6bb91cfd1190",
      "metadata": {
        "id": "333f86d0-8443-48b5-ba17-6bb91cfd1190",
        "colab": {
          "base_uri": "https://localhost:8080/"
        },
        "outputId": "82094e34-e57a-419a-96cc-85be7dd8fee2"
      },
      "outputs": [
        {
          "output_type": "execute_result",
          "data": {
            "text/plain": [
              "Identifier                                          0.000000\n",
              "Maturity                                            0.000000\n",
              "Physiological Condition                             0.000000\n",
              "Tree Set To Be Removed                              0.000000\n",
              "Removal Reason                                      0.000000\n",
              "Capital Asset Value For Amenity Trees               1.183002\n",
              "Carbon Storage In Kilograms                         0.000000\n",
              "Gross Carbon Sequestration Per Year In Kilograms    0.025625\n",
              "Pollution Removal Per Year In Grams                 0.000000\n",
              "dtype: float64"
            ]
          },
          "metadata": {},
          "execution_count": 55
        }
      ],
      "source": [
        "# Percentage of zero values\n",
        "environmental.isin([0]).mean()*100"
      ]
    },
    {
      "cell_type": "code",
      "execution_count": null,
      "id": "809d3c20-113f-4665-b18d-cbdaa07b613c",
      "metadata": {
        "id": "809d3c20-113f-4665-b18d-cbdaa07b613c",
        "colab": {
          "base_uri": "https://localhost:8080/"
        },
        "outputId": "8b9b90b5-f00a-43ba-c9dd-39623a62bc7b"
      },
      "outputs": [
        {
          "output_type": "execute_result",
          "data": {
            "text/plain": [
              "Identifier                                            0\n",
              "Maturity                                              0\n",
              "Physiological Condition                               0\n",
              "Tree Set To Be Removed                                0\n",
              "Removal Reason                                        0\n",
              "Capital Asset Value For Amenity Trees               277\n",
              "Carbon Storage In Kilograms                           0\n",
              "Gross Carbon Sequestration Per Year In Kilograms      6\n",
              "Pollution Removal Per Year In Grams                   0\n",
              "dtype: int64"
            ]
          },
          "metadata": {},
          "execution_count": 56
        }
      ],
      "source": [
        "# Number of zero values\n",
        "environmental.isin([0]).sum()"
      ]
    },
    {
      "cell_type": "code",
      "execution_count": null,
      "id": "bbada47a-e7aa-43be-bfca-624feda60cb7",
      "metadata": {
        "id": "bbada47a-e7aa-43be-bfca-624feda60cb7",
        "colab": {
          "base_uri": "https://localhost:8080/"
        },
        "outputId": "72903181-6946-4b9f-b61c-6d39c485aa04"
      },
      "outputs": [
        {
          "output_type": "execute_result",
          "data": {
            "text/plain": [
              "Identifier                                           0.000000\n",
              "Maturity                                             1.746744\n",
              "Physiological Condition                              2.015802\n",
              "Tree Set To Be Removed                               0.000000\n",
              "Removal Reason                                      99.641256\n",
              "Capital Asset Value For Amenity Trees                3.032244\n",
              "Carbon Storage In Kilograms                         12.214392\n",
              "Gross Carbon Sequestration Per Year In Kilograms    12.240017\n",
              "Pollution Removal Per Year In Grams                 12.214392\n",
              "dtype: float64"
            ]
          },
          "metadata": {},
          "execution_count": 57
        }
      ],
      "source": [
        "# Percentage of null and zero values\n",
        "(environmental.isnull().sum() + environmental.isin([0]).sum())/environmental.shape[0]*100"
      ]
    },
    {
      "cell_type": "code",
      "execution_count": null,
      "id": "27dcd851-d4a3-4014-9167-9330c033738d",
      "metadata": {
        "id": "27dcd851-d4a3-4014-9167-9330c033738d",
        "colab": {
          "base_uri": "https://localhost:8080/"
        },
        "outputId": "21d3a541-94d8-4346-b1ae-3e8985253097"
      },
      "outputs": [
        {
          "output_type": "execute_result",
          "data": {
            "text/plain": [
              "Identifier                                              0\n",
              "Maturity                                              409\n",
              "Physiological Condition                               472\n",
              "Tree Set To Be Removed                                  0\n",
              "Removal Reason                                      23331\n",
              "Capital Asset Value For Amenity Trees                 710\n",
              "Carbon Storage In Kilograms                          2860\n",
              "Gross Carbon Sequestration Per Year In Kilograms     2866\n",
              "Pollution Removal Per Year In Grams                  2860\n",
              "dtype: int64"
            ]
          },
          "metadata": {},
          "execution_count": 58
        }
      ],
      "source": [
        "# Number of null and zero values\n",
        "environmental.isnull().sum() + environmental.isin([0]).sum()"
      ]
    },
    {
      "cell_type": "markdown",
      "id": "cc5e09d4-fc27-454c-8462-f918e46a241e",
      "metadata": {
        "id": "cc5e09d4-fc27-454c-8462-f918e46a241e"
      },
      "source": [
        "<hr/>"
      ]
    },
    {
      "cell_type": "markdown",
      "id": "86bc5c0f-498e-47f1-b993-5ae66b325fc1",
      "metadata": {
        "id": "86bc5c0f-498e-47f1-b993-5ae66b325fc1"
      },
      "source": [
        "### 4.3 Missing Values for the Common Names Dataset\n",
        "Now repeat the missing values check for the common names dataset.\n",
        "\n",
        "<div style=\"background-color:lemonchiffon; border:1px solid; padding:5px; margin:5px; font-weight:bold\"><font color=\"crimson\">\n",
        "TODO: Enter your code below.  Add as many cells as you need.\n",
        "    </font></div>"
      ]
    },
    {
      "cell_type": "code",
      "source": [
        "# Percentage of null values\n",
        "names.isnull().mean()*100"
      ],
      "metadata": {
        "colab": {
          "base_uri": "https://localhost:8080/"
        },
        "id": "uK4gTX59pzVM",
        "outputId": "2ed476d4-feb1-4a99-9d86-d1b1bef78aef"
      },
      "id": "uK4gTX59pzVM",
      "execution_count": null,
      "outputs": [
        {
          "output_type": "execute_result",
          "data": {
            "text/plain": [
              "Scientific Name    0.000000\n",
              "Common Name        4.074703\n",
              "dtype: float64"
            ]
          },
          "metadata": {},
          "execution_count": 59
        }
      ]
    },
    {
      "cell_type": "code",
      "source": [
        "# Number of null values\n",
        "names.isnull().sum()"
      ],
      "metadata": {
        "colab": {
          "base_uri": "https://localhost:8080/"
        },
        "id": "nlrAd09gpbHY",
        "outputId": "7ee7955d-938e-4699-e92f-75079907075d"
      },
      "id": "nlrAd09gpbHY",
      "execution_count": null,
      "outputs": [
        {
          "output_type": "execute_result",
          "data": {
            "text/plain": [
              "Scientific Name     0\n",
              "Common Name        24\n",
              "dtype: int64"
            ]
          },
          "metadata": {},
          "execution_count": 60
        }
      ]
    },
    {
      "cell_type": "code",
      "source": [
        "# Percentage of zero values\n",
        "names.isin([0]).mean()*100"
      ],
      "metadata": {
        "colab": {
          "base_uri": "https://localhost:8080/"
        },
        "id": "KpybUuOEpa4I",
        "outputId": "6259346b-35b3-4219-d9ef-083f4948b799"
      },
      "id": "KpybUuOEpa4I",
      "execution_count": null,
      "outputs": [
        {
          "output_type": "execute_result",
          "data": {
            "text/plain": [
              "Scientific Name    0.0\n",
              "Common Name        0.0\n",
              "dtype: float64"
            ]
          },
          "metadata": {},
          "execution_count": 61
        }
      ]
    },
    {
      "cell_type": "code",
      "source": [
        "# Number of zero values\n",
        "names.isin([0]).sum()"
      ],
      "metadata": {
        "colab": {
          "base_uri": "https://localhost:8080/"
        },
        "id": "vcZsPXzVpaaM",
        "outputId": "4a1c5eae-2723-4ea7-d90d-939fb4740193"
      },
      "id": "vcZsPXzVpaaM",
      "execution_count": null,
      "outputs": [
        {
          "output_type": "execute_result",
          "data": {
            "text/plain": [
              "Scientific Name    0\n",
              "Common Name        0\n",
              "dtype: int64"
            ]
          },
          "metadata": {},
          "execution_count": 62
        }
      ]
    },
    {
      "cell_type": "code",
      "execution_count": null,
      "id": "84581b31-98a4-4b20-a7b3-af1685cf0131",
      "metadata": {
        "id": "84581b31-98a4-4b20-a7b3-af1685cf0131",
        "colab": {
          "base_uri": "https://localhost:8080/"
        },
        "outputId": "d1e54917-fbff-4d4b-966b-b14c5120adda"
      },
      "outputs": [
        {
          "output_type": "execute_result",
          "data": {
            "text/plain": [
              "Scientific Name    0.000000\n",
              "Common Name        4.074703\n",
              "dtype: float64"
            ]
          },
          "metadata": {},
          "execution_count": 63
        }
      ],
      "source": [
        "# Percentage of null and zero values\n",
        "(names.isnull().sum() + names.isin([0]).sum())/names.shape[0]*100"
      ]
    },
    {
      "cell_type": "code",
      "execution_count": null,
      "id": "b881b1d4-661d-46f6-943a-a5037f98facb",
      "metadata": {
        "id": "b881b1d4-661d-46f6-943a-a5037f98facb",
        "colab": {
          "base_uri": "https://localhost:8080/"
        },
        "outputId": "52e45ee5-2229-4541-cec9-da70520932c8"
      },
      "outputs": [
        {
          "output_type": "execute_result",
          "data": {
            "text/plain": [
              "Scientific Name     0\n",
              "Common Name        24\n",
              "dtype: int64"
            ]
          },
          "metadata": {},
          "execution_count": 64
        }
      ],
      "source": [
        "# Number of null and zero values\n",
        "names.isnull().sum() + names.isin([0]).sum()"
      ]
    },
    {
      "cell_type": "markdown",
      "id": "fe30f689-88b0-4526-abae-1e19a320acf9",
      "metadata": {
        "id": "fe30f689-88b0-4526-abae-1e19a320acf9"
      },
      "source": [
        "<hr/>\n",
        "\n",
        "### 4.4 Observations\n",
        "\n",
        "<div style=\"background-color:lemonchiffon; border:1px solid; padding:5px; margin:5px; font-weight:bold\"><font color=\"crimson\">\n",
        "TODO: Write down your observation about the state of missing values below and comment on the extent to which this might impact the ability to deliver on the council's initiatives.\n",
        "    </font></div>\n"
      ]
    },
    {
      "cell_type": "markdown",
      "id": "ec7ce6ee-8fd6-446a-a63a-08babd1e0390",
      "metadata": {
        "id": "ec7ce6ee-8fd6-446a-a63a-08babd1e0390"
      },
      "source": [
        "In the trees column, it is appropriate to have null values in the 'Inspection Date' and the 'Inspection Due Date' as they are string columns, however, the remaining columns appear to be numeric hence the null values should be 0.\n",
        "\n",
        "The environmental data has the highest amount of missing values with the highest number being 23331 for a column. This particular column is 'Removal Reason' which seems to be null or zero if the previous column 'Tree Set To Be Removed' is 'No' which makes sense, therefore, this shouldn't have any impact on the ability to deliver on the council's initiatives.\n",
        "\n",
        "The last three columns in the environmental table have 2860 null values each. The columns are 'Carbon Storage In Kilograms', 'Gross Carbon Sequestration Per Year In Kilograms' and 'Pollution Removal Per Year In Grams'. As the datatype for these are numeric, it would be better to replace these null values with 0 to be accounted for in analysis.                    \n",
        "\n",
        "Common Names table has no null or zero values in the first column 'Scientific Name' but 24 in the seconf column 'Common Name'. This is insignificant given there are 588 rows. Also, the 24 null values indicate that there are no common names for the respective scientific name."
      ]
    },
    {
      "cell_type": "markdown",
      "id": "a4094437-06e3-4376-9c94-14e30a910c36",
      "metadata": {
        "id": "a4094437-06e3-4376-9c94-14e30a910c36"
      },
      "source": [
        "\n",
        "<hr/>"
      ]
    },
    {
      "cell_type": "markdown",
      "id": "33d42c68-e660-4892-b2de-0552a062c7ff",
      "metadata": {
        "tags": [],
        "id": "33d42c68-e660-4892-b2de-0552a062c7ff"
      },
      "source": [
        "## Task 5: Identify Outliers in the Trees Dimensions\n",
        "Outliers are values that are so unusual they are possibly incorrect!  We can use a boxplot to show the spread of data and any outliers.  Read the following section if you are unfamiliar with them:\n",
        "\n",
        "- [Box plots](https://openclassrooms.com/en/courses/6037301-perform-an-initial-data-analysis/6052306-calculate-the-value-spread-in-your-data#/id/r-6133902)\n",
        "\n",
        "Any circles represent what the boxplot considers outliers, but some of these might just be correct but extreme values.  We want to only highlight really *crazy* values which are clearly incorrect.\n",
        "\n",
        "We can use this function to draw boxplots:\n",
        "\n",
        "- [pandas.DataFrame.boxplot](https://pandas.pydata.org/pandas-docs/stable/reference/api/pandas.DataFrame.plot.html)\n",
        "\n",
        "Once we have found if there are outliers, it would be nice to show the rows containing the outliers.  The technique for filtering Pandas DataFrames is described here:\n",
        "\n",
        "- [Filtering Pandas DataFrames](https://pandas.pydata.org/pandas-docs/stable/getting_started/intro_tutorials/03_subset_data.html)\n",
        "\n",
        "The filtering technique creates a mask of rows that we want to select, e.g:\n",
        "\n",
        "`mask = df['mycolumn'] > 500`\n",
        "\n",
        "and then uses the mask to select rows:\n",
        "\n",
        "`df[mask]`\n",
        "\n",
        "Note that there is no absolute definition of what \"crazy\" means here.  You will need to make some judgements based on your understanding of the world (or specifically the world of trees in Camden!)."
      ]
    },
    {
      "cell_type": "markdown",
      "id": "52de8466-d0ed-4c29-af9a-bf7c79b80c09",
      "metadata": {
        "id": "52de8466-d0ed-4c29-af9a-bf7c79b80c09"
      },
      "source": [
        "### 5.1 Outliers for Height\n",
        "Find the outliers in the tree height column.\n",
        "<div style=\"background-color:lemonchiffon; border:1px solid; padding:5px; margin:5px; font-weight:bold\"><font color=\"crimson\">\n",
        "TODO: Complete the following code cells\n",
        "    </font></div>"
      ]
    },
    {
      "cell_type": "code",
      "execution_count": null,
      "id": "ecaa87b9-9558-4fd6-8383-3a8046d26a5c",
      "metadata": {
        "id": "ecaa87b9-9558-4fd6-8383-3a8046d26a5c",
        "colab": {
          "base_uri": "https://localhost:8080/",
          "height": 469
        },
        "outputId": "51e74b5b-1247-4ba6-913c-5e2dc60b694a"
      },
      "outputs": [
        {
          "output_type": "execute_result",
          "data": {
            "text/plain": [
              "<Axes: title={'center': 'Boxplot of Height In Metres'}>"
            ]
          },
          "metadata": {},
          "execution_count": 65
        },
        {
          "output_type": "display_data",
          "data": {
            "text/plain": [
              "<Figure size 640x480 with 1 Axes>"
            ],
            "image/png": "[encoded data removed]"
          },
          "metadata": {}
        }
      ],
      "source": [
        "# Use a boxplot to find the outliers\n",
        "trees.plot.box(column = \"Height In Metres\", title = \"Boxplot of Height In Metres\")\n"
      ]
    },
    {
      "cell_type": "code",
      "execution_count": null,
      "id": "7a614957-0a50-41f2-bebd-ca48e3660674",
      "metadata": {
        "id": "7a614957-0a50-41f2-bebd-ca48e3660674",
        "colab": {
          "base_uri": "https://localhost:8080/",
          "height": 250
        },
        "outputId": "b8bd73d8-ae5f-4b44-cef9-dbedff0e888c"
      },
      "outputs": [
        {
          "output_type": "execute_result",
          "data": {
            "text/plain": [
              "     Identifier  Number Of Trees               Site Name Contract Area  \\\n",
              "1356   00001547              1.0    Beaumont Walk Estate       Housing   \n",
              "1863   00013862              1.0  Maitland Park Estate 1       Housing   \n",
              "\n",
              "           Scientific Name Inspection Date Inspection Due Date  \\\n",
              "1356  Robinia pseudoacacia      2017-05-23           2020/2021   \n",
              "1863          Prunus avium      2017-05-16           2020/2021   \n",
              "\n",
              "      Height In Metres  Spread In Metres  \\\n",
              "1356              96.0              10.0   \n",
              "1863             127.0               9.0   \n",
              "\n",
              "      Diameter In Centimetres At Breast Height  Ward Code   Ward Name  \\\n",
              "1356                                      63.0  E05000136  Haverstock   \n",
              "1863                                      34.0  E05000136  Haverstock   \n",
              "\n",
              "      Easting  Northing  Longitude   Latitude                Location  \n",
              "1356   527847    184391  -0.157739  51.543941  (51.543941, -0.157739)  \n",
              "1863   527987    184901  -0.155534  51.548497  (51.548497, -0.155534)  "
            ],
            "text/html": [
              "\n",
              "  <div id=\"df-830297b7-f3f5-4de4-bcca-346664655919\" class=\"colab-df-container\">\n",
              "    <div>\n",
              "<style scoped>\n",
              "    .dataframe tbody tr th:only-of-type {\n",
              "        vertical-align: middle;\n",
              "    }\n",
              "\n",
              "    .dataframe tbody tr th {\n",
              "        vertical-align: top;\n",
              "    }\n",
              "\n",
              "    .dataframe thead th {\n",
              "        text-align: right;\n",
              "    }\n",
              "</style>\n",
              "<table border=\"1\" class=\"dataframe\">\n",
              "  <thead>\n",
              "    <tr style=\"text-align: right;\">\n",
              "      <th></th>\n",
              "      <th>Identifier</th>\n",
              "      <th>Number Of Trees</th>\n",
              "      <th>Site Name</th>\n",
              "      <th>Contract Area</th>\n",
              "      <th>Scientific Name</th>\n",
              "      <th>Inspection Date</th>\n",
              "      <th>Inspection Due Date</th>\n",
              "      <th>Height In Metres</th>\n",
              "      <th>Spread In Metres</th>\n",
              "      <th>Diameter In Centimetres At Breast Height</th>\n",
              "      <th>Ward Code</th>\n",
              "      <th>Ward Name</th>\n",
              "      <th>Easting</th>\n",
              "      <th>Northing</th>\n",
              "      <th>Longitude</th>\n",
              "      <th>Latitude</th>\n",
              "      <th>Location</th>\n",
              "    </tr>\n",
              "  </thead>\n",
              "  <tbody>\n",
              "    <tr>\n",
              "      <th>1356</th>\n",
              "      <td>00001547</td>\n",
              "      <td>1.0</td>\n",
              "      <td>Beaumont Walk Estate</td>\n",
              "      <td>Housing</td>\n",
              "      <td>Robinia pseudoacacia</td>\n",
              "      <td>2017-05-23</td>\n",
              "      <td>2020/2021</td>\n",
              "      <td>96.0</td>\n",
              "      <td>10.0</td>\n",
              "      <td>63.0</td>\n",
              "      <td>E05000136</td>\n",
              "      <td>Haverstock</td>\n",
              "      <td>527847</td>\n",
              "      <td>184391</td>\n",
              "      <td>-0.157739</td>\n",
              "      <td>51.543941</td>\n",
              "      <td>(51.543941, -0.157739)</td>\n",
              "    </tr>\n",
              "    <tr>\n",
              "      <th>1863</th>\n",
              "      <td>00013862</td>\n",
              "      <td>1.0</td>\n",
              "      <td>Maitland Park Estate 1</td>\n",
              "      <td>Housing</td>\n",
              "      <td>Prunus avium</td>\n",
              "      <td>2017-05-16</td>\n",
              "      <td>2020/2021</td>\n",
              "      <td>127.0</td>\n",
              "      <td>9.0</td>\n",
              "      <td>34.0</td>\n",
              "      <td>E05000136</td>\n",
              "      <td>Haverstock</td>\n",
              "      <td>527987</td>\n",
              "      <td>184901</td>\n",
              "      <td>-0.155534</td>\n",
              "      <td>51.548497</td>\n",
              "      <td>(51.548497, -0.155534)</td>\n",
              "    </tr>\n",
              "  </tbody>\n",
              "</table>\n",
              "</div>\n",
              "    <div class=\"colab-df-buttons\">\n",
              "\n",
              "  <div class=\"colab-df-container\">\n",
              "    <button class=\"colab-df-convert\" onclick=\"convertToInteractive('df-830297b7-f3f5-4de4-bcca-346664655919')\"\n",
              "            title=\"Convert this dataframe to an interactive table.\"\n",
              "            style=\"display:none;\">\n",
              "\n",
              "  <svg xmlns=\"http://www.w3.org/2000/svg\" height=\"24px\" viewBox=\"0 -960 960 960\">\n",
              "    <path d=\"M120-120v-720h720v720H120Zm60-500h600v-160H180v160Zm220 220h160v-160H400v160Zm0 220h160v-160H400v160ZM180-400h160v-160H180v160Zm440 0h160v-160H620v160ZM180-180h160v-160H180v160Zm440 0h160v-160H620v160Z\"/>\n",
              "  </svg>\n",
              "    </button>\n",
              "\n",
              "  <style>\n",
              "    .colab-df-container {\n",
              "      display:flex;\n",
              "      gap: 12px;\n",
              "    }\n",
              "\n",
              "    .colab-df-convert {\n",
              "      background-color: #E8F0FE;\n",
              "      border: none;\n",
              "      border-radius: 50%;\n",
              "      cursor: pointer;\n",
              "      display: none;\n",
              "      fill: #1967D2;\n",
              "      height: 32px;\n",
              "      padding: 0 0 0 0;\n",
              "      width: 32px;\n",
              "    }\n",
              "\n",
              "    .colab-df-convert:hover {\n",
              "      background-color: #E2EBFA;\n",
              "      box-shadow: 0px 1px 2px rgba(60, 64, 67, 0.3), 0px 1px 3px 1px rgba(60, 64, 67, 0.15);\n",
              "      fill: #174EA6;\n",
              "    }\n",
              "\n",
              "    .colab-df-buttons div {\n",
              "      margin-bottom: 4px;\n",
              "    }\n",
              "\n",
              "    [theme=dark] .colab-df-convert {\n",
              "      background-color: #3B4455;\n",
              "      fill: #D2E3FC;\n",
              "    }\n",
              "\n",
              "    [theme=dark] .colab-df-convert:hover {\n",
              "      background-color: #434B5C;\n",
              "      box-shadow: 0px 1px 3px 1px rgba(0, 0, 0, 0.15);\n",
              "      filter: drop-shadow(0px 1px 2px rgba(0, 0, 0, 0.3));\n",
              "      fill: #FFFFFF;\n",
              "    }\n",
              "  </style>\n",
              "\n",
              "    <script>\n",
              "      const buttonEl =\n",
              "        document.querySelector('#df-830297b7-f3f5-4de4-bcca-346664655919 button.colab-df-convert');\n",
              "      buttonEl.style.display =\n",
              "        google.colab.kernel.accessAllowed ? 'block' : 'none';\n",
              "\n",
              "      async function convertToInteractive(key) {\n",
              "        const element = document.querySelector('#df-830297b7-f3f5-4de4-bcca-346664655919');\n",
              "        const dataTable =\n",
              "          await google.colab.kernel.invokeFunction('convertToInteractive',\n",
              "                                                    [key], {});\n",
              "        if (!dataTable) return;\n",
              "\n",
              "        const docLinkHtml = 'Like what you see? Visit the ' +\n",
              "          '<a target=\"_blank\" href=https://colab.research.google.com/notebooks/data_table.ipynb>data table notebook</a>'\n",
              "          + ' to learn more about interactive tables.';\n",
              "        element.innerHTML = '';\n",
              "        dataTable['output_type'] = 'display_data';\n",
              "        await google.colab.output.renderOutput(dataTable, element);\n",
              "        const docLink = document.createElement('div');\n",
              "        docLink.innerHTML = docLinkHtml;\n",
              "        element.appendChild(docLink);\n",
              "      }\n",
              "    </script>\n",
              "  </div>\n",
              "\n",
              "\n",
              "<div id=\"df-89b1c6c6-79df-420b-9c46-2bb00b56817d\">\n",
              "  <button class=\"colab-df-quickchart\" onclick=\"quickchart('df-89b1c6c6-79df-420b-9c46-2bb00b56817d')\"\n",
              "            title=\"Suggest charts\"\n",
              "            style=\"display:none;\">\n",
              "\n",
              "<svg xmlns=\"http://www.w3.org/2000/svg\" height=\"24px\"viewBox=\"0 0 24 24\"\n",
              "     width=\"24px\">\n",
              "    <g>\n",
              "        <path d=\"M19 3H5c-1.1 0-2 .9-2 2v14c0 1.1.9 2 2 2h14c1.1 0 2-.9 2-2V5c0-1.1-.9-2-2-2zM9 17H7v-7h2v7zm4 0h-2V7h2v10zm4 0h-2v-4h2v4z\"/>\n",
              "    </g>\n",
              "</svg>\n",
              "  </button>\n",
              "\n",
              "<style>\n",
              "  .colab-df-quickchart {\n",
              "      --bg-color: #E8F0FE;\n",
              "      --fill-color: #1967D2;\n",
              "      --hover-bg-color: #E2EBFA;\n",
              "      --hover-fill-color: #174EA6;\n",
              "      --disabled-fill-color: #AAA;\n",
              "      --disabled-bg-color: #DDD;\n",
              "  }\n",
              "\n",
              "  [theme=dark] .colab-df-quickchart {\n",
              "      --bg-color: #3B4455;\n",
              "      --fill-color: #D2E3FC;\n",
              "      --hover-bg-color: #434B5C;\n",
              "      --hover-fill-color: #FFFFFF;\n",
              "      --disabled-bg-color: #3B4455;\n",
              "      --disabled-fill-color: #666;\n",
              "  }\n",
              "\n",
              "  .colab-df-quickchart {\n",
              "    background-color: var(--bg-color);\n",
              "    border: none;\n",
              "    border-radius: 50%;\n",
              "    cursor: pointer;\n",
              "    display: none;\n",
              "    fill: var(--fill-color);\n",
              "    height: 32px;\n",
              "    padding: 0;\n",
              "    width: 32px;\n",
              "  }\n",
              "\n",
              "  .colab-df-quickchart:hover {\n",
              "    background-color: var(--hover-bg-color);\n",
              "    box-shadow: 0 1px 2px rgba(60, 64, 67, 0.3), 0 1px 3px 1px rgba(60, 64, 67, 0.15);\n",
              "    fill: var(--button-hover-fill-color);\n",
              "  }\n",
              "\n",
              "  .colab-df-quickchart-complete:disabled,\n",
              "  .colab-df-quickchart-complete:disabled:hover {\n",
              "    background-color: var(--disabled-bg-color);\n",
              "    fill: var(--disabled-fill-color);\n",
              "    box-shadow: none;\n",
              "  }\n",
              "\n",
              "  .colab-df-spinner {\n",
              "    border: 2px solid var(--fill-color);\n",
              "    border-color: transparent;\n",
              "    border-bottom-color: var(--fill-color);\n",
              "    animation:\n",
              "      spin 1s steps(1) infinite;\n",
              "  }\n",
              "\n",
              "  @keyframes spin {\n",
              "    0% {\n",
              "      border-color: transparent;\n",
              "      border-bottom-color: var(--fill-color);\n",
              "      border-left-color: var(--fill-color);\n",
              "    }\n",
              "    20% {\n",
              "      border-color: transparent;\n",
              "      border-left-color: var(--fill-color);\n",
              "      border-top-color: var(--fill-color);\n",
              "    }\n",
              "    30% {\n",
              "      border-color: transparent;\n",
              "      border-left-color: var(--fill-color);\n",
              "      border-top-color: var(--fill-color);\n",
              "      border-right-color: var(--fill-color);\n",
              "    }\n",
              "    40% {\n",
              "      border-color: transparent;\n",
              "      border-right-color: var(--fill-color);\n",
              "      border-top-color: var(--fill-color);\n",
              "    }\n",
              "    60% {\n",
              "      border-color: transparent;\n",
              "      border-right-color: var(--fill-color);\n",
              "    }\n",
              "    80% {\n",
              "      border-color: transparent;\n",
              "      border-right-color: var(--fill-color);\n",
              "      border-bottom-color: var(--fill-color);\n",
              "    }\n",
              "    90% {\n",
              "      border-color: transparent;\n",
              "      border-bottom-color: var(--fill-color);\n",
              "    }\n",
              "  }\n",
              "</style>\n",
              "\n",
              "  <script>\n",
              "    async function quickchart(key) {\n",
              "      const quickchartButtonEl =\n",
              "        document.querySelector('#' + key + ' button');\n",
              "      quickchartButtonEl.disabled = true;  // To prevent multiple clicks.\n",
              "      quickchartButtonEl.classList.add('colab-df-spinner');\n",
              "      try {\n",
              "        const charts = await google.colab.kernel.invokeFunction(\n",
              "            'suggestCharts', [key], {});\n",
              "      } catch (error) {\n",
              "        console.error('Error during call to suggestCharts:', error);\n",
              "      }\n",
              "      quickchartButtonEl.classList.remove('colab-df-spinner');\n",
              "      quickchartButtonEl.classList.add('colab-df-quickchart-complete');\n",
              "    }\n",
              "    (() => {\n",
              "      let quickchartButtonEl =\n",
              "        document.querySelector('#df-89b1c6c6-79df-420b-9c46-2bb00b56817d button');\n",
              "      quickchartButtonEl.style.display =\n",
              "        google.colab.kernel.accessAllowed ? 'block' : 'none';\n",
              "    })();\n",
              "  </script>\n",
              "</div>\n",
              "    </div>\n",
              "  </div>\n"
            ]
          },
          "metadata": {},
          "execution_count": 66
        }
      ],
      "source": [
        "# Strelect the crazy outlier rows\n",
        "outliers = trees[trees[\"Height In Metres\"] > 80]\n",
        "outliers.head()"
      ]
    },
    {
      "cell_type": "markdown",
      "id": "c3e7ff2b-b69c-4095-a20d-bd6d2df1e68a",
      "metadata": {
        "id": "c3e7ff2b-b69c-4095-a20d-bd6d2df1e68a"
      },
      "source": [
        "<hr/>"
      ]
    },
    {
      "cell_type": "markdown",
      "id": "f4d3025c-4a29-42e3-8821-8df2d8daa5e0",
      "metadata": {
        "id": "f4d3025c-4a29-42e3-8821-8df2d8daa5e0"
      },
      "source": [
        "### 5.2 Outliers for Spread\n",
        "Now repeat the analysis for spread.\n",
        "<div style=\"background-color:lemonchiffon; border:1px solid; padding:5px; margin:5px; font-weight:bold\"><font color=\"crimson\">\n",
        "TODO: Complete the following code cells\n",
        "    </font></div>"
      ]
    },
    {
      "cell_type": "code",
      "execution_count": null,
      "id": "ce6760cf-78d0-465d-b4a3-f199596983fa",
      "metadata": {
        "id": "ce6760cf-78d0-465d-b4a3-f199596983fa",
        "colab": {
          "base_uri": "https://localhost:8080/",
          "height": 469
        },
        "outputId": "cab5ab39-416d-4359-820e-be1bc34f76f6"
      },
      "outputs": [
        {
          "output_type": "execute_result",
          "data": {
            "text/plain": [
              "<Axes: title={'center': 'Boxplot of Spread In Metres'}>"
            ]
          },
          "metadata": {},
          "execution_count": 67
        },
        {
          "output_type": "display_data",
          "data": {
            "text/plain": [
              "<Figure size 640x480 with 1 Axes>"
            ],
            "image/png": "[encoded data removed]"
          },
          "metadata": {}
        }
      ],
      "source": [
        "# Use a boxplot to find the outliers\n",
        "trees.plot.box(column = \"Spread In Metres\", title = \"Boxplot of Spread In Metres\")"
      ]
    },
    {
      "cell_type": "code",
      "execution_count": null,
      "id": "6ab3697f-02f9-4e35-acd7-520ac7a1aa83",
      "metadata": {
        "id": "6ab3697f-02f9-4e35-acd7-520ac7a1aa83",
        "colab": {
          "base_uri": "https://localhost:8080/",
          "height": 168
        },
        "outputId": "279f0311-09b4-464a-90c4-61794de7f3b8"
      },
      "outputs": [
        {
          "output_type": "execute_result",
          "data": {
            "text/plain": [
              "      Identifier  Number Of Trees            Site Name Contract Area  \\\n",
              "18567   00045515              1.0  Broadfield Estate 1       Housing   \n",
              "\n",
              "      Scientific Name Inspection Date Inspection Due Date  Height In Metres  \\\n",
              "18567   Quercus robur      2018-04-26           2021/2022               8.0   \n",
              "\n",
              "       Spread In Metres  Diameter In Centimetres At Breast Height  Ward Code  \\\n",
              "18567              88.0                                      17.0  E05000144   \n",
              "\n",
              "           Ward Name  Easting  Northing  Longitude   Latitude  \\\n",
              "18567  Swiss Cottage   525993    184693  -0.184348  51.547074   \n",
              "\n",
              "                     Location  \n",
              "18567  (51.547074, -0.184348)  "
            ],
            "text/html": [
              "\n",
              "  <div id=\"df-7a57ff33-c076-4451-baf4-c6b88cb3d7d1\" class=\"colab-df-container\">\n",
              "    <div>\n",
              "<style scoped>\n",
              "    .dataframe tbody tr th:only-of-type {\n",
              "        vertical-align: middle;\n",
              "    }\n",
              "\n",
              "    .dataframe tbody tr th {\n",
              "        vertical-align: top;\n",
              "    }\n",
              "\n",
              "    .dataframe thead th {\n",
              "        text-align: right;\n",
              "    }\n",
              "</style>\n",
              "<table border=\"1\" class=\"dataframe\">\n",
              "  <thead>\n",
              "    <tr style=\"text-align: right;\">\n",
              "      <th></th>\n",
              "      <th>Identifier</th>\n",
              "      <th>Number Of Trees</th>\n",
              "      <th>Site Name</th>\n",
              "      <th>Contract Area</th>\n",
              "      <th>Scientific Name</th>\n",
              "      <th>Inspection Date</th>\n",
              "      <th>Inspection Due Date</th>\n",
              "      <th>Height In Metres</th>\n",
              "      <th>Spread In Metres</th>\n",
              "      <th>Diameter In Centimetres At Breast Height</th>\n",
              "      <th>Ward Code</th>\n",
              "      <th>Ward Name</th>\n",
              "      <th>Easting</th>\n",
              "      <th>Northing</th>\n",
              "      <th>Longitude</th>\n",
              "      <th>Latitude</th>\n",
              "      <th>Location</th>\n",
              "    </tr>\n",
              "  </thead>\n",
              "  <tbody>\n",
              "    <tr>\n",
              "      <th>18567</th>\n",
              "      <td>00045515</td>\n",
              "      <td>1.0</td>\n",
              "      <td>Broadfield Estate 1</td>\n",
              "      <td>Housing</td>\n",
              "      <td>Quercus robur</td>\n",
              "      <td>2018-04-26</td>\n",
              "      <td>2021/2022</td>\n",
              "      <td>8.0</td>\n",
              "      <td>88.0</td>\n",
              "      <td>17.0</td>\n",
              "      <td>E05000144</td>\n",
              "      <td>Swiss Cottage</td>\n",
              "      <td>525993</td>\n",
              "      <td>184693</td>\n",
              "      <td>-0.184348</td>\n",
              "      <td>51.547074</td>\n",
              "      <td>(51.547074, -0.184348)</td>\n",
              "    </tr>\n",
              "  </tbody>\n",
              "</table>\n",
              "</div>\n",
              "    <div class=\"colab-df-buttons\">\n",
              "\n",
              "  <div class=\"colab-df-container\">\n",
              "    <button class=\"colab-df-convert\" onclick=\"convertToInteractive('df-7a57ff33-c076-4451-baf4-c6b88cb3d7d1')\"\n",
              "            title=\"Convert this dataframe to an interactive table.\"\n",
              "            style=\"display:none;\">\n",
              "\n",
              "  <svg xmlns=\"http://www.w3.org/2000/svg\" height=\"24px\" viewBox=\"0 -960 960 960\">\n",
              "    <path d=\"M120-120v-720h720v720H120Zm60-500h600v-160H180v160Zm220 220h160v-160H400v160Zm0 220h160v-160H400v160ZM180-400h160v-160H180v160Zm440 0h160v-160H620v160ZM180-180h160v-160H180v160Zm440 0h160v-160H620v160Z\"/>\n",
              "  </svg>\n",
              "    </button>\n",
              "\n",
              "  <style>\n",
              "    .colab-df-container {\n",
              "      display:flex;\n",
              "      gap: 12px;\n",
              "    }\n",
              "\n",
              "    .colab-df-convert {\n",
              "      background-color: #E8F0FE;\n",
              "      border: none;\n",
              "      border-radius: 50%;\n",
              "      cursor: pointer;\n",
              "      display: none;\n",
              "      fill: #1967D2;\n",
              "      height: 32px;\n",
              "      padding: 0 0 0 0;\n",
              "      width: 32px;\n",
              "    }\n",
              "\n",
              "    .colab-df-convert:hover {\n",
              "      background-color: #E2EBFA;\n",
              "      box-shadow: 0px 1px 2px rgba(60, 64, 67, 0.3), 0px 1px 3px 1px rgba(60, 64, 67, 0.15);\n",
              "      fill: #174EA6;\n",
              "    }\n",
              "\n",
              "    .colab-df-buttons div {\n",
              "      margin-bottom: 4px;\n",
              "    }\n",
              "\n",
              "    [theme=dark] .colab-df-convert {\n",
              "      background-color: #3B4455;\n",
              "      fill: #D2E3FC;\n",
              "    }\n",
              "\n",
              "    [theme=dark] .colab-df-convert:hover {\n",
              "      background-color: #434B5C;\n",
              "      box-shadow: 0px 1px 3px 1px rgba(0, 0, 0, 0.15);\n",
              "      filter: drop-shadow(0px 1px 2px rgba(0, 0, 0, 0.3));\n",
              "      fill: #FFFFFF;\n",
              "    }\n",
              "  </style>\n",
              "\n",
              "    <script>\n",
              "      const buttonEl =\n",
              "        document.querySelector('#df-7a57ff33-c076-4451-baf4-c6b88cb3d7d1 button.colab-df-convert');\n",
              "      buttonEl.style.display =\n",
              "        google.colab.kernel.accessAllowed ? 'block' : 'none';\n",
              "\n",
              "      async function convertToInteractive(key) {\n",
              "        const element = document.querySelector('#df-7a57ff33-c076-4451-baf4-c6b88cb3d7d1');\n",
              "        const dataTable =\n",
              "          await google.colab.kernel.invokeFunction('convertToInteractive',\n",
              "                                                    [key], {});\n",
              "        if (!dataTable) return;\n",
              "\n",
              "        const docLinkHtml = 'Like what you see? Visit the ' +\n",
              "          '<a target=\"_blank\" href=https://colab.research.google.com/notebooks/data_table.ipynb>data table notebook</a>'\n",
              "          + ' to learn more about interactive tables.';\n",
              "        element.innerHTML = '';\n",
              "        dataTable['output_type'] = 'display_data';\n",
              "        await google.colab.output.renderOutput(dataTable, element);\n",
              "        const docLink = document.createElement('div');\n",
              "        docLink.innerHTML = docLinkHtml;\n",
              "        element.appendChild(docLink);\n",
              "      }\n",
              "    </script>\n",
              "  </div>\n",
              "\n",
              "    </div>\n",
              "  </div>\n"
            ]
          },
          "metadata": {},
          "execution_count": 68
        }
      ],
      "source": [
        "# Select the crazy outlier rows (if any)\n",
        "outliers = trees[trees[\"Spread In Metres\"] > 80]\n",
        "outliers.head()"
      ]
    },
    {
      "cell_type": "markdown",
      "id": "70810045-0b5e-4dfe-bba1-fe6b0c2ea8d0",
      "metadata": {
        "id": "70810045-0b5e-4dfe-bba1-fe6b0c2ea8d0"
      },
      "source": [
        "<hr/>"
      ]
    },
    {
      "cell_type": "markdown",
      "id": "cc0982a2-f528-49ee-ae07-6d611cb4c564",
      "metadata": {
        "id": "cc0982a2-f528-49ee-ae07-6d611cb4c564"
      },
      "source": [
        "### 5.3 Outliers for Diameter\n",
        "Now repeat the analysis for diameter.\n",
        "<div style=\"background-color:lemonchiffon; border:1px solid; padding:5px; margin:5px; font-weight:bold\"><font color=\"crimson\">\n",
        "TODO: Complete the following code cells\n",
        "    </font></div>"
      ]
    },
    {
      "cell_type": "code",
      "execution_count": null,
      "id": "f09b82f0-44c7-4b2c-b7d6-7b1059f8e424",
      "metadata": {
        "id": "f09b82f0-44c7-4b2c-b7d6-7b1059f8e424",
        "colab": {
          "base_uri": "https://localhost:8080/",
          "height": 469
        },
        "outputId": "6ad0e765-a149-4fac-abfc-0adf7de288d5"
      },
      "outputs": [
        {
          "output_type": "execute_result",
          "data": {
            "text/plain": [
              "<Axes: title={'center': 'Boxplot of Diameter In Centimetres At Breast Height'}>"
            ]
          },
          "metadata": {},
          "execution_count": 69
        },
        {
          "output_type": "display_data",
          "data": {
            "text/plain": [
              "<Figure size 640x480 with 1 Axes>"
            ],
            "image/png": "[encoded data removed]"
          },
          "metadata": {}
        }
      ],
      "source": [
        "# Use a boxplot to find the outliers\n",
        "trees.plot.box(column = \"Diameter In Centimetres At Breast Height\", title = \"Boxplot of Diameter In Centimetres At Breast Height\")"
      ]
    },
    {
      "cell_type": "code",
      "execution_count": null,
      "id": "6299642f-bf98-43da-a7bc-2880c88c002e",
      "metadata": {
        "id": "6299642f-bf98-43da-a7bc-2880c88c002e",
        "colab": {
          "base_uri": "https://localhost:8080/",
          "height": 202
        },
        "outputId": "73704326-663a-4659-a7df-b981a085157d"
      },
      "outputs": [
        {
          "output_type": "execute_result",
          "data": {
            "text/plain": [
              "     Identifier  Number Of Trees                            Site Name  \\\n",
              "1157   00004100              1.0  LONGFORD STREET, CLARENCE GDNS (LS)   \n",
              "\n",
              "     Contract Area       Scientific Name Inspection Date Inspection Due Date  \\\n",
              "1157         Parks  Platanus x hispanica      2018-03-29           2020/2021   \n",
              "\n",
              "      Height In Metres  Spread In Metres  \\\n",
              "1157              21.0              20.0   \n",
              "\n",
              "      Diameter In Centimetres At Breast Height  Ward Code      Ward Name  \\\n",
              "1157                                     228.0  E05000142  Regent's Park   \n",
              "\n",
              "      Easting  Northing  Longitude   Latitude                Location  \n",
              "1157   528931    182624  -0.142766  51.527816  (51.527816, -0.142766)  "
            ],
            "text/html": [
              "\n",
              "  <div id=\"df-b2ce61b7-0c46-4d80-b30b-c3bcc4de56ff\" class=\"colab-df-container\">\n",
              "    <div>\n",
              "<style scoped>\n",
              "    .dataframe tbody tr th:only-of-type {\n",
              "        vertical-align: middle;\n",
              "    }\n",
              "\n",
              "    .dataframe tbody tr th {\n",
              "        vertical-align: top;\n",
              "    }\n",
              "\n",
              "    .dataframe thead th {\n",
              "        text-align: right;\n",
              "    }\n",
              "</style>\n",
              "<table border=\"1\" class=\"dataframe\">\n",
              "  <thead>\n",
              "    <tr style=\"text-align: right;\">\n",
              "      <th></th>\n",
              "      <th>Identifier</th>\n",
              "      <th>Number Of Trees</th>\n",
              "      <th>Site Name</th>\n",
              "      <th>Contract Area</th>\n",
              "      <th>Scientific Name</th>\n",
              "      <th>Inspection Date</th>\n",
              "      <th>Inspection Due Date</th>\n",
              "      <th>Height In Metres</th>\n",
              "      <th>Spread In Metres</th>\n",
              "      <th>Diameter In Centimetres At Breast Height</th>\n",
              "      <th>Ward Code</th>\n",
              "      <th>Ward Name</th>\n",
              "      <th>Easting</th>\n",
              "      <th>Northing</th>\n",
              "      <th>Longitude</th>\n",
              "      <th>Latitude</th>\n",
              "      <th>Location</th>\n",
              "    </tr>\n",
              "  </thead>\n",
              "  <tbody>\n",
              "    <tr>\n",
              "      <th>1157</th>\n",
              "      <td>00004100</td>\n",
              "      <td>1.0</td>\n",
              "      <td>LONGFORD STREET, CLARENCE GDNS (LS)</td>\n",
              "      <td>Parks</td>\n",
              "      <td>Platanus x hispanica</td>\n",
              "      <td>2018-03-29</td>\n",
              "      <td>2020/2021</td>\n",
              "      <td>21.0</td>\n",
              "      <td>20.0</td>\n",
              "      <td>228.0</td>\n",
              "      <td>E05000142</td>\n",
              "      <td>Regent's Park</td>\n",
              "      <td>528931</td>\n",
              "      <td>182624</td>\n",
              "      <td>-0.142766</td>\n",
              "      <td>51.527816</td>\n",
              "      <td>(51.527816, -0.142766)</td>\n",
              "    </tr>\n",
              "  </tbody>\n",
              "</table>\n",
              "</div>\n",
              "    <div class=\"colab-df-buttons\">\n",
              "\n",
              "  <div class=\"colab-df-container\">\n",
              "    <button class=\"colab-df-convert\" onclick=\"convertToInteractive('df-b2ce61b7-0c46-4d80-b30b-c3bcc4de56ff')\"\n",
              "            title=\"Convert this dataframe to an interactive table.\"\n",
              "            style=\"display:none;\">\n",
              "\n",
              "  <svg xmlns=\"http://www.w3.org/2000/svg\" height=\"24px\" viewBox=\"0 -960 960 960\">\n",
              "    <path d=\"M120-120v-720h720v720H120Zm60-500h600v-160H180v160Zm220 220h160v-160H400v160Zm0 220h160v-160H400v160ZM180-400h160v-160H180v160Zm440 0h160v-160H620v160ZM180-180h160v-160H180v160Zm440 0h160v-160H620v160Z\"/>\n",
              "  </svg>\n",
              "    </button>\n",
              "\n",
              "  <style>\n",
              "    .colab-df-container {\n",
              "      display:flex;\n",
              "      gap: 12px;\n",
              "    }\n",
              "\n",
              "    .colab-df-convert {\n",
              "      background-color: #E8F0FE;\n",
              "      border: none;\n",
              "      border-radius: 50%;\n",
              "      cursor: pointer;\n",
              "      display: none;\n",
              "      fill: #1967D2;\n",
              "      height: 32px;\n",
              "      padding: 0 0 0 0;\n",
              "      width: 32px;\n",
              "    }\n",
              "\n",
              "    .colab-df-convert:hover {\n",
              "      background-color: #E2EBFA;\n",
              "      box-shadow: 0px 1px 2px rgba(60, 64, 67, 0.3), 0px 1px 3px 1px rgba(60, 64, 67, 0.15);\n",
              "      fill: #174EA6;\n",
              "    }\n",
              "\n",
              "    .colab-df-buttons div {\n",
              "      margin-bottom: 4px;\n",
              "    }\n",
              "\n",
              "    [theme=dark] .colab-df-convert {\n",
              "      background-color: #3B4455;\n",
              "      fill: #D2E3FC;\n",
              "    }\n",
              "\n",
              "    [theme=dark] .colab-df-convert:hover {\n",
              "      background-color: #434B5C;\n",
              "      box-shadow: 0px 1px 3px 1px rgba(0, 0, 0, 0.15);\n",
              "      filter: drop-shadow(0px 1px 2px rgba(0, 0, 0, 0.3));\n",
              "      fill: #FFFFFF;\n",
              "    }\n",
              "  </style>\n",
              "\n",
              "    <script>\n",
              "      const buttonEl =\n",
              "        document.querySelector('#df-b2ce61b7-0c46-4d80-b30b-c3bcc4de56ff button.colab-df-convert');\n",
              "      buttonEl.style.display =\n",
              "        google.colab.kernel.accessAllowed ? 'block' : 'none';\n",
              "\n",
              "      async function convertToInteractive(key) {\n",
              "        const element = document.querySelector('#df-b2ce61b7-0c46-4d80-b30b-c3bcc4de56ff');\n",
              "        const dataTable =\n",
              "          await google.colab.kernel.invokeFunction('convertToInteractive',\n",
              "                                                    [key], {});\n",
              "        if (!dataTable) return;\n",
              "\n",
              "        const docLinkHtml = 'Like what you see? Visit the ' +\n",
              "          '<a target=\"_blank\" href=https://colab.research.google.com/notebooks/data_table.ipynb>data table notebook</a>'\n",
              "          + ' to learn more about interactive tables.';\n",
              "        element.innerHTML = '';\n",
              "        dataTable['output_type'] = 'display_data';\n",
              "        await google.colab.output.renderOutput(dataTable, element);\n",
              "        const docLink = document.createElement('div');\n",
              "        docLink.innerHTML = docLinkHtml;\n",
              "        element.appendChild(docLink);\n",
              "      }\n",
              "    </script>\n",
              "  </div>\n",
              "\n",
              "    </div>\n",
              "  </div>\n"
            ]
          },
          "metadata": {},
          "execution_count": 70
        }
      ],
      "source": [
        "# Select the outlier rows (if any)\n",
        "outliers = trees[trees[\"Diameter In Centimetres At Breast Height\"] > 225]\n",
        "outliers.head()"
      ]
    },
    {
      "cell_type": "markdown",
      "id": "19fb2357-f25f-4840-b4a7-5a016256ff28",
      "metadata": {
        "id": "19fb2357-f25f-4840-b4a7-5a016256ff28"
      },
      "source": [
        "<hr/>\n",
        "\n",
        "### 5.4 Observations\n",
        "\n",
        "<div style=\"background-color:lemonchiffon; border:1px solid; padding:5px; margin:5px; font-weight:bold\"><font color=\"crimson\">\n",
        "TODO: Write down your observation about outliers in the data.  What assumptions did you make?  Were you comfortable making these assumptions?\n",
        "    </font></div>\n"
      ]
    },
    {
      "cell_type": "markdown",
      "id": "12f67262-3fe4-4238-8e6f-e04382b8594d",
      "metadata": {
        "id": "12f67262-3fe4-4238-8e6f-e04382b8594d"
      },
      "source": [
        "In the boxplot for Height in Metres, the outliers were prominent as there is a large difference between them and the maximum value. Apart from having the same contract area and ward, there is no basis to explain why these extreme values exist. Also, by acknowledging that the data is about the tree's heigh in metres, it is unlikely to have 90m+ trees in Camden, therefore, we can assume these are anamolies.\n",
        "\n",
        "The Spread in Metres Boxplot has one extreme value with a significant difference with the maximum point but since the data is about the spread of the trees, it is possible to have a random tree much further away.\n",
        "\n",
        "The Diameter In Centimetres At Breast Height Boxplot show cirlces which indicate outliers but by visually analysing the plot, the difference from the max value is not laarge enough to conlclude these are outliers but such extreme values."
      ]
    },
    {
      "cell_type": "markdown",
      "id": "bd36393a-8904-4be8-affe-1a99e5d4e69f",
      "metadata": {
        "id": "bd36393a-8904-4be8-affe-1a99e5d4e69f"
      },
      "source": [
        "<hr/>"
      ]
    },
    {
      "cell_type": "markdown",
      "id": "a433b035-abc4-4ce2-b86e-484e698bd941",
      "metadata": {
        "id": "a433b035-abc4-4ce2-b86e-484e698bd941"
      },
      "source": [
        "## Task 6: Identify Duplicates in the Trees Dataset\n",
        "Sometimes data has duplicate entries.  This is another sign of data quality issues!\n",
        "\n",
        "### 6.1 Find Duplicate Rows\n",
        "\n",
        "In our dataset the `Identifier` column should be unique.  Find out if it is!  We've already used a function that can count how many times each value in a column exists.  Use is to see if we have duplicates in the trees Dataframe.\n",
        "\n",
        "<div style=\"background-color:lemonchiffon; border:1px solid; padding:5px; margin:5px; font-weight:bold\"><font color=\"crimson\">\n",
        "TODO: Complete the following code cells\n",
        "    </font></div>"
      ]
    },
    {
      "cell_type": "code",
      "execution_count": null,
      "id": "a40454f4-03e9-43b3-a0d8-6fcb756ba90b",
      "metadata": {
        "id": "a40454f4-03e9-43b3-a0d8-6fcb756ba90b",
        "colab": {
          "base_uri": "https://localhost:8080/"
        },
        "outputId": "69971ba2-0d8f-4741-a6de-4de1bccf2302"
      },
      "outputs": [
        {
          "output_type": "execute_result",
          "data": {
            "text/plain": [
              "Identifier\n",
              "00022674    2\n",
              "00032549    2\n",
              "00000999    2\n",
              "00060087    2\n",
              "00060088    2\n",
              "           ..\n",
              "00014930    1\n",
              "00014928    1\n",
              "00014927    1\n",
              "00014925    1\n",
              "01100611    1\n",
              "Length: 23438, dtype: int64"
            ]
          },
          "metadata": {},
          "execution_count": 71
        }
      ],
      "source": [
        "# Find out if we have any duplicates\n",
        "unique_counts= trees.value_counts(\"Identifier\")\n",
        "\n",
        "unique_counts"
      ]
    },
    {
      "cell_type": "markdown",
      "id": "787be537-4f13-466e-9a65-108d93563fc8",
      "metadata": {
        "id": "787be537-4f13-466e-9a65-108d93563fc8"
      },
      "source": [
        "Now see if you can select the rows from trees DataFrame that are duplicates.  You will need to use the output from the cell above and use it to filter the trees dataframe."
      ]
    },
    {
      "cell_type": "code",
      "execution_count": null,
      "id": "3d2fbdbf-c839-4e84-ad7c-add0f4fa31ef",
      "metadata": {
        "id": "3d2fbdbf-c839-4e84-ad7c-add0f4fa31ef",
        "colab": {
          "base_uri": "https://localhost:8080/",
          "height": 866
        },
        "outputId": "90846239-182a-4138-d550-9b53396f0334"
      },
      "outputs": [
        {
          "output_type": "execute_result",
          "data": {
            "text/plain": [
              "      Identifier  Number Of Trees         Site Name Contract Area  \\\n",
              "1219    00060088              1.0  FREDERICK STREET      Highways   \n",
              "4388    00032549              1.0    NARCISSUS ROAD      Highways   \n",
              "5491    00000999              1.0       ALMA STREET      Highways   \n",
              "6111    00032549              1.0    NARCISSUS ROAD      Highways   \n",
              "7027    00022744              1.0          YORK WAY      Highways   \n",
              "9186    00022744              1.0          YORK WAY      Highways   \n",
              "9482    00022674              1.0     WOODSOME ROAD      Highways   \n",
              "10972   00060088              1.0  FREDERICK STREET      Highways   \n",
              "13098   00000999              1.0       ALMA STREET      Highways   \n",
              "13628   00022674              1.0     WOODSOME ROAD      Highways   \n",
              "15393   00060087              1.0     ARGYLE SQUARE      Highways   \n",
              "15653   00060087              1.0     ARGYLE SQUARE      Highways   \n",
              "\n",
              "                                         Scientific Name Inspection Date  \\\n",
              "1219                   Vacant Tree Pit (planned: Access)      2019-11-09   \n",
              "4388                           Betula albosinensis Fasc.      2018-09-19   \n",
              "5491                                   Sorbus hupehensis      2017-07-25   \n",
              "6111                           Betula albosinensis Fasc.      2018-09-19   \n",
              "7027                                 Ailanthus altissima      2019-10-30   \n",
              "9186                                 Ailanthus altissima      2019-10-30   \n",
              "9482                                              Sorbus      2017-10-07   \n",
              "10972  Vacant Tree Pit (planned: Acer campestre eco s...      2019-11-09   \n",
              "13098                                  Sorbus hupehensis      2017-07-25   \n",
              "13628                                             Sorbus      2017-10-07   \n",
              "15393                  Vacant Tree Pit (planned: Access)      2019-11-09   \n",
              "15653  Vacant Tree Pit (planned: Acer campestre eco s...      2019-11-09   \n",
              "\n",
              "      Inspection Due Date  Height In Metres  Spread In Metres  \\\n",
              "1219            2022/2023               NaN               NaN   \n",
              "4388            2021/2022               9.0               6.0   \n",
              "5491            2020/2021               5.0               4.0   \n",
              "6111            2021/2022               9.0               6.0   \n",
              "7027            2022/2023               7.5               3.0   \n",
              "9186            2022/2023               7.5               3.0   \n",
              "9482            2020/2021               7.0               6.0   \n",
              "10972           2022/2023               NaN               NaN   \n",
              "13098           2020/2021               5.0               4.0   \n",
              "13628           2020/2021               7.0               6.0   \n",
              "15393           2022/2023               NaN               NaN   \n",
              "15653           2022/2023               NaN               NaN   \n",
              "\n",
              "       Diameter In Centimetres At Breast Height  Ward Code       Ward Name  \\\n",
              "1219                                        NaN  E05000141    King's Cross   \n",
              "4388                                       19.0  E05000145  West Hampstead   \n",
              "5491                                       18.0  E05000139    Kentish Town   \n",
              "6111                                       19.0  E05000145  West Hampstead   \n",
              "7027                                       18.0  E05000131      Cantelowes   \n",
              "9186                                       18.0  E05000131      Cantelowes   \n",
              "9482                                       28.0  E05000137        Highgate   \n",
              "10972                                       NaN  E05000141    King's Cross   \n",
              "13098                                      18.0  E05000139    Kentish Town   \n",
              "13628                                      28.0  E05000137        Highgate   \n",
              "15393                                       NaN  E05000141    King's Cross   \n",
              "15653                                       NaN  E05000141    King's Cross   \n",
              "\n",
              "       Easting  Northing  Longitude   Latitude                Location  \n",
              "1219    530770    182696  -0.116241  51.528046  (51.528046, -0.116241)  \n",
              "4388    525185    185127  -0.195840  51.551159   (51.551159, -0.19584)  \n",
              "5491    528834    184856  -0.143337  51.547904  (51.547904, -0.143337)  \n",
              "6111    525185    185127  -0.195840  51.551159   (51.551159, -0.19584)  \n",
              "7027    529983    184724  -0.126837  51.546447  (51.546447, -0.126837)  \n",
              "9186    529983    184724  -0.126837  51.546447  (51.546447, -0.126837)  \n",
              "9482    528515    186109  -0.147481  51.559237  (51.559237, -0.147481)  \n",
              "10972   530770    182696  -0.116241  51.528046  (51.528046, -0.116241)  \n",
              "13098   528834    184856  -0.143337  51.547904  (51.547904, -0.143337)  \n",
              "13628   528515    186109  -0.147481  51.559237  (51.559237, -0.147481)  \n",
              "15393   530342    182839  -0.122352  51.529428  (51.529428, -0.122352)  \n",
              "15653   530342    182839  -0.122352  51.529428  (51.529428, -0.122352)  "
            ],
            "text/html": [
              "\n",
              "  <div id=\"df-86c0f93b-d74d-4674-8e8f-0b62cc5c7480\" class=\"colab-df-container\">\n",
              "    <div>\n",
              "<style scoped>\n",
              "    .dataframe tbody tr th:only-of-type {\n",
              "        vertical-align: middle;\n",
              "    }\n",
              "\n",
              "    .dataframe tbody tr th {\n",
              "        vertical-align: top;\n",
              "    }\n",
              "\n",
              "    .dataframe thead th {\n",
              "        text-align: right;\n",
              "    }\n",
              "</style>\n",
              "<table border=\"1\" class=\"dataframe\">\n",
              "  <thead>\n",
              "    <tr style=\"text-align: right;\">\n",
              "      <th></th>\n",
              "      <th>Identifier</th>\n",
              "      <th>Number Of Trees</th>\n",
              "      <th>Site Name</th>\n",
              "      <th>Contract Area</th>\n",
              "      <th>Scientific Name</th>\n",
              "      <th>Inspection Date</th>\n",
              "      <th>Inspection Due Date</th>\n",
              "      <th>Height In Metres</th>\n",
              "      <th>Spread In Metres</th>\n",
              "      <th>Diameter In Centimetres At Breast Height</th>\n",
              "      <th>Ward Code</th>\n",
              "      <th>Ward Name</th>\n",
              "      <th>Easting</th>\n",
              "      <th>Northing</th>\n",
              "      <th>Longitude</th>\n",
              "      <th>Latitude</th>\n",
              "      <th>Location</th>\n",
              "    </tr>\n",
              "  </thead>\n",
              "  <tbody>\n",
              "    <tr>\n",
              "      <th>1219</th>\n",
              "      <td>00060088</td>\n",
              "      <td>1.0</td>\n",
              "      <td>FREDERICK STREET</td>\n",
              "      <td>Highways</td>\n",
              "      <td>Vacant Tree Pit (planned: Access)</td>\n",
              "      <td>2019-11-09</td>\n",
              "      <td>2022/2023</td>\n",
              "      <td>NaN</td>\n",
              "      <td>NaN</td>\n",
              "      <td>NaN</td>\n",
              "      <td>E05000141</td>\n",
              "      <td>King's Cross</td>\n",
              "      <td>530770</td>\n",
              "      <td>182696</td>\n",
              "      <td>-0.116241</td>\n",
              "      <td>51.528046</td>\n",
              "      <td>(51.528046, -0.116241)</td>\n",
              "    </tr>\n",
              "    <tr>\n",
              "      <th>4388</th>\n",
              "      <td>00032549</td>\n",
              "      <td>1.0</td>\n",
              "      <td>NARCISSUS ROAD</td>\n",
              "      <td>Highways</td>\n",
              "      <td>Betula albosinensis Fasc.</td>\n",
              "      <td>2018-09-19</td>\n",
              "      <td>2021/2022</td>\n",
              "      <td>9.0</td>\n",
              "      <td>6.0</td>\n",
              "      <td>19.0</td>\n",
              "      <td>E05000145</td>\n",
              "      <td>West Hampstead</td>\n",
              "      <td>525185</td>\n",
              "      <td>185127</td>\n",
              "      <td>-0.195840</td>\n",
              "      <td>51.551159</td>\n",
              "      <td>(51.551159, -0.19584)</td>\n",
              "    </tr>\n",
              "    <tr>\n",
              "      <th>5491</th>\n",
              "      <td>00000999</td>\n",
              "      <td>1.0</td>\n",
              "      <td>ALMA STREET</td>\n",
              "      <td>Highways</td>\n",
              "      <td>Sorbus hupehensis</td>\n",
              "      <td>2017-07-25</td>\n",
              "      <td>2020/2021</td>\n",
              "      <td>5.0</td>\n",
              "      <td>4.0</td>\n",
              "      <td>18.0</td>\n",
              "      <td>E05000139</td>\n",
              "      <td>Kentish Town</td>\n",
              "      <td>528834</td>\n",
              "      <td>184856</td>\n",
              "      <td>-0.143337</td>\n",
              "      <td>51.547904</td>\n",
              "      <td>(51.547904, -0.143337)</td>\n",
              "    </tr>\n",
              "    <tr>\n",
              "      <th>6111</th>\n",
              "      <td>00032549</td>\n",
              "      <td>1.0</td>\n",
              "      <td>NARCISSUS ROAD</td>\n",
              "      <td>Highways</td>\n",
              "      <td>Betula albosinensis Fasc.</td>\n",
              "      <td>2018-09-19</td>\n",
              "      <td>2021/2022</td>\n",
              "      <td>9.0</td>\n",
              "      <td>6.0</td>\n",
              "      <td>19.0</td>\n",
              "      <td>E05000145</td>\n",
              "      <td>West Hampstead</td>\n",
              "      <td>525185</td>\n",
              "      <td>185127</td>\n",
              "      <td>-0.195840</td>\n",
              "      <td>51.551159</td>\n",
              "      <td>(51.551159, -0.19584)</td>\n",
              "    </tr>\n",
              "    <tr>\n",
              "      <th>7027</th>\n",
              "      <td>00022744</td>\n",
              "      <td>1.0</td>\n",
              "      <td>YORK WAY</td>\n",
              "      <td>Highways</td>\n",
              "      <td>Ailanthus altissima</td>\n",
              "      <td>2019-10-30</td>\n",
              "      <td>2022/2023</td>\n",
              "      <td>7.5</td>\n",
              "      <td>3.0</td>\n",
              "      <td>18.0</td>\n",
              "      <td>E05000131</td>\n",
              "      <td>Cantelowes</td>\n",
              "      <td>529983</td>\n",
              "      <td>184724</td>\n",
              "      <td>-0.126837</td>\n",
              "      <td>51.546447</td>\n",
              "      <td>(51.546447, -0.126837)</td>\n",
              "    </tr>\n",
              "    <tr>\n",
              "      <th>9186</th>\n",
              "      <td>00022744</td>\n",
              "      <td>1.0</td>\n",
              "      <td>YORK WAY</td>\n",
              "      <td>Highways</td>\n",
              "      <td>Ailanthus altissima</td>\n",
              "      <td>2019-10-30</td>\n",
              "      <td>2022/2023</td>\n",
              "      <td>7.5</td>\n",
              "      <td>3.0</td>\n",
              "      <td>18.0</td>\n",
              "      <td>E05000131</td>\n",
              "      <td>Cantelowes</td>\n",
              "      <td>529983</td>\n",
              "      <td>184724</td>\n",
              "      <td>-0.126837</td>\n",
              "      <td>51.546447</td>\n",
              "      <td>(51.546447, -0.126837)</td>\n",
              "    </tr>\n",
              "    <tr>\n",
              "      <th>9482</th>\n",
              "      <td>00022674</td>\n",
              "      <td>1.0</td>\n",
              "      <td>WOODSOME ROAD</td>\n",
              "      <td>Highways</td>\n",
              "      <td>Sorbus</td>\n",
              "      <td>2017-10-07</td>\n",
              "      <td>2020/2021</td>\n",
              "      <td>7.0</td>\n",
              "      <td>6.0</td>\n",
              "      <td>28.0</td>\n",
              "      <td>E05000137</td>\n",
              "      <td>Highgate</td>\n",
              "      <td>528515</td>\n",
              "      <td>186109</td>\n",
              "      <td>-0.147481</td>\n",
              "      <td>51.559237</td>\n",
              "      <td>(51.559237, -0.147481)</td>\n",
              "    </tr>\n",
              "    <tr>\n",
              "      <th>10972</th>\n",
              "      <td>00060088</td>\n",
              "      <td>1.0</td>\n",
              "      <td>FREDERICK STREET</td>\n",
              "      <td>Highways</td>\n",
              "      <td>Vacant Tree Pit (planned: Acer campestre eco s...</td>\n",
              "      <td>2019-11-09</td>\n",
              "      <td>2022/2023</td>\n",
              "      <td>NaN</td>\n",
              "      <td>NaN</td>\n",
              "      <td>NaN</td>\n",
              "      <td>E05000141</td>\n",
              "      <td>King's Cross</td>\n",
              "      <td>530770</td>\n",
              "      <td>182696</td>\n",
              "      <td>-0.116241</td>\n",
              "      <td>51.528046</td>\n",
              "      <td>(51.528046, -0.116241)</td>\n",
              "    </tr>\n",
              "    <tr>\n",
              "      <th>13098</th>\n",
              "      <td>00000999</td>\n",
              "      <td>1.0</td>\n",
              "      <td>ALMA STREET</td>\n",
              "      <td>Highways</td>\n",
              "      <td>Sorbus hupehensis</td>\n",
              "      <td>2017-07-25</td>\n",
              "      <td>2020/2021</td>\n",
              "      <td>5.0</td>\n",
              "      <td>4.0</td>\n",
              "      <td>18.0</td>\n",
              "      <td>E05000139</td>\n",
              "      <td>Kentish Town</td>\n",
              "      <td>528834</td>\n",
              "      <td>184856</td>\n",
              "      <td>-0.143337</td>\n",
              "      <td>51.547904</td>\n",
              "      <td>(51.547904, -0.143337)</td>\n",
              "    </tr>\n",
              "    <tr>\n",
              "      <th>13628</th>\n",
              "      <td>00022674</td>\n",
              "      <td>1.0</td>\n",
              "      <td>WOODSOME ROAD</td>\n",
              "      <td>Highways</td>\n",
              "      <td>Sorbus</td>\n",
              "      <td>2017-10-07</td>\n",
              "      <td>2020/2021</td>\n",
              "      <td>7.0</td>\n",
              "      <td>6.0</td>\n",
              "      <td>28.0</td>\n",
              "      <td>E05000137</td>\n",
              "      <td>Highgate</td>\n",
              "      <td>528515</td>\n",
              "      <td>186109</td>\n",
              "      <td>-0.147481</td>\n",
              "      <td>51.559237</td>\n",
              "      <td>(51.559237, -0.147481)</td>\n",
              "    </tr>\n",
              "    <tr>\n",
              "      <th>15393</th>\n",
              "      <td>00060087</td>\n",
              "      <td>1.0</td>\n",
              "      <td>ARGYLE SQUARE</td>\n",
              "      <td>Highways</td>\n",
              "      <td>Vacant Tree Pit (planned: Access)</td>\n",
              "      <td>2019-11-09</td>\n",
              "      <td>2022/2023</td>\n",
              "      <td>NaN</td>\n",
              "      <td>NaN</td>\n",
              "      <td>NaN</td>\n",
              "      <td>E05000141</td>\n",
              "      <td>King's Cross</td>\n",
              "      <td>530342</td>\n",
              "      <td>182839</td>\n",
              "      <td>-0.122352</td>\n",
              "      <td>51.529428</td>\n",
              "      <td>(51.529428, -0.122352)</td>\n",
              "    </tr>\n",
              "    <tr>\n",
              "      <th>15653</th>\n",
              "      <td>00060087</td>\n",
              "      <td>1.0</td>\n",
              "      <td>ARGYLE SQUARE</td>\n",
              "      <td>Highways</td>\n",
              "      <td>Vacant Tree Pit (planned: Acer campestre eco s...</td>\n",
              "      <td>2019-11-09</td>\n",
              "      <td>2022/2023</td>\n",
              "      <td>NaN</td>\n",
              "      <td>NaN</td>\n",
              "      <td>NaN</td>\n",
              "      <td>E05000141</td>\n",
              "      <td>King's Cross</td>\n",
              "      <td>530342</td>\n",
              "      <td>182839</td>\n",
              "      <td>-0.122352</td>\n",
              "      <td>51.529428</td>\n",
              "      <td>(51.529428, -0.122352)</td>\n",
              "    </tr>\n",
              "  </tbody>\n",
              "</table>\n",
              "</div>\n",
              "    <div class=\"colab-df-buttons\">\n",
              "\n",
              "  <div class=\"colab-df-container\">\n",
              "    <button class=\"colab-df-convert\" onclick=\"convertToInteractive('df-86c0f93b-d74d-4674-8e8f-0b62cc5c7480')\"\n",
              "            title=\"Convert this dataframe to an interactive table.\"\n",
              "            style=\"display:none;\">\n",
              "\n",
              "  <svg xmlns=\"http://www.w3.org/2000/svg\" height=\"24px\" viewBox=\"0 -960 960 960\">\n",
              "    <path d=\"M120-120v-720h720v720H120Zm60-500h600v-160H180v160Zm220 220h160v-160H400v160Zm0 220h160v-160H400v160ZM180-400h160v-160H180v160Zm440 0h160v-160H620v160ZM180-180h160v-160H180v160Zm440 0h160v-160H620v160Z\"/>\n",
              "  </svg>\n",
              "    </button>\n",
              "\n",
              "  <style>\n",
              "    .colab-df-container {\n",
              "      display:flex;\n",
              "      gap: 12px;\n",
              "    }\n",
              "\n",
              "    .colab-df-convert {\n",
              "      background-color: #E8F0FE;\n",
              "      border: none;\n",
              "      border-radius: 50%;\n",
              "      cursor: pointer;\n",
              "      display: none;\n",
              "      fill: #1967D2;\n",
              "      height: 32px;\n",
              "      padding: 0 0 0 0;\n",
              "      width: 32px;\n",
              "    }\n",
              "\n",
              "    .colab-df-convert:hover {\n",
              "      background-color: #E2EBFA;\n",
              "      box-shadow: 0px 1px 2px rgba(60, 64, 67, 0.3), 0px 1px 3px 1px rgba(60, 64, 67, 0.15);\n",
              "      fill: #174EA6;\n",
              "    }\n",
              "\n",
              "    .colab-df-buttons div {\n",
              "      margin-bottom: 4px;\n",
              "    }\n",
              "\n",
              "    [theme=dark] .colab-df-convert {\n",
              "      background-color: #3B4455;\n",
              "      fill: #D2E3FC;\n",
              "    }\n",
              "\n",
              "    [theme=dark] .colab-df-convert:hover {\n",
              "      background-color: #434B5C;\n",
              "      box-shadow: 0px 1px 3px 1px rgba(0, 0, 0, 0.15);\n",
              "      filter: drop-shadow(0px 1px 2px rgba(0, 0, 0, 0.3));\n",
              "      fill: #FFFFFF;\n",
              "    }\n",
              "  </style>\n",
              "\n",
              "    <script>\n",
              "      const buttonEl =\n",
              "        document.querySelector('#df-86c0f93b-d74d-4674-8e8f-0b62cc5c7480 button.colab-df-convert');\n",
              "      buttonEl.style.display =\n",
              "        google.colab.kernel.accessAllowed ? 'block' : 'none';\n",
              "\n",
              "      async function convertToInteractive(key) {\n",
              "        const element = document.querySelector('#df-86c0f93b-d74d-4674-8e8f-0b62cc5c7480');\n",
              "        const dataTable =\n",
              "          await google.colab.kernel.invokeFunction('convertToInteractive',\n",
              "                                                    [key], {});\n",
              "        if (!dataTable) return;\n",
              "\n",
              "        const docLinkHtml = 'Like what you see? Visit the ' +\n",
              "          '<a target=\"_blank\" href=https://colab.research.google.com/notebooks/data_table.ipynb>data table notebook</a>'\n",
              "          + ' to learn more about interactive tables.';\n",
              "        element.innerHTML = '';\n",
              "        dataTable['output_type'] = 'display_data';\n",
              "        await google.colab.output.renderOutput(dataTable, element);\n",
              "        const docLink = document.createElement('div');\n",
              "        docLink.innerHTML = docLinkHtml;\n",
              "        element.appendChild(docLink);\n",
              "      }\n",
              "    </script>\n",
              "  </div>\n",
              "\n",
              "\n",
              "<div id=\"df-3f1a557f-d0fc-4eab-8561-00377f9fc8a4\">\n",
              "  <button class=\"colab-df-quickchart\" onclick=\"quickchart('df-3f1a557f-d0fc-4eab-8561-00377f9fc8a4')\"\n",
              "            title=\"Suggest charts\"\n",
              "            style=\"display:none;\">\n",
              "\n",
              "<svg xmlns=\"http://www.w3.org/2000/svg\" height=\"24px\"viewBox=\"0 0 24 24\"\n",
              "     width=\"24px\">\n",
              "    <g>\n",
              "        <path d=\"M19 3H5c-1.1 0-2 .9-2 2v14c0 1.1.9 2 2 2h14c1.1 0 2-.9 2-2V5c0-1.1-.9-2-2-2zM9 17H7v-7h2v7zm4 0h-2V7h2v10zm4 0h-2v-4h2v4z\"/>\n",
              "    </g>\n",
              "</svg>\n",
              "  </button>\n",
              "\n",
              "<style>\n",
              "  .colab-df-quickchart {\n",
              "      --bg-color: #E8F0FE;\n",
              "      --fill-color: #1967D2;\n",
              "      --hover-bg-color: #E2EBFA;\n",
              "      --hover-fill-color: #174EA6;\n",
              "      --disabled-fill-color: #AAA;\n",
              "      --disabled-bg-color: #DDD;\n",
              "  }\n",
              "\n",
              "  [theme=dark] .colab-df-quickchart {\n",
              "      --bg-color: #3B4455;\n",
              "      --fill-color: #D2E3FC;\n",
              "      --hover-bg-color: #434B5C;\n",
              "      --hover-fill-color: #FFFFFF;\n",
              "      --disabled-bg-color: #3B4455;\n",
              "      --disabled-fill-color: #666;\n",
              "  }\n",
              "\n",
              "  .colab-df-quickchart {\n",
              "    background-color: var(--bg-color);\n",
              "    border: none;\n",
              "    border-radius: 50%;\n",
              "    cursor: pointer;\n",
              "    display: none;\n",
              "    fill: var(--fill-color);\n",
              "    height: 32px;\n",
              "    padding: 0;\n",
              "    width: 32px;\n",
              "  }\n",
              "\n",
              "  .colab-df-quickchart:hover {\n",
              "    background-color: var(--hover-bg-color);\n",
              "    box-shadow: 0 1px 2px rgba(60, 64, 67, 0.3), 0 1px 3px 1px rgba(60, 64, 67, 0.15);\n",
              "    fill: var(--button-hover-fill-color);\n",
              "  }\n",
              "\n",
              "  .colab-df-quickchart-complete:disabled,\n",
              "  .colab-df-quickchart-complete:disabled:hover {\n",
              "    background-color: var(--disabled-bg-color);\n",
              "    fill: var(--disabled-fill-color);\n",
              "    box-shadow: none;\n",
              "  }\n",
              "\n",
              "  .colab-df-spinner {\n",
              "    border: 2px solid var(--fill-color);\n",
              "    border-color: transparent;\n",
              "    border-bottom-color: var(--fill-color);\n",
              "    animation:\n",
              "      spin 1s steps(1) infinite;\n",
              "  }\n",
              "\n",
              "  @keyframes spin {\n",
              "    0% {\n",
              "      border-color: transparent;\n",
              "      border-bottom-color: var(--fill-color);\n",
              "      border-left-color: var(--fill-color);\n",
              "    }\n",
              "    20% {\n",
              "      border-color: transparent;\n",
              "      border-left-color: var(--fill-color);\n",
              "      border-top-color: var(--fill-color);\n",
              "    }\n",
              "    30% {\n",
              "      border-color: transparent;\n",
              "      border-left-color: var(--fill-color);\n",
              "      border-top-color: var(--fill-color);\n",
              "      border-right-color: var(--fill-color);\n",
              "    }\n",
              "    40% {\n",
              "      border-color: transparent;\n",
              "      border-right-color: var(--fill-color);\n",
              "      border-top-color: var(--fill-color);\n",
              "    }\n",
              "    60% {\n",
              "      border-color: transparent;\n",
              "      border-right-color: var(--fill-color);\n",
              "    }\n",
              "    80% {\n",
              "      border-color: transparent;\n",
              "      border-right-color: var(--fill-color);\n",
              "      border-bottom-color: var(--fill-color);\n",
              "    }\n",
              "    90% {\n",
              "      border-color: transparent;\n",
              "      border-bottom-color: var(--fill-color);\n",
              "    }\n",
              "  }\n",
              "</style>\n",
              "\n",
              "  <script>\n",
              "    async function quickchart(key) {\n",
              "      const quickchartButtonEl =\n",
              "        document.querySelector('#' + key + ' button');\n",
              "      quickchartButtonEl.disabled = true;  // To prevent multiple clicks.\n",
              "      quickchartButtonEl.classList.add('colab-df-spinner');\n",
              "      try {\n",
              "        const charts = await google.colab.kernel.invokeFunction(\n",
              "            'suggestCharts', [key], {});\n",
              "      } catch (error) {\n",
              "        console.error('Error during call to suggestCharts:', error);\n",
              "      }\n",
              "      quickchartButtonEl.classList.remove('colab-df-spinner');\n",
              "      quickchartButtonEl.classList.add('colab-df-quickchart-complete');\n",
              "    }\n",
              "    (() => {\n",
              "      let quickchartButtonEl =\n",
              "        document.querySelector('#df-3f1a557f-d0fc-4eab-8561-00377f9fc8a4 button');\n",
              "      quickchartButtonEl.style.display =\n",
              "        google.colab.kernel.accessAllowed ? 'block' : 'none';\n",
              "    })();\n",
              "  </script>\n",
              "</div>\n",
              "    </div>\n",
              "  </div>\n"
            ]
          },
          "metadata": {},
          "execution_count": 72
        }
      ],
      "source": [
        "# Select the rows that are duplicated\n",
        "\n",
        "trees[trees[\"Identifier\"].isin(unique_counts[unique_counts==2].index)]"
      ]
    },
    {
      "cell_type": "markdown",
      "id": "a74e447b-7ae5-43f3-a189-94c066fe6fc0",
      "metadata": {
        "id": "a74e447b-7ae5-43f3-a189-94c066fe6fc0"
      },
      "source": [
        "<hr/>\n",
        "\n",
        "### 6.2 Observations\n",
        "\n",
        "<div style=\"background-color:lemonchiffon; border:1px solid; padding:5px; margin:5px; font-weight:bold\"><font color=\"crimson\">\n",
        "TODO: Write down your observations about duplicates in trees.\n",
        "    </font></div>\n"
      ]
    },
    {
      "cell_type": "markdown",
      "id": "7aaa910b-ccc4-4f78-80cd-467b683fe2e1",
      "metadata": {
        "id": "7aaa910b-ccc4-4f78-80cd-467b683fe2e1"
      },
      "source": [
        "All the duplicate data are from High Way Contract Area and the duplicates all have exactly the same data in the other columns. This might be a human error, recording same tree twice."
      ]
    },
    {
      "cell_type": "markdown",
      "id": "d0f41ea4-112c-4ea9-96a5-ca76e4b972b3",
      "metadata": {
        "id": "d0f41ea4-112c-4ea9-96a5-ca76e4b972b3"
      },
      "source": [
        "<hr/>"
      ]
    },
    {
      "cell_type": "markdown",
      "id": "59990f3e-6f73-46ee-8644-2dc503baa93a",
      "metadata": {
        "id": "59990f3e-6f73-46ee-8644-2dc503baa93a"
      },
      "source": [
        "## Task 7: Identify Geolocation Issues\n",
        "The geographic coordinates (Easting and Northing) can be used to plot the trees on a map.  We can use this approach to see if there are any unusual tree locations!\n",
        "\n",
        "We will make a copy of the original trees dataset and remove any rows that have a missing easting or northing as these can't be plotted on the map.\n",
        "\n",
        "We can copy the DataFrame using:\n",
        "\n",
        "- [pandas.DataFrame.copy](https://pandas.pydata.org/pandas-docs/stable/reference/api/pandas.DataFrame.copy.html)\n",
        "\n",
        "We can use the DataFrame filtering technique we saw before to remove the missing values.  E.g. the following code filters out rows where the value for 'mycolumn' is 100:\n",
        "\n",
        "    mask = df['mycolumn'] != 100\n",
        "    df = df[mask]\n",
        "\n",
        "You can also create masks using a function, e.g. this creates a mask which excludes nulls:\n",
        "\n",
        "    mask = df['mycolumn'].isnull()\n",
        "\n",
        "We can use this function to plot the trees on a map. Set x to \"Easting\" and y to \"Northing\" and set a figsize parameter to (6, 6) to get a square aspect ratio:\n",
        "\n",
        "- [pandas.DataFrame.plot.scatter](https://pandas.pydata.org/pandas-docs/version/0.25.0/reference/api/pandas.DataFrame.plot.scatter.html)\n",
        "\n",
        "\n"
      ]
    },
    {
      "cell_type": "markdown",
      "id": "0bdaf281-68a3-43d4-abb6-f3c42a088f7f",
      "metadata": {
        "id": "0bdaf281-68a3-43d4-abb6-f3c42a088f7f"
      },
      "source": [
        "### 7.1 Remove Trees with Missing Geo-coordinates\n",
        "Check if there are any rows with null or 0 geo-coordinates.  If there are, remove them as we can't plot these.\n",
        "\n",
        "<div style=\"background-color:lemonchiffon; border:1px solid; padding:5px; margin:5px; font-weight:bold\"><font color=\"crimson\">\n",
        "TODO: Complete the following code cells\n",
        "    </font></div>"
      ]
    },
    {
      "cell_type": "code",
      "execution_count": null,
      "id": "913c1d69-b105-44aa-be2f-73b537313c6e",
      "metadata": {
        "id": "913c1d69-b105-44aa-be2f-73b537313c6e"
      },
      "outputs": [],
      "source": [
        "# Make a copy of the trees\n",
        "geotrees = trees.copy()"
      ]
    },
    {
      "cell_type": "code",
      "execution_count": null,
      "id": "3a9b5bf6-bda3-472f-9796-060023cff4e8",
      "metadata": {
        "id": "3a9b5bf6-bda3-472f-9796-060023cff4e8"
      },
      "outputs": [],
      "source": [
        "# Remove null Eastings\n",
        "geotrees = geotrees.dropna(subset = 'Easting')"
      ]
    },
    {
      "cell_type": "code",
      "execution_count": null,
      "id": "7f77324a-f2e4-4d69-a0fe-1d71757c6f6e",
      "metadata": {
        "id": "7f77324a-f2e4-4d69-a0fe-1d71757c6f6e"
      },
      "outputs": [],
      "source": [
        "# Remove 0 Eastings.\n",
        "geotrees = geotrees.drop(geotrees[geotrees.Easting == 0].index)\n"
      ]
    },
    {
      "cell_type": "code",
      "execution_count": null,
      "id": "40ccb789-0cab-4218-9caa-e7e08b2b71ae",
      "metadata": {
        "id": "40ccb789-0cab-4218-9caa-e7e08b2b71ae"
      },
      "outputs": [],
      "source": [
        "# Remove null Northings\n",
        "geotrees = geotrees.dropna(subset = 'Northing')"
      ]
    },
    {
      "cell_type": "code",
      "execution_count": null,
      "id": "c77858c5-99e7-4f1f-affa-bd2370b9aed8",
      "metadata": {
        "id": "c77858c5-99e7-4f1f-affa-bd2370b9aed8"
      },
      "outputs": [],
      "source": [
        "# Remove 0 Northings.\n",
        "geotrees = geotrees.drop(geotrees[geotrees.Northing == 0].index)"
      ]
    },
    {
      "cell_type": "code",
      "execution_count": null,
      "id": "616a5473-5d71-486a-9ea0-c401fc7f4428",
      "metadata": {
        "id": "616a5473-5d71-486a-9ea0-c401fc7f4428",
        "colab": {
          "base_uri": "https://localhost:8080/"
        },
        "outputId": "a01f0440-b847-4409-b1d8-74019c6c176b"
      },
      "outputs": [
        {
          "output_type": "execute_result",
          "data": {
            "text/plain": [
              "(23388, 17)"
            ]
          },
          "metadata": {},
          "execution_count": 78
        }
      ],
      "source": [
        "# Confirm how many rows we have\n",
        "geotrees.shape"
      ]
    },
    {
      "cell_type": "markdown",
      "id": "a63dbcfc-e781-4812-9a10-1cf5be028dae",
      "metadata": {
        "id": "a63dbcfc-e781-4812-9a10-1cf5be028dae"
      },
      "source": [
        "<hr/>"
      ]
    },
    {
      "cell_type": "markdown",
      "id": "d1e84a3c-7eed-408a-a724-3944d89e0755",
      "metadata": {
        "id": "d1e84a3c-7eed-408a-a724-3944d89e0755"
      },
      "source": [
        "### 7.2 Plot Map of Trees\n",
        "Now make the plot.  Do a scatter plot of Northing vs Easting. You should obtain an outline of the map of Camden. Compare that outline with a real map of Camden (use good old google maps!). You’ll be able to spot the trees that should not be in that dataset from there!\n",
        "\n",
        "<div style=\"background-color:lemonchiffon; border:1px solid; padding:5px; margin:5px; font-weight:bold\"><font color=\"crimson\">\n",
        "TODO: Complete the following code cell\n",
        "    </font></div>"
      ]
    },
    {
      "cell_type": "code",
      "execution_count": null,
      "id": "b51e227f-bd09-4064-9f60-be766962646d",
      "metadata": {
        "id": "b51e227f-bd09-4064-9f60-be766962646d",
        "colab": {
          "base_uri": "https://localhost:8080/",
          "height": 466
        },
        "outputId": "9853a949-8c43-4e60-c015-bf5c577a1518"
      },
      "outputs": [
        {
          "output_type": "execute_result",
          "data": {
            "text/plain": [
              "<Axes: xlabel='Easting', ylabel='Northing'>"
            ]
          },
          "metadata": {},
          "execution_count": 79
        },
        {
          "output_type": "display_data",
          "data": {
            "text/plain": [
              "<Figure size 640x480 with 1 Axes>"
            ],
            "image/png": "[encoded data removed]"
          },
          "metadata": {}
        }
      ],
      "source": [
        "# Plot the trees on a map\n",
        "geotrees.plot.scatter(x='Easting',y='Northing', s=1.5)"
      ]
    },
    {
      "cell_type": "markdown",
      "id": "6914e59e-aaeb-4b9b-8a84-b4007e2ad747",
      "metadata": {
        "id": "6914e59e-aaeb-4b9b-8a84-b4007e2ad747"
      },
      "source": [
        "### 7.3 Find Trees Outside Camden\n",
        "From the scatter plot, you should be able to determine how to select the rows from the trees data set containing the offending trees (using the Easting and Northing values)\n",
        "\n",
        "Select the rows containing trees outside of Camden.  Use the filter technique again.\n",
        "\n",
        "<div style=\"background-color:lemonchiffon; border:1px solid; padding:5px; margin:5px; font-weight:bold\"><font color=\"crimson\">\n",
        "TODO: Complete the following code cells\n",
        "    </font></div>"
      ]
    },
    {
      "cell_type": "code",
      "execution_count": null,
      "id": "4b992a8f-d5be-4adb-a383-4f8e5505b2ed",
      "metadata": {
        "id": "4b992a8f-d5be-4adb-a383-4f8e5505b2ed",
        "colab": {
          "base_uri": "https://localhost:8080/",
          "height": 657
        },
        "outputId": "33424a28-c877-44cc-9f97-a1e91deb6ea3"
      },
      "outputs": [
        {
          "output_type": "execute_result",
          "data": {
            "text/plain": [
              "      Identifier  Number Of Trees                  Site Name Contract Area  \\\n",
              "78      00044991              1.0          Bells Hill Estate       Housing   \n",
              "298     00045000              1.0  Estate 167 Furzehill Road       Housing   \n",
              "660     00044992              1.0          Bells Hill Estate       Housing   \n",
              "1526    00044995              1.0          Bells Hill Estate       Housing   \n",
              "5392    00044990              1.0          Bells Hill Estate       Housing   \n",
              "18069   00044993              1.0          Bells Hill Estate       Housing   \n",
              "18078   00044601              1.0          Bells Hill Estate       Housing   \n",
              "19532   00044988              1.0          Bells Hill Estate       Housing   \n",
              "\n",
              "              Scientific Name Inspection Date Inspection Due Date  \\\n",
              "78         Fraxinus excelsior      2017-04-28           2020/2021   \n",
              "298          Pinus sylvestris      2017-04-28           2020/2021   \n",
              "660        Crataegus monogyna      2017-04-28           2020/2021   \n",
              "1526       Fraxinus excelsior      2017-04-28           2020/2021   \n",
              "5392   Aesculus hippocastanum      2017-04-28           2020/2021   \n",
              "18069           Tilia cordata      2017-04-28           2020/2021   \n",
              "18078           Tilia cordata      2017-04-28           2020/2021   \n",
              "19532           Tilia cordata      2017-04-28           2020/2021   \n",
              "\n",
              "       Height In Metres  Spread In Metres  \\\n",
              "78                 20.0              10.0   \n",
              "298                10.0               3.0   \n",
              "660                 4.0               4.0   \n",
              "1526               18.0              12.0   \n",
              "5392               22.0              12.0   \n",
              "18069              23.0              14.0   \n",
              "18078              21.0              12.0   \n",
              "19532              21.0              12.0   \n",
              "\n",
              "       Diameter In Centimetres At Breast Height Ward Code Ward Name  Easting  \\\n",
              "78                                         49.0       NaN       NaN   523883   \n",
              "298                                        41.0       NaN       NaN   520367   \n",
              "660                                         7.0       NaN       NaN   523875   \n",
              "1526                                       54.0       NaN       NaN   523936   \n",
              "5392                                       67.0       NaN       NaN   523889   \n",
              "18069                                      89.0       NaN       NaN   523867   \n",
              "18078                                      56.0       NaN       NaN   523905   \n",
              "19532                                      65.0       NaN       NaN   523909   \n",
              "\n",
              "       Northing  Longitude   Latitude                Location  \n",
              "78       196179  -0.210713  51.650765  (51.650765, -0.210713)  \n",
              "298      195595  -0.261719  51.646283  (51.646283, -0.261719)  \n",
              "660      196170  -0.210830  51.650690    (51.65069, -0.21083)  \n",
              "1526     196127  -0.209969  51.650287  (51.650287, -0.209969)  \n",
              "5392     196188  -0.210618  51.650843  (51.650843, -0.210618)  \n",
              "18069    196159  -0.210957  51.650590   (51.65059, -0.210957)  \n",
              "18078    196174  -0.210394  51.650719  (51.650719, -0.210394)  \n",
              "19532    196169  -0.210340  51.650676   (51.650676, -0.21034)  "
            ],
            "text/html": [
              "\n",
              "  <div id=\"df-3c45c589-d541-404a-bf31-e7feb4d92925\" class=\"colab-df-container\">\n",
              "    <div>\n",
              "<style scoped>\n",
              "    .dataframe tbody tr th:only-of-type {\n",
              "        vertical-align: middle;\n",
              "    }\n",
              "\n",
              "    .dataframe tbody tr th {\n",
              "        vertical-align: top;\n",
              "    }\n",
              "\n",
              "    .dataframe thead th {\n",
              "        text-align: right;\n",
              "    }\n",
              "</style>\n",
              "<table border=\"1\" class=\"dataframe\">\n",
              "  <thead>\n",
              "    <tr style=\"text-align: right;\">\n",
              "      <th></th>\n",
              "      <th>Identifier</th>\n",
              "      <th>Number Of Trees</th>\n",
              "      <th>Site Name</th>\n",
              "      <th>Contract Area</th>\n",
              "      <th>Scientific Name</th>\n",
              "      <th>Inspection Date</th>\n",
              "      <th>Inspection Due Date</th>\n",
              "      <th>Height In Metres</th>\n",
              "      <th>Spread In Metres</th>\n",
              "      <th>Diameter In Centimetres At Breast Height</th>\n",
              "      <th>Ward Code</th>\n",
              "      <th>Ward Name</th>\n",
              "      <th>Easting</th>\n",
              "      <th>Northing</th>\n",
              "      <th>Longitude</th>\n",
              "      <th>Latitude</th>\n",
              "      <th>Location</th>\n",
              "    </tr>\n",
              "  </thead>\n",
              "  <tbody>\n",
              "    <tr>\n",
              "      <th>78</th>\n",
              "      <td>00044991</td>\n",
              "      <td>1.0</td>\n",
              "      <td>Bells Hill Estate</td>\n",
              "      <td>Housing</td>\n",
              "      <td>Fraxinus excelsior</td>\n",
              "      <td>2017-04-28</td>\n",
              "      <td>2020/2021</td>\n",
              "      <td>20.0</td>\n",
              "      <td>10.0</td>\n",
              "      <td>49.0</td>\n",
              "      <td>NaN</td>\n",
              "      <td>NaN</td>\n",
              "      <td>523883</td>\n",
              "      <td>196179</td>\n",
              "      <td>-0.210713</td>\n",
              "      <td>51.650765</td>\n",
              "      <td>(51.650765, -0.210713)</td>\n",
              "    </tr>\n",
              "    <tr>\n",
              "      <th>298</th>\n",
              "      <td>00045000</td>\n",
              "      <td>1.0</td>\n",
              "      <td>Estate 167 Furzehill Road</td>\n",
              "      <td>Housing</td>\n",
              "      <td>Pinus sylvestris</td>\n",
              "      <td>2017-04-28</td>\n",
              "      <td>2020/2021</td>\n",
              "      <td>10.0</td>\n",
              "      <td>3.0</td>\n",
              "      <td>41.0</td>\n",
              "      <td>NaN</td>\n",
              "      <td>NaN</td>\n",
              "      <td>520367</td>\n",
              "      <td>195595</td>\n",
              "      <td>-0.261719</td>\n",
              "      <td>51.646283</td>\n",
              "      <td>(51.646283, -0.261719)</td>\n",
              "    </tr>\n",
              "    <tr>\n",
              "      <th>660</th>\n",
              "      <td>00044992</td>\n",
              "      <td>1.0</td>\n",
              "      <td>Bells Hill Estate</td>\n",
              "      <td>Housing</td>\n",
              "      <td>Crataegus monogyna</td>\n",
              "      <td>2017-04-28</td>\n",
              "      <td>2020/2021</td>\n",
              "      <td>4.0</td>\n",
              "      <td>4.0</td>\n",
              "      <td>7.0</td>\n",
              "      <td>NaN</td>\n",
              "      <td>NaN</td>\n",
              "      <td>523875</td>\n",
              "      <td>196170</td>\n",
              "      <td>-0.210830</td>\n",
              "      <td>51.650690</td>\n",
              "      <td>(51.65069, -0.21083)</td>\n",
              "    </tr>\n",
              "    <tr>\n",
              "      <th>1526</th>\n",
              "      <td>00044995</td>\n",
              "      <td>1.0</td>\n",
              "      <td>Bells Hill Estate</td>\n",
              "      <td>Housing</td>\n",
              "      <td>Fraxinus excelsior</td>\n",
              "      <td>2017-04-28</td>\n",
              "      <td>2020/2021</td>\n",
              "      <td>18.0</td>\n",
              "      <td>12.0</td>\n",
              "      <td>54.0</td>\n",
              "      <td>NaN</td>\n",
              "      <td>NaN</td>\n",
              "      <td>523936</td>\n",
              "      <td>196127</td>\n",
              "      <td>-0.209969</td>\n",
              "      <td>51.650287</td>\n",
              "      <td>(51.650287, -0.209969)</td>\n",
              "    </tr>\n",
              "    <tr>\n",
              "      <th>5392</th>\n",
              "      <td>00044990</td>\n",
              "      <td>1.0</td>\n",
              "      <td>Bells Hill Estate</td>\n",
              "      <td>Housing</td>\n",
              "      <td>Aesculus hippocastanum</td>\n",
              "      <td>2017-04-28</td>\n",
              "      <td>2020/2021</td>\n",
              "      <td>22.0</td>\n",
              "      <td>12.0</td>\n",
              "      <td>67.0</td>\n",
              "      <td>NaN</td>\n",
              "      <td>NaN</td>\n",
              "      <td>523889</td>\n",
              "      <td>196188</td>\n",
              "      <td>-0.210618</td>\n",
              "      <td>51.650843</td>\n",
              "      <td>(51.650843, -0.210618)</td>\n",
              "    </tr>\n",
              "    <tr>\n",
              "      <th>18069</th>\n",
              "      <td>00044993</td>\n",
              "      <td>1.0</td>\n",
              "      <td>Bells Hill Estate</td>\n",
              "      <td>Housing</td>\n",
              "      <td>Tilia cordata</td>\n",
              "      <td>2017-04-28</td>\n",
              "      <td>2020/2021</td>\n",
              "      <td>23.0</td>\n",
              "      <td>14.0</td>\n",
              "      <td>89.0</td>\n",
              "      <td>NaN</td>\n",
              "      <td>NaN</td>\n",
              "      <td>523867</td>\n",
              "      <td>196159</td>\n",
              "      <td>-0.210957</td>\n",
              "      <td>51.650590</td>\n",
              "      <td>(51.65059, -0.210957)</td>\n",
              "    </tr>\n",
              "    <tr>\n",
              "      <th>18078</th>\n",
              "      <td>00044601</td>\n",
              "      <td>1.0</td>\n",
              "      <td>Bells Hill Estate</td>\n",
              "      <td>Housing</td>\n",
              "      <td>Tilia cordata</td>\n",
              "      <td>2017-04-28</td>\n",
              "      <td>2020/2021</td>\n",
              "      <td>21.0</td>\n",
              "      <td>12.0</td>\n",
              "      <td>56.0</td>\n",
              "      <td>NaN</td>\n",
              "      <td>NaN</td>\n",
              "      <td>523905</td>\n",
              "      <td>196174</td>\n",
              "      <td>-0.210394</td>\n",
              "      <td>51.650719</td>\n",
              "      <td>(51.650719, -0.210394)</td>\n",
              "    </tr>\n",
              "    <tr>\n",
              "      <th>19532</th>\n",
              "      <td>00044988</td>\n",
              "      <td>1.0</td>\n",
              "      <td>Bells Hill Estate</td>\n",
              "      <td>Housing</td>\n",
              "      <td>Tilia cordata</td>\n",
              "      <td>2017-04-28</td>\n",
              "      <td>2020/2021</td>\n",
              "      <td>21.0</td>\n",
              "      <td>12.0</td>\n",
              "      <td>65.0</td>\n",
              "      <td>NaN</td>\n",
              "      <td>NaN</td>\n",
              "      <td>523909</td>\n",
              "      <td>196169</td>\n",
              "      <td>-0.210340</td>\n",
              "      <td>51.650676</td>\n",
              "      <td>(51.650676, -0.21034)</td>\n",
              "    </tr>\n",
              "  </tbody>\n",
              "</table>\n",
              "</div>\n",
              "    <div class=\"colab-df-buttons\">\n",
              "\n",
              "  <div class=\"colab-df-container\">\n",
              "    <button class=\"colab-df-convert\" onclick=\"convertToInteractive('df-3c45c589-d541-404a-bf31-e7feb4d92925')\"\n",
              "            title=\"Convert this dataframe to an interactive table.\"\n",
              "            style=\"display:none;\">\n",
              "\n",
              "  <svg xmlns=\"http://www.w3.org/2000/svg\" height=\"24px\" viewBox=\"0 -960 960 960\">\n",
              "    <path d=\"M120-120v-720h720v720H120Zm60-500h600v-160H180v160Zm220 220h160v-160H400v160Zm0 220h160v-160H400v160ZM180-400h160v-160H180v160Zm440 0h160v-160H620v160ZM180-180h160v-160H180v160Zm440 0h160v-160H620v160Z\"/>\n",
              "  </svg>\n",
              "    </button>\n",
              "\n",
              "  <style>\n",
              "    .colab-df-container {\n",
              "      display:flex;\n",
              "      gap: 12px;\n",
              "    }\n",
              "\n",
              "    .colab-df-convert {\n",
              "      background-color: #E8F0FE;\n",
              "      border: none;\n",
              "      border-radius: 50%;\n",
              "      cursor: pointer;\n",
              "      display: none;\n",
              "      fill: #1967D2;\n",
              "      height: 32px;\n",
              "      padding: 0 0 0 0;\n",
              "      width: 32px;\n",
              "    }\n",
              "\n",
              "    .colab-df-convert:hover {\n",
              "      background-color: #E2EBFA;\n",
              "      box-shadow: 0px 1px 2px rgba(60, 64, 67, 0.3), 0px 1px 3px 1px rgba(60, 64, 67, 0.15);\n",
              "      fill: #174EA6;\n",
              "    }\n",
              "\n",
              "    .colab-df-buttons div {\n",
              "      margin-bottom: 4px;\n",
              "    }\n",
              "\n",
              "    [theme=dark] .colab-df-convert {\n",
              "      background-color: #3B4455;\n",
              "      fill: #D2E3FC;\n",
              "    }\n",
              "\n",
              "    [theme=dark] .colab-df-convert:hover {\n",
              "      background-color: #434B5C;\n",
              "      box-shadow: 0px 1px 3px 1px rgba(0, 0, 0, 0.15);\n",
              "      filter: drop-shadow(0px 1px 2px rgba(0, 0, 0, 0.3));\n",
              "      fill: #FFFFFF;\n",
              "    }\n",
              "  </style>\n",
              "\n",
              "    <script>\n",
              "      const buttonEl =\n",
              "        document.querySelector('#df-3c45c589-d541-404a-bf31-e7feb4d92925 button.colab-df-convert');\n",
              "      buttonEl.style.display =\n",
              "        google.colab.kernel.accessAllowed ? 'block' : 'none';\n",
              "\n",
              "      async function convertToInteractive(key) {\n",
              "        const element = document.querySelector('#df-3c45c589-d541-404a-bf31-e7feb4d92925');\n",
              "        const dataTable =\n",
              "          await google.colab.kernel.invokeFunction('convertToInteractive',\n",
              "                                                    [key], {});\n",
              "        if (!dataTable) return;\n",
              "\n",
              "        const docLinkHtml = 'Like what you see? Visit the ' +\n",
              "          '<a target=\"_blank\" href=https://colab.research.google.com/notebooks/data_table.ipynb>data table notebook</a>'\n",
              "          + ' to learn more about interactive tables.';\n",
              "        element.innerHTML = '';\n",
              "        dataTable['output_type'] = 'display_data';\n",
              "        await google.colab.output.renderOutput(dataTable, element);\n",
              "        const docLink = document.createElement('div');\n",
              "        docLink.innerHTML = docLinkHtml;\n",
              "        element.appendChild(docLink);\n",
              "      }\n",
              "    </script>\n",
              "  </div>\n",
              "\n",
              "\n",
              "<div id=\"df-63ca2fdb-fe60-42ab-bd41-fbb171458fd4\">\n",
              "  <button class=\"colab-df-quickchart\" onclick=\"quickchart('df-63ca2fdb-fe60-42ab-bd41-fbb171458fd4')\"\n",
              "            title=\"Suggest charts\"\n",
              "            style=\"display:none;\">\n",
              "\n",
              "<svg xmlns=\"http://www.w3.org/2000/svg\" height=\"24px\"viewBox=\"0 0 24 24\"\n",
              "     width=\"24px\">\n",
              "    <g>\n",
              "        <path d=\"M19 3H5c-1.1 0-2 .9-2 2v14c0 1.1.9 2 2 2h14c1.1 0 2-.9 2-2V5c0-1.1-.9-2-2-2zM9 17H7v-7h2v7zm4 0h-2V7h2v10zm4 0h-2v-4h2v4z\"/>\n",
              "    </g>\n",
              "</svg>\n",
              "  </button>\n",
              "\n",
              "<style>\n",
              "  .colab-df-quickchart {\n",
              "      --bg-color: #E8F0FE;\n",
              "      --fill-color: #1967D2;\n",
              "      --hover-bg-color: #E2EBFA;\n",
              "      --hover-fill-color: #174EA6;\n",
              "      --disabled-fill-color: #AAA;\n",
              "      --disabled-bg-color: #DDD;\n",
              "  }\n",
              "\n",
              "  [theme=dark] .colab-df-quickchart {\n",
              "      --bg-color: #3B4455;\n",
              "      --fill-color: #D2E3FC;\n",
              "      --hover-bg-color: #434B5C;\n",
              "      --hover-fill-color: #FFFFFF;\n",
              "      --disabled-bg-color: #3B4455;\n",
              "      --disabled-fill-color: #666;\n",
              "  }\n",
              "\n",
              "  .colab-df-quickchart {\n",
              "    background-color: var(--bg-color);\n",
              "    border: none;\n",
              "    border-radius: 50%;\n",
              "    cursor: pointer;\n",
              "    display: none;\n",
              "    fill: var(--fill-color);\n",
              "    height: 32px;\n",
              "    padding: 0;\n",
              "    width: 32px;\n",
              "  }\n",
              "\n",
              "  .colab-df-quickchart:hover {\n",
              "    background-color: var(--hover-bg-color);\n",
              "    box-shadow: 0 1px 2px rgba(60, 64, 67, 0.3), 0 1px 3px 1px rgba(60, 64, 67, 0.15);\n",
              "    fill: var(--button-hover-fill-color);\n",
              "  }\n",
              "\n",
              "  .colab-df-quickchart-complete:disabled,\n",
              "  .colab-df-quickchart-complete:disabled:hover {\n",
              "    background-color: var(--disabled-bg-color);\n",
              "    fill: var(--disabled-fill-color);\n",
              "    box-shadow: none;\n",
              "  }\n",
              "\n",
              "  .colab-df-spinner {\n",
              "    border: 2px solid var(--fill-color);\n",
              "    border-color: transparent;\n",
              "    border-bottom-color: var(--fill-color);\n",
              "    animation:\n",
              "      spin 1s steps(1) infinite;\n",
              "  }\n",
              "\n",
              "  @keyframes spin {\n",
              "    0% {\n",
              "      border-color: transparent;\n",
              "      border-bottom-color: var(--fill-color);\n",
              "      border-left-color: var(--fill-color);\n",
              "    }\n",
              "    20% {\n",
              "      border-color: transparent;\n",
              "      border-left-color: var(--fill-color);\n",
              "      border-top-color: var(--fill-color);\n",
              "    }\n",
              "    30% {\n",
              "      border-color: transparent;\n",
              "      border-left-color: var(--fill-color);\n",
              "      border-top-color: var(--fill-color);\n",
              "      border-right-color: var(--fill-color);\n",
              "    }\n",
              "    40% {\n",
              "      border-color: transparent;\n",
              "      border-right-color: var(--fill-color);\n",
              "      border-top-color: var(--fill-color);\n",
              "    }\n",
              "    60% {\n",
              "      border-color: transparent;\n",
              "      border-right-color: var(--fill-color);\n",
              "    }\n",
              "    80% {\n",
              "      border-color: transparent;\n",
              "      border-right-color: var(--fill-color);\n",
              "      border-bottom-color: var(--fill-color);\n",
              "    }\n",
              "    90% {\n",
              "      border-color: transparent;\n",
              "      border-bottom-color: var(--fill-color);\n",
              "    }\n",
              "  }\n",
              "</style>\n",
              "\n",
              "  <script>\n",
              "    async function quickchart(key) {\n",
              "      const quickchartButtonEl =\n",
              "        document.querySelector('#' + key + ' button');\n",
              "      quickchartButtonEl.disabled = true;  // To prevent multiple clicks.\n",
              "      quickchartButtonEl.classList.add('colab-df-spinner');\n",
              "      try {\n",
              "        const charts = await google.colab.kernel.invokeFunction(\n",
              "            'suggestCharts', [key], {});\n",
              "      } catch (error) {\n",
              "        console.error('Error during call to suggestCharts:', error);\n",
              "      }\n",
              "      quickchartButtonEl.classList.remove('colab-df-spinner');\n",
              "      quickchartButtonEl.classList.add('colab-df-quickchart-complete');\n",
              "    }\n",
              "    (() => {\n",
              "      let quickchartButtonEl =\n",
              "        document.querySelector('#df-63ca2fdb-fe60-42ab-bd41-fbb171458fd4 button');\n",
              "      quickchartButtonEl.style.display =\n",
              "        google.colab.kernel.accessAllowed ? 'block' : 'none';\n",
              "    })();\n",
              "  </script>\n",
              "</div>\n",
              "    </div>\n",
              "  </div>\n"
            ]
          },
          "metadata": {},
          "execution_count": 80
        }
      ],
      "source": [
        "# Select the outlier rows\n",
        "Trees_outside_Camden = geotrees[geotrees[\"Northing\"] > 194000]\n",
        "Trees_outside_Camden"
      ]
    },
    {
      "cell_type": "code",
      "execution_count": null,
      "id": "0270dae9-9bcf-4b63-95cf-13b7c5184424",
      "metadata": {
        "id": "0270dae9-9bcf-4b63-95cf-13b7c5184424",
        "colab": {
          "base_uri": "https://localhost:8080/"
        },
        "outputId": "1ec92b9c-7c6b-4c52-85d6-2b0c23291928"
      },
      "outputs": [
        {
          "output_type": "execute_result",
          "data": {
            "text/plain": [
              "(8, 17)"
            ]
          },
          "metadata": {},
          "execution_count": 81
        }
      ],
      "source": [
        "# Confirm how many rows we have\n",
        "Trees_outside_Camden.shape"
      ]
    },
    {
      "cell_type": "markdown",
      "id": "ee3f0cff-17bb-4f75-a92c-876c56e230c5",
      "metadata": {
        "id": "ee3f0cff-17bb-4f75-a92c-876c56e230c5"
      },
      "source": [
        "<hr/>\n",
        "\n",
        "### 7.4 Observations\n",
        "\n",
        "\n",
        "<div style=\"background-color:lemonchiffon; border:1px solid; padding:5px; margin:5px; font-weight:bold\"><font color=\"crimson\">\n",
        "TODO: Write down your observation about geolocation issues.\n",
        "    </font></div>\n"
      ]
    },
    {
      "cell_type": "markdown",
      "id": "3f5a1605-de7e-4cb7-8190-c643122c104e",
      "metadata": {
        "id": "3f5a1605-de7e-4cb7-8190-c643122c104e"
      },
      "source": [
        "The 8 outliers are all Housing Contract Areas so perhaps they fall into Camden area ? The Ward Name and Code is null for these trees. One set of outliers fall in the lower quartile of Easting Values in Camden, however, the second set is definitely an outlier as it is extrememly lower on the scale."
      ]
    },
    {
      "cell_type": "markdown",
      "id": "0680cf79-2a3a-4e9c-8332-609680b69040",
      "metadata": {
        "id": "0680cf79-2a3a-4e9c-8332-609680b69040"
      },
      "source": [
        "<hr/>"
      ]
    },
    {
      "cell_type": "markdown",
      "id": "2c6f941f-e14a-4a51-aa29-66010910009a",
      "metadata": {
        "tags": [],
        "id": "2c6f941f-e14a-4a51-aa29-66010910009a"
      },
      "source": [
        "## Task 8: Identify Unmatched Data\n",
        "We have multiple datasets that will need to be joined together to produce the analyses required by the Camden Parks and Open Spaces team.  The data will need to be joined in the following way:\n",
        "\n",
        "- Use the `Identifier` column in the trees dataset to match to the `Identifier` column in the environmental data set (so we can bring in the environmental data for each tree)\n",
        "- Use the `Scientific Name` column in the trees dataset to match to the `Scientific Name` column in the common names data set (so we can look up the `Common Name`)\n",
        "\n",
        "There may be mismatches in the data.  Of particular concern we want to check\n",
        "\n",
        "- That every tree in the trees dataset has matching environmental data in the environmental data set\n",
        "- That every environmental row in the environmental dataset has matching tree data in the tree data set\n",
        "- That every scientific name in the trees dataset has a matching common name in the common names data set\n",
        "\n",
        "We aren't too concerned about the reverse of the last scenario (if we have extra names in the common names dataset that aren't in the trees data set).  We don't expect Camden to have a specimen of every tree that exists!  \n",
        "\n",
        "There are a few ways this can be done, but one technique is to use the `isin` function to check if some column in one dataframe contains values that are in another column in another dataframe.  This creates a mask containing rows that match between the two dataframes:\n",
        "\n",
        "    mask = df1['column_name1'].isin(df2['column_name2'])\n",
        "    \n",
        "To select the non-matching rows, we can use Python's bitwise not operator ~:\n",
        "\n",
        "    mask = ~df1['column_name1'].isin(df2['column_name2'])\n",
        "    \n",
        "As we have seen before, the mask can be used to select that subset of rows back from the original dataframe."
      ]
    },
    {
      "cell_type": "markdown",
      "id": "1f5064f7-e956-4420-b80c-f14c2d2d3427",
      "metadata": {
        "id": "1f5064f7-e956-4420-b80c-f14c2d2d3427"
      },
      "source": [
        "### 8.1 Find Trees that Don't have Matching Environmental Data\n",
        "<div style=\"background-color:lemonchiffon; border:1px solid; padding:5px; margin:5px; font-weight:bold\"><font color=\"crimson\">\n",
        "TODO: Complete the following code cells\n",
        "    </font></div>"
      ]
    },
    {
      "cell_type": "code",
      "execution_count": null,
      "id": "ec5e5506-1c6f-4f33-92d1-420ea57b6da5",
      "metadata": {
        "id": "ec5e5506-1c6f-4f33-92d1-420ea57b6da5",
        "colab": {
          "base_uri": "https://localhost:8080/",
          "height": 1000
        },
        "outputId": "fc15fb41-234e-4eef-e0c7-968ac9be1a20"
      },
      "outputs": [
        {
          "output_type": "execute_result",
          "data": {
            "text/plain": [
              "      Identifier  Number Of Trees                                Site Name  \\\n",
              "66      00059712              1.0                       Maiden Lane Estate   \n",
              "125     00048578              1.0                              BUCK STREET   \n",
              "1148    00006577              1.0                              FAWLEY ROAD   \n",
              "1998    00007366              1.0        FORTUNE GREEN RD, OPEN SPACE (LS)   \n",
              "2246    00014633              1.0                          Mortimer Estate   \n",
              "5478    00060382              1.0                       SHAFTESBURY AVENUE   \n",
              "10637   00002874              1.0                            BURGHLEY ROAD   \n",
              "10977   00055227              1.0                            BURGHLEY ROAD   \n",
              "11795   00016702              1.0            RED LION SQUARE, GARDENS (LS)   \n",
              "11856   00054744              1.0          Carrol & Sanderson Close Estate   \n",
              "12056   00003694              1.0              Estate 1-161 Burnham (cons)   \n",
              "12936   00054558              1.0        ST. MARY'S KILBURN C OF E JMI (E)   \n",
              "13248   00059317              1.0                ADELAIDE ROAD NATURE AREA   \n",
              "16815   00055884              1.0                         HONEYBOURNE ROAD   \n",
              "18690   00059963              1.0                   Ampthill Square Estate   \n",
              "18958   00059246              1.0  Belsize nature reserve, Russell Nursery   \n",
              "19606   00005127              1.0       CUMBERLAND MARKET, OPEN SPACE (LS)   \n",
              "20169   00017912              1.0                            SHERRIFF ROAD   \n",
              "20226   00047080              1.0                   Ampthill Square Estate   \n",
              "21287   00029059              1.0         Estate 1-20 Marrick House (cons)   \n",
              "22470   00012126              1.0                       KINGS COLLEGE ROAD   \n",
              "23301   00010784              1.0                       Holly Lodge Estate   \n",
              "23315   00056485              1.0                       WATERLOW PARK (LS)   \n",
              "\n",
              "      Contract Area                                    Scientific Name  \\\n",
              "66          Housing                                   Acer saccharinum   \n",
              "125        Highways                                   Sorbus aucuparia   \n",
              "1148       Highways                                     Tilia euchlora   \n",
              "1998          Parks                                    Ilex aquifolium   \n",
              "2246        Housing                                     Tilia europaea   \n",
              "5478       Highways                                    Vacant Tree Pit   \n",
              "10637      Highways                               Platanus x hispanica   \n",
              "10977      Highways                              Amelanchier lamarckii   \n",
              "11795         Parks                               Platanus x hispanica   \n",
              "11856       Housing                        Prunus unidentified species   \n",
              "12056       Housing                                   Acer platanoides   \n",
              "12936     Education                              Amelanchier lamarckii   \n",
              "13248         Parks                                         Stump Only   \n",
              "16815      Highways                     Acer pseudoplatanus 'Brilliant   \n",
              "18690       Housing  Vacant Tree Pit (planned: Parrotia persica van...   \n",
              "18958         Parks                                      Ulmus procera   \n",
              "19606         Parks                               Platanus x hispanica   \n",
              "20169      Highways                                 Tilia platyphyllos   \n",
              "20226       Housing                         Malus unidentified species   \n",
              "21287       Housing                                     Sambucus nigra   \n",
              "22470      Highways                                 Fraxinus excelsior   \n",
              "23301       Housing                                    Ilex aquifolium   \n",
              "23315         Parks                                 Fraxinus excelsior   \n",
              "\n",
              "      Inspection Date Inspection Due Date  Height In Metres  Spread In Metres  \\\n",
              "66         2019-05-28           2022/2023              12.0               5.0   \n",
              "125        2017-07-19           2020/2021               6.0               2.0   \n",
              "1148       2018-09-28           2021/2022              15.0               6.0   \n",
              "1998       2017-03-21           2019/2020               9.0               6.0   \n",
              "2246       2019-01-29           2021/2022              16.0              12.0   \n",
              "5478              NaT                 NaN               NaN               NaN   \n",
              "10637      2017-08-14           2020/2021              20.0               8.0   \n",
              "10977      2017-08-14           2020/2021               3.0               2.0   \n",
              "11795      2018-06-04           2021/2022              30.0              23.0   \n",
              "11856      2017-01-06           2020/2021               3.0               3.0   \n",
              "12056      2018-04-17           2021/2022               3.0               1.0   \n",
              "12936      2019-10-07           2022/2023               4.0               2.0   \n",
              "13248      2019-01-31           2021/2022               0.0               5.0   \n",
              "16815      2018-05-10           2021/2022               2.0               1.0   \n",
              "18690      2019-01-08           2022/2023               NaN               NaN   \n",
              "18958      2019-01-29           2021/2022               5.0               4.0   \n",
              "19606      2018-03-13           2020/2021              10.0               8.0   \n",
              "20169      2018-10-09           2021/2022               9.0               5.0   \n",
              "20226      2019-01-08           2022/2023               5.0               3.0   \n",
              "21287      2018-06-19           2021/2022               6.0               6.0   \n",
              "22470      2018-07-13           2021/2022              18.0              12.0   \n",
              "23301      2017-06-14           2020/2021               7.0               5.0   \n",
              "23315      2019-05-24           2022/2023              12.0               5.0   \n",
              "\n",
              "       Diameter In Centimetres At Breast Height  Ward Code  \\\n",
              "66                                         20.0  E05000131   \n",
              "125                                        10.0  E05000130   \n",
              "1148                                       38.0  E05000145   \n",
              "1998                                       44.0  E05000132   \n",
              "2246                                       47.0  E05000140   \n",
              "5478                                        NaN  E05000138   \n",
              "10637                                      52.0  E05000139   \n",
              "10977                                       5.0  E05000139   \n",
              "11795                                     165.0  E05000138   \n",
              "11856                                      13.0  E05000137   \n",
              "12056                                       6.0  E05000128   \n",
              "12936                                       8.0  E05000140   \n",
              "13248                                      50.0  E05000128   \n",
              "16815                                       4.0  E05000145   \n",
              "18690                                       NaN  E05000143   \n",
              "18958                                      11.0  E05000134   \n",
              "19606                                      38.0  E05000142   \n",
              "20169                                      42.0  E05000145   \n",
              "20226                                      16.0  E05000143   \n",
              "21287                                      39.0  E05000140   \n",
              "22470                                      48.0  E05000128   \n",
              "23301                                      20.0  E05000137   \n",
              "23315                                      16.0  E05000137   \n",
              "\n",
              "                            Ward Name  Easting  Northing  Longitude  \\\n",
              "66                         Cantelowes   529795    184142  -0.129750   \n",
              "125    Camden Town with Primrose Hill   528900    184020  -0.142698   \n",
              "1148                   West Hampstead   525572    185015  -0.190313   \n",
              "1998                    Fortune Green   525074    185541  -0.197304   \n",
              "2246                          Kilburn   525763    183613  -0.188060   \n",
              "5478        Holborn and Covent Garden   530073    181247  -0.126813   \n",
              "10637                    Kentish Town   529119    185889  -0.138863   \n",
              "10977                    Kentish Town   528920    185694  -0.141802   \n",
              "11795       Holborn and Covent Garden   530572    181701  -0.119460   \n",
              "11856                        Highgate   528661    185556  -0.145585   \n",
              "12056                         Belsize   527015    184315  -0.169763   \n",
              "12936                         Kilburn   525443    183919  -0.192552   \n",
              "13248                         Belsize   527577    184297  -0.161664   \n",
              "16815                  West Hampstead   525593    185050  -0.189987   \n",
              "18690      St Pancras and Somers Town   529216    183103  -0.138479   \n",
              "18958                      Gospel Oak   527523    185233  -0.162101   \n",
              "19606                   Regent's Park   528913    182814  -0.142959   \n",
              "20169                  West Hampstead   525265    184543  -0.194897   \n",
              "20226      St Pancras and Somers Town   529279    183106  -0.137573   \n",
              "21287                         Kilburn   525832    183583  -0.187075   \n",
              "22470                         Belsize   526999    184416  -0.169957   \n",
              "23301                        Highgate   528472    186812  -0.147845   \n",
              "23315                        Highgate   528730    187264  -0.143955   \n",
              "\n",
              "        Latitude                Location  \n",
              "66     51.541266   (51.541266, -0.12975)  \n",
              "125    51.540371  (51.540371, -0.142698)  \n",
              "1148   51.550062  (51.550062, -0.190313)  \n",
              "1998   51.554901  (51.554901, -0.197304)  \n",
              "2246   51.537424   (51.537424, -0.18806)  \n",
              "5478   51.515186  (51.515186, -0.126813)  \n",
              "10637  51.557120   (51.55712, -0.138863)  \n",
              "10977  51.555408  (51.555408, -0.141802)  \n",
              "11795  51.519146   (51.519146, -0.11946)  \n",
              "11856  51.554226  (51.554226, -0.145585)  \n",
              "12056  51.543451  (51.543451, -0.169763)  \n",
              "12936  51.540245  (51.540245, -0.192552)  \n",
              "13248  51.543163  (51.543163, -0.161664)  \n",
              "16815  51.550377  (51.550377, -0.189987)  \n",
              "18690  51.532058  (51.532058, -0.138479)  \n",
              "18958  51.551587  (51.551587, -0.162101)  \n",
              "19606  51.529527  (51.529527, -0.142959)  \n",
              "20169  51.545886  (51.545886, -0.194897)  \n",
              "20226  51.532073  (51.532073, -0.137573)  \n",
              "21287  51.537139  (51.537139, -0.187075)  \n",
              "22470  51.544363  (51.544363, -0.169957)  \n",
              "23301  51.565562  (51.565562, -0.147845)  \n",
              "23315  51.569567  (51.569567, -0.143955)  "
            ],
            "text/html": [
              "\n",
              "  <div id=\"df-6b3c22ab-46d5-4686-a236-868c3aff6276\" class=\"colab-df-container\">\n",
              "    <div>\n",
              "<style scoped>\n",
              "    .dataframe tbody tr th:only-of-type {\n",
              "        vertical-align: middle;\n",
              "    }\n",
              "\n",
              "    .dataframe tbody tr th {\n",
              "        vertical-align: top;\n",
              "    }\n",
              "\n",
              "    .dataframe thead th {\n",
              "        text-align: right;\n",
              "    }\n",
              "</style>\n",
              "<table border=\"1\" class=\"dataframe\">\n",
              "  <thead>\n",
              "    <tr style=\"text-align: right;\">\n",
              "      <th></th>\n",
              "      <th>Identifier</th>\n",
              "      <th>Number Of Trees</th>\n",
              "      <th>Site Name</th>\n",
              "      <th>Contract Area</th>\n",
              "      <th>Scientific Name</th>\n",
              "      <th>Inspection Date</th>\n",
              "      <th>Inspection Due Date</th>\n",
              "      <th>Height In Metres</th>\n",
              "      <th>Spread In Metres</th>\n",
              "      <th>Diameter In Centimetres At Breast Height</th>\n",
              "      <th>Ward Code</th>\n",
              "      <th>Ward Name</th>\n",
              "      <th>Easting</th>\n",
              "      <th>Northing</th>\n",
              "      <th>Longitude</th>\n",
              "      <th>Latitude</th>\n",
              "      <th>Location</th>\n",
              "    </tr>\n",
              "  </thead>\n",
              "  <tbody>\n",
              "    <tr>\n",
              "      <th>66</th>\n",
              "      <td>00059712</td>\n",
              "      <td>1.0</td>\n",
              "      <td>Maiden Lane Estate</td>\n",
              "      <td>Housing</td>\n",
              "      <td>Acer saccharinum</td>\n",
              "      <td>2019-05-28</td>\n",
              "      <td>2022/2023</td>\n",
              "      <td>12.0</td>\n",
              "      <td>5.0</td>\n",
              "      <td>20.0</td>\n",
              "      <td>E05000131</td>\n",
              "      <td>Cantelowes</td>\n",
              "      <td>529795</td>\n",
              "      <td>184142</td>\n",
              "      <td>-0.129750</td>\n",
              "      <td>51.541266</td>\n",
              "      <td>(51.541266, -0.12975)</td>\n",
              "    </tr>\n",
              "    <tr>\n",
              "      <th>125</th>\n",
              "      <td>00048578</td>\n",
              "      <td>1.0</td>\n",
              "      <td>BUCK STREET</td>\n",
              "      <td>Highways</td>\n",
              "      <td>Sorbus aucuparia</td>\n",
              "      <td>2017-07-19</td>\n",
              "      <td>2020/2021</td>\n",
              "      <td>6.0</td>\n",
              "      <td>2.0</td>\n",
              "      <td>10.0</td>\n",
              "      <td>E05000130</td>\n",
              "      <td>Camden Town with Primrose Hill</td>\n",
              "      <td>528900</td>\n",
              "      <td>184020</td>\n",
              "      <td>-0.142698</td>\n",
              "      <td>51.540371</td>\n",
              "      <td>(51.540371, -0.142698)</td>\n",
              "    </tr>\n",
              "    <tr>\n",
              "      <th>1148</th>\n",
              "      <td>00006577</td>\n",
              "      <td>1.0</td>\n",
              "      <td>FAWLEY ROAD</td>\n",
              "      <td>Highways</td>\n",
              "      <td>Tilia euchlora</td>\n",
              "      <td>2018-09-28</td>\n",
              "      <td>2021/2022</td>\n",
              "      <td>15.0</td>\n",
              "      <td>6.0</td>\n",
              "      <td>38.0</td>\n",
              "      <td>E05000145</td>\n",
              "      <td>West Hampstead</td>\n",
              "      <td>525572</td>\n",
              "      <td>185015</td>\n",
              "      <td>-0.190313</td>\n",
              "      <td>51.550062</td>\n",
              "      <td>(51.550062, -0.190313)</td>\n",
              "    </tr>\n",
              "    <tr>\n",
              "      <th>1998</th>\n",
              "      <td>00007366</td>\n",
              "      <td>1.0</td>\n",
              "      <td>FORTUNE GREEN RD, OPEN SPACE (LS)</td>\n",
              "      <td>Parks</td>\n",
              "      <td>Ilex aquifolium</td>\n",
              "      <td>2017-03-21</td>\n",
              "      <td>2019/2020</td>\n",
              "      <td>9.0</td>\n",
              "      <td>6.0</td>\n",
              "      <td>44.0</td>\n",
              "      <td>E05000132</td>\n",
              "      <td>Fortune Green</td>\n",
              "      <td>525074</td>\n",
              "      <td>185541</td>\n",
              "      <td>-0.197304</td>\n",
              "      <td>51.554901</td>\n",
              "      <td>(51.554901, -0.197304)</td>\n",
              "    </tr>\n",
              "    <tr>\n",
              "      <th>2246</th>\n",
              "      <td>00014633</td>\n",
              "      <td>1.0</td>\n",
              "      <td>Mortimer Estate</td>\n",
              "      <td>Housing</td>\n",
              "      <td>Tilia europaea</td>\n",
              "      <td>2019-01-29</td>\n",
              "      <td>2021/2022</td>\n",
              "      <td>16.0</td>\n",
              "      <td>12.0</td>\n",
              "      <td>47.0</td>\n",
              "      <td>E05000140</td>\n",
              "      <td>Kilburn</td>\n",
              "      <td>525763</td>\n",
              "      <td>183613</td>\n",
              "      <td>-0.188060</td>\n",
              "      <td>51.537424</td>\n",
              "      <td>(51.537424, -0.18806)</td>\n",
              "    </tr>\n",
              "    <tr>\n",
              "      <th>5478</th>\n",
              "      <td>00060382</td>\n",
              "      <td>1.0</td>\n",
              "      <td>SHAFTESBURY AVENUE</td>\n",
              "      <td>Highways</td>\n",
              "      <td>Vacant Tree Pit</td>\n",
              "      <td>NaT</td>\n",
              "      <td>NaN</td>\n",
              "      <td>NaN</td>\n",
              "      <td>NaN</td>\n",
              "      <td>NaN</td>\n",
              "      <td>E05000138</td>\n",
              "      <td>Holborn and Covent Garden</td>\n",
              "      <td>530073</td>\n",
              "      <td>181247</td>\n",
              "      <td>-0.126813</td>\n",
              "      <td>51.515186</td>\n",
              "      <td>(51.515186, -0.126813)</td>\n",
              "    </tr>\n",
              "    <tr>\n",
              "      <th>10637</th>\n",
              "      <td>00002874</td>\n",
              "      <td>1.0</td>\n",
              "      <td>BURGHLEY ROAD</td>\n",
              "      <td>Highways</td>\n",
              "      <td>Platanus x hispanica</td>\n",
              "      <td>2017-08-14</td>\n",
              "      <td>2020/2021</td>\n",
              "      <td>20.0</td>\n",
              "      <td>8.0</td>\n",
              "      <td>52.0</td>\n",
              "      <td>E05000139</td>\n",
              "      <td>Kentish Town</td>\n",
              "      <td>529119</td>\n",
              "      <td>185889</td>\n",
              "      <td>-0.138863</td>\n",
              "      <td>51.557120</td>\n",
              "      <td>(51.55712, -0.138863)</td>\n",
              "    </tr>\n",
              "    <tr>\n",
              "      <th>10977</th>\n",
              "      <td>00055227</td>\n",
              "      <td>1.0</td>\n",
              "      <td>BURGHLEY ROAD</td>\n",
              "      <td>Highways</td>\n",
              "      <td>Amelanchier lamarckii</td>\n",
              "      <td>2017-08-14</td>\n",
              "      <td>2020/2021</td>\n",
              "      <td>3.0</td>\n",
              "      <td>2.0</td>\n",
              "      <td>5.0</td>\n",
              "      <td>E05000139</td>\n",
              "      <td>Kentish Town</td>\n",
              "      <td>528920</td>\n",
              "      <td>185694</td>\n",
              "      <td>-0.141802</td>\n",
              "      <td>51.555408</td>\n",
              "      <td>(51.555408, -0.141802)</td>\n",
              "    </tr>\n",
              "    <tr>\n",
              "      <th>11795</th>\n",
              "      <td>00016702</td>\n",
              "      <td>1.0</td>\n",
              "      <td>RED LION SQUARE, GARDENS (LS)</td>\n",
              "      <td>Parks</td>\n",
              "      <td>Platanus x hispanica</td>\n",
              "      <td>2018-06-04</td>\n",
              "      <td>2021/2022</td>\n",
              "      <td>30.0</td>\n",
              "      <td>23.0</td>\n",
              "      <td>165.0</td>\n",
              "      <td>E05000138</td>\n",
              "      <td>Holborn and Covent Garden</td>\n",
              "      <td>530572</td>\n",
              "      <td>181701</td>\n",
              "      <td>-0.119460</td>\n",
              "      <td>51.519146</td>\n",
              "      <td>(51.519146, -0.11946)</td>\n",
              "    </tr>\n",
              "    <tr>\n",
              "      <th>11856</th>\n",
              "      <td>00054744</td>\n",
              "      <td>1.0</td>\n",
              "      <td>Carrol &amp; Sanderson Close Estate</td>\n",
              "      <td>Housing</td>\n",
              "      <td>Prunus unidentified species</td>\n",
              "      <td>2017-01-06</td>\n",
              "      <td>2020/2021</td>\n",
              "      <td>3.0</td>\n",
              "      <td>3.0</td>\n",
              "      <td>13.0</td>\n",
              "      <td>E05000137</td>\n",
              "      <td>Highgate</td>\n",
              "      <td>528661</td>\n",
              "      <td>185556</td>\n",
              "      <td>-0.145585</td>\n",
              "      <td>51.554226</td>\n",
              "      <td>(51.554226, -0.145585)</td>\n",
              "    </tr>\n",
              "    <tr>\n",
              "      <th>12056</th>\n",
              "      <td>00003694</td>\n",
              "      <td>1.0</td>\n",
              "      <td>Estate 1-161 Burnham (cons)</td>\n",
              "      <td>Housing</td>\n",
              "      <td>Acer platanoides</td>\n",
              "      <td>2018-04-17</td>\n",
              "      <td>2021/2022</td>\n",
              "      <td>3.0</td>\n",
              "      <td>1.0</td>\n",
              "      <td>6.0</td>\n",
              "      <td>E05000128</td>\n",
              "      <td>Belsize</td>\n",
              "      <td>527015</td>\n",
              "      <td>184315</td>\n",
              "      <td>-0.169763</td>\n",
              "      <td>51.543451</td>\n",
              "      <td>(51.543451, -0.169763)</td>\n",
              "    </tr>\n",
              "    <tr>\n",
              "      <th>12936</th>\n",
              "      <td>00054558</td>\n",
              "      <td>1.0</td>\n",
              "      <td>ST. MARY'S KILBURN C OF E JMI (E)</td>\n",
              "      <td>Education</td>\n",
              "      <td>Amelanchier lamarckii</td>\n",
              "      <td>2019-10-07</td>\n",
              "      <td>2022/2023</td>\n",
              "      <td>4.0</td>\n",
              "      <td>2.0</td>\n",
              "      <td>8.0</td>\n",
              "      <td>E05000140</td>\n",
              "      <td>Kilburn</td>\n",
              "      <td>525443</td>\n",
              "      <td>183919</td>\n",
              "      <td>-0.192552</td>\n",
              "      <td>51.540245</td>\n",
              "      <td>(51.540245, -0.192552)</td>\n",
              "    </tr>\n",
              "    <tr>\n",
              "      <th>13248</th>\n",
              "      <td>00059317</td>\n",
              "      <td>1.0</td>\n",
              "      <td>ADELAIDE ROAD NATURE AREA</td>\n",
              "      <td>Parks</td>\n",
              "      <td>Stump Only</td>\n",
              "      <td>2019-01-31</td>\n",
              "      <td>2021/2022</td>\n",
              "      <td>0.0</td>\n",
              "      <td>5.0</td>\n",
              "      <td>50.0</td>\n",
              "      <td>E05000128</td>\n",
              "      <td>Belsize</td>\n",
              "      <td>527577</td>\n",
              "      <td>184297</td>\n",
              "      <td>-0.161664</td>\n",
              "      <td>51.543163</td>\n",
              "      <td>(51.543163, -0.161664)</td>\n",
              "    </tr>\n",
              "    <tr>\n",
              "      <th>16815</th>\n",
              "      <td>00055884</td>\n",
              "      <td>1.0</td>\n",
              "      <td>HONEYBOURNE ROAD</td>\n",
              "      <td>Highways</td>\n",
              "      <td>Acer pseudoplatanus 'Brilliant</td>\n",
              "      <td>2018-05-10</td>\n",
              "      <td>2021/2022</td>\n",
              "      <td>2.0</td>\n",
              "      <td>1.0</td>\n",
              "      <td>4.0</td>\n",
              "      <td>E05000145</td>\n",
              "      <td>West Hampstead</td>\n",
              "      <td>525593</td>\n",
              "      <td>185050</td>\n",
              "      <td>-0.189987</td>\n",
              "      <td>51.550377</td>\n",
              "      <td>(51.550377, -0.189987)</td>\n",
              "    </tr>\n",
              "    <tr>\n",
              "      <th>18690</th>\n",
              "      <td>00059963</td>\n",
              "      <td>1.0</td>\n",
              "      <td>Ampthill Square Estate</td>\n",
              "      <td>Housing</td>\n",
              "      <td>Vacant Tree Pit (planned: Parrotia persica van...</td>\n",
              "      <td>2019-01-08</td>\n",
              "      <td>2022/2023</td>\n",
              "      <td>NaN</td>\n",
              "      <td>NaN</td>\n",
              "      <td>NaN</td>\n",
              "      <td>E05000143</td>\n",
              "      <td>St Pancras and Somers Town</td>\n",
              "      <td>529216</td>\n",
              "      <td>183103</td>\n",
              "      <td>-0.138479</td>\n",
              "      <td>51.532058</td>\n",
              "      <td>(51.532058, -0.138479)</td>\n",
              "    </tr>\n",
              "    <tr>\n",
              "      <th>18958</th>\n",
              "      <td>00059246</td>\n",
              "      <td>1.0</td>\n",
              "      <td>Belsize nature reserve, Russell Nursery</td>\n",
              "      <td>Parks</td>\n",
              "      <td>Ulmus procera</td>\n",
              "      <td>2019-01-29</td>\n",
              "      <td>2021/2022</td>\n",
              "      <td>5.0</td>\n",
              "      <td>4.0</td>\n",
              "      <td>11.0</td>\n",
              "      <td>E05000134</td>\n",
              "      <td>Gospel Oak</td>\n",
              "      <td>527523</td>\n",
              "      <td>185233</td>\n",
              "      <td>-0.162101</td>\n",
              "      <td>51.551587</td>\n",
              "      <td>(51.551587, -0.162101)</td>\n",
              "    </tr>\n",
              "    <tr>\n",
              "      <th>19606</th>\n",
              "      <td>00005127</td>\n",
              "      <td>1.0</td>\n",
              "      <td>CUMBERLAND MARKET, OPEN SPACE (LS)</td>\n",
              "      <td>Parks</td>\n",
              "      <td>Platanus x hispanica</td>\n",
              "      <td>2018-03-13</td>\n",
              "      <td>2020/2021</td>\n",
              "      <td>10.0</td>\n",
              "      <td>8.0</td>\n",
              "      <td>38.0</td>\n",
              "      <td>E05000142</td>\n",
              "      <td>Regent's Park</td>\n",
              "      <td>528913</td>\n",
              "      <td>182814</td>\n",
              "      <td>-0.142959</td>\n",
              "      <td>51.529527</td>\n",
              "      <td>(51.529527, -0.142959)</td>\n",
              "    </tr>\n",
              "    <tr>\n",
              "      <th>20169</th>\n",
              "      <td>00017912</td>\n",
              "      <td>1.0</td>\n",
              "      <td>SHERRIFF ROAD</td>\n",
              "      <td>Highways</td>\n",
              "      <td>Tilia platyphyllos</td>\n",
              "      <td>2018-10-09</td>\n",
              "      <td>2021/2022</td>\n",
              "      <td>9.0</td>\n",
              "      <td>5.0</td>\n",
              "      <td>42.0</td>\n",
              "      <td>E05000145</td>\n",
              "      <td>West Hampstead</td>\n",
              "      <td>525265</td>\n",
              "      <td>184543</td>\n",
              "      <td>-0.194897</td>\n",
              "      <td>51.545886</td>\n",
              "      <td>(51.545886, -0.194897)</td>\n",
              "    </tr>\n",
              "    <tr>\n",
              "      <th>20226</th>\n",
              "      <td>00047080</td>\n",
              "      <td>1.0</td>\n",
              "      <td>Ampthill Square Estate</td>\n",
              "      <td>Housing</td>\n",
              "      <td>Malus unidentified species</td>\n",
              "      <td>2019-01-08</td>\n",
              "      <td>2022/2023</td>\n",
              "      <td>5.0</td>\n",
              "      <td>3.0</td>\n",
              "      <td>16.0</td>\n",
              "      <td>E05000143</td>\n",
              "      <td>St Pancras and Somers Town</td>\n",
              "      <td>529279</td>\n",
              "      <td>183106</td>\n",
              "      <td>-0.137573</td>\n",
              "      <td>51.532073</td>\n",
              "      <td>(51.532073, -0.137573)</td>\n",
              "    </tr>\n",
              "    <tr>\n",
              "      <th>21287</th>\n",
              "      <td>00029059</td>\n",
              "      <td>1.0</td>\n",
              "      <td>Estate 1-20 Marrick House (cons)</td>\n",
              "      <td>Housing</td>\n",
              "      <td>Sambucus nigra</td>\n",
              "      <td>2018-06-19</td>\n",
              "      <td>2021/2022</td>\n",
              "      <td>6.0</td>\n",
              "      <td>6.0</td>\n",
              "      <td>39.0</td>\n",
              "      <td>E05000140</td>\n",
              "      <td>Kilburn</td>\n",
              "      <td>525832</td>\n",
              "      <td>183583</td>\n",
              "      <td>-0.187075</td>\n",
              "      <td>51.537139</td>\n",
              "      <td>(51.537139, -0.187075)</td>\n",
              "    </tr>\n",
              "    <tr>\n",
              "      <th>22470</th>\n",
              "      <td>00012126</td>\n",
              "      <td>1.0</td>\n",
              "      <td>KINGS COLLEGE ROAD</td>\n",
              "      <td>Highways</td>\n",
              "      <td>Fraxinus excelsior</td>\n",
              "      <td>2018-07-13</td>\n",
              "      <td>2021/2022</td>\n",
              "      <td>18.0</td>\n",
              "      <td>12.0</td>\n",
              "      <td>48.0</td>\n",
              "      <td>E05000128</td>\n",
              "      <td>Belsize</td>\n",
              "      <td>526999</td>\n",
              "      <td>184416</td>\n",
              "      <td>-0.169957</td>\n",
              "      <td>51.544363</td>\n",
              "      <td>(51.544363, -0.169957)</td>\n",
              "    </tr>\n",
              "    <tr>\n",
              "      <th>23301</th>\n",
              "      <td>00010784</td>\n",
              "      <td>1.0</td>\n",
              "      <td>Holly Lodge Estate</td>\n",
              "      <td>Housing</td>\n",
              "      <td>Ilex aquifolium</td>\n",
              "      <td>2017-06-14</td>\n",
              "      <td>2020/2021</td>\n",
              "      <td>7.0</td>\n",
              "      <td>5.0</td>\n",
              "      <td>20.0</td>\n",
              "      <td>E05000137</td>\n",
              "      <td>Highgate</td>\n",
              "      <td>528472</td>\n",
              "      <td>186812</td>\n",
              "      <td>-0.147845</td>\n",
              "      <td>51.565562</td>\n",
              "      <td>(51.565562, -0.147845)</td>\n",
              "    </tr>\n",
              "    <tr>\n",
              "      <th>23315</th>\n",
              "      <td>00056485</td>\n",
              "      <td>1.0</td>\n",
              "      <td>WATERLOW PARK (LS)</td>\n",
              "      <td>Parks</td>\n",
              "      <td>Fraxinus excelsior</td>\n",
              "      <td>2019-05-24</td>\n",
              "      <td>2022/2023</td>\n",
              "      <td>12.0</td>\n",
              "      <td>5.0</td>\n",
              "      <td>16.0</td>\n",
              "      <td>E05000137</td>\n",
              "      <td>Highgate</td>\n",
              "      <td>528730</td>\n",
              "      <td>187264</td>\n",
              "      <td>-0.143955</td>\n",
              "      <td>51.569567</td>\n",
              "      <td>(51.569567, -0.143955)</td>\n",
              "    </tr>\n",
              "  </tbody>\n",
              "</table>\n",
              "</div>\n",
              "    <div class=\"colab-df-buttons\">\n",
              "\n",
              "  <div class=\"colab-df-container\">\n",
              "    <button class=\"colab-df-convert\" onclick=\"convertToInteractive('df-6b3c22ab-46d5-4686-a236-868c3aff6276')\"\n",
              "            title=\"Convert this dataframe to an interactive table.\"\n",
              "            style=\"display:none;\">\n",
              "\n",
              "  <svg xmlns=\"http://www.w3.org/2000/svg\" height=\"24px\" viewBox=\"0 -960 960 960\">\n",
              "    <path d=\"M120-120v-720h720v720H120Zm60-500h600v-160H180v160Zm220 220h160v-160H400v160Zm0 220h160v-160H400v160ZM180-400h160v-160H180v160Zm440 0h160v-160H620v160ZM180-180h160v-160H180v160Zm440 0h160v-160H620v160Z\"/>\n",
              "  </svg>\n",
              "    </button>\n",
              "\n",
              "  <style>\n",
              "    .colab-df-container {\n",
              "      display:flex;\n",
              "      gap: 12px;\n",
              "    }\n",
              "\n",
              "    .colab-df-convert {\n",
              "      background-color: #E8F0FE;\n",
              "      border: none;\n",
              "      border-radius: 50%;\n",
              "      cursor: pointer;\n",
              "      display: none;\n",
              "      fill: #1967D2;\n",
              "      height: 32px;\n",
              "      padding: 0 0 0 0;\n",
              "      width: 32px;\n",
              "    }\n",
              "\n",
              "    .colab-df-convert:hover {\n",
              "      background-color: #E2EBFA;\n",
              "      box-shadow: 0px 1px 2px rgba(60, 64, 67, 0.3), 0px 1px 3px 1px rgba(60, 64, 67, 0.15);\n",
              "      fill: #174EA6;\n",
              "    }\n",
              "\n",
              "    .colab-df-buttons div {\n",
              "      margin-bottom: 4px;\n",
              "    }\n",
              "\n",
              "    [theme=dark] .colab-df-convert {\n",
              "      background-color: #3B4455;\n",
              "      fill: #D2E3FC;\n",
              "    }\n",
              "\n",
              "    [theme=dark] .colab-df-convert:hover {\n",
              "      background-color: #434B5C;\n",
              "      box-shadow: 0px 1px 3px 1px rgba(0, 0, 0, 0.15);\n",
              "      filter: drop-shadow(0px 1px 2px rgba(0, 0, 0, 0.3));\n",
              "      fill: #FFFFFF;\n",
              "    }\n",
              "  </style>\n",
              "\n",
              "    <script>\n",
              "      const buttonEl =\n",
              "        document.querySelector('#df-6b3c22ab-46d5-4686-a236-868c3aff6276 button.colab-df-convert');\n",
              "      buttonEl.style.display =\n",
              "        google.colab.kernel.accessAllowed ? 'block' : 'none';\n",
              "\n",
              "      async function convertToInteractive(key) {\n",
              "        const element = document.querySelector('#df-6b3c22ab-46d5-4686-a236-868c3aff6276');\n",
              "        const dataTable =\n",
              "          await google.colab.kernel.invokeFunction('convertToInteractive',\n",
              "                                                    [key], {});\n",
              "        if (!dataTable) return;\n",
              "\n",
              "        const docLinkHtml = 'Like what you see? Visit the ' +\n",
              "          '<a target=\"_blank\" href=https://colab.research.google.com/notebooks/data_table.ipynb>data table notebook</a>'\n",
              "          + ' to learn more about interactive tables.';\n",
              "        element.innerHTML = '';\n",
              "        dataTable['output_type'] = 'display_data';\n",
              "        await google.colab.output.renderOutput(dataTable, element);\n",
              "        const docLink = document.createElement('div');\n",
              "        docLink.innerHTML = docLinkHtml;\n",
              "        element.appendChild(docLink);\n",
              "      }\n",
              "    </script>\n",
              "  </div>\n",
              "\n",
              "\n",
              "<div id=\"df-c9bc45a3-9528-441f-867b-06e965571926\">\n",
              "  <button class=\"colab-df-quickchart\" onclick=\"quickchart('df-c9bc45a3-9528-441f-867b-06e965571926')\"\n",
              "            title=\"Suggest charts\"\n",
              "            style=\"display:none;\">\n",
              "\n",
              "<svg xmlns=\"http://www.w3.org/2000/svg\" height=\"24px\"viewBox=\"0 0 24 24\"\n",
              "     width=\"24px\">\n",
              "    <g>\n",
              "        <path d=\"M19 3H5c-1.1 0-2 .9-2 2v14c0 1.1.9 2 2 2h14c1.1 0 2-.9 2-2V5c0-1.1-.9-2-2-2zM9 17H7v-7h2v7zm4 0h-2V7h2v10zm4 0h-2v-4h2v4z\"/>\n",
              "    </g>\n",
              "</svg>\n",
              "  </button>\n",
              "\n",
              "<style>\n",
              "  .colab-df-quickchart {\n",
              "      --bg-color: #E8F0FE;\n",
              "      --fill-color: #1967D2;\n",
              "      --hover-bg-color: #E2EBFA;\n",
              "      --hover-fill-color: #174EA6;\n",
              "      --disabled-fill-color: #AAA;\n",
              "      --disabled-bg-color: #DDD;\n",
              "  }\n",
              "\n",
              "  [theme=dark] .colab-df-quickchart {\n",
              "      --bg-color: #3B4455;\n",
              "      --fill-color: #D2E3FC;\n",
              "      --hover-bg-color: #434B5C;\n",
              "      --hover-fill-color: #FFFFFF;\n",
              "      --disabled-bg-color: #3B4455;\n",
              "      --disabled-fill-color: #666;\n",
              "  }\n",
              "\n",
              "  .colab-df-quickchart {\n",
              "    background-color: var(--bg-color);\n",
              "    border: none;\n",
              "    border-radius: 50%;\n",
              "    cursor: pointer;\n",
              "    display: none;\n",
              "    fill: var(--fill-color);\n",
              "    height: 32px;\n",
              "    padding: 0;\n",
              "    width: 32px;\n",
              "  }\n",
              "\n",
              "  .colab-df-quickchart:hover {\n",
              "    background-color: var(--hover-bg-color);\n",
              "    box-shadow: 0 1px 2px rgba(60, 64, 67, 0.3), 0 1px 3px 1px rgba(60, 64, 67, 0.15);\n",
              "    fill: var(--button-hover-fill-color);\n",
              "  }\n",
              "\n",
              "  .colab-df-quickchart-complete:disabled,\n",
              "  .colab-df-quickchart-complete:disabled:hover {\n",
              "    background-color: var(--disabled-bg-color);\n",
              "    fill: var(--disabled-fill-color);\n",
              "    box-shadow: none;\n",
              "  }\n",
              "\n",
              "  .colab-df-spinner {\n",
              "    border: 2px solid var(--fill-color);\n",
              "    border-color: transparent;\n",
              "    border-bottom-color: var(--fill-color);\n",
              "    animation:\n",
              "      spin 1s steps(1) infinite;\n",
              "  }\n",
              "\n",
              "  @keyframes spin {\n",
              "    0% {\n",
              "      border-color: transparent;\n",
              "      border-bottom-color: var(--fill-color);\n",
              "      border-left-color: var(--fill-color);\n",
              "    }\n",
              "    20% {\n",
              "      border-color: transparent;\n",
              "      border-left-color: var(--fill-color);\n",
              "      border-top-color: var(--fill-color);\n",
              "    }\n",
              "    30% {\n",
              "      border-color: transparent;\n",
              "      border-left-color: var(--fill-color);\n",
              "      border-top-color: var(--fill-color);\n",
              "      border-right-color: var(--fill-color);\n",
              "    }\n",
              "    40% {\n",
              "      border-color: transparent;\n",
              "      border-right-color: var(--fill-color);\n",
              "      border-top-color: var(--fill-color);\n",
              "    }\n",
              "    60% {\n",
              "      border-color: transparent;\n",
              "      border-right-color: var(--fill-color);\n",
              "    }\n",
              "    80% {\n",
              "      border-color: transparent;\n",
              "      border-right-color: var(--fill-color);\n",
              "      border-bottom-color: var(--fill-color);\n",
              "    }\n",
              "    90% {\n",
              "      border-color: transparent;\n",
              "      border-bottom-color: var(--fill-color);\n",
              "    }\n",
              "  }\n",
              "</style>\n",
              "\n",
              "  <script>\n",
              "    async function quickchart(key) {\n",
              "      const quickchartButtonEl =\n",
              "        document.querySelector('#' + key + ' button');\n",
              "      quickchartButtonEl.disabled = true;  // To prevent multiple clicks.\n",
              "      quickchartButtonEl.classList.add('colab-df-spinner');\n",
              "      try {\n",
              "        const charts = await google.colab.kernel.invokeFunction(\n",
              "            'suggestCharts', [key], {});\n",
              "      } catch (error) {\n",
              "        console.error('Error during call to suggestCharts:', error);\n",
              "      }\n",
              "      quickchartButtonEl.classList.remove('colab-df-spinner');\n",
              "      quickchartButtonEl.classList.add('colab-df-quickchart-complete');\n",
              "    }\n",
              "    (() => {\n",
              "      let quickchartButtonEl =\n",
              "        document.querySelector('#df-c9bc45a3-9528-441f-867b-06e965571926 button');\n",
              "      quickchartButtonEl.style.display =\n",
              "        google.colab.kernel.accessAllowed ? 'block' : 'none';\n",
              "    })();\n",
              "  </script>\n",
              "</div>\n",
              "    </div>\n",
              "  </div>\n"
            ]
          },
          "metadata": {},
          "execution_count": 82
        }
      ],
      "source": [
        "# Find trees that don't have matching environmental data\n",
        "Trees_notin_Environmental = ~trees['Identifier'].isin(environmental['Identifier'])\n",
        "trees[Trees_notin_Environmental]"
      ]
    },
    {
      "cell_type": "code",
      "execution_count": null,
      "id": "36cabc0b-2d67-4a8d-8d85-6d3d3b40acfb",
      "metadata": {
        "id": "36cabc0b-2d67-4a8d-8d85-6d3d3b40acfb",
        "colab": {
          "base_uri": "https://localhost:8080/"
        },
        "outputId": "578f5e40-5fe5-418f-cbd7-cfa2afbe2680"
      },
      "outputs": [
        {
          "output_type": "execute_result",
          "data": {
            "text/plain": [
              "(23, 17)"
            ]
          },
          "metadata": {},
          "execution_count": 83
        }
      ],
      "source": [
        "# Confirm how many rows we have\n",
        "trees[Trees_notin_Environmental].shape"
      ]
    },
    {
      "cell_type": "markdown",
      "id": "163e0301-fae2-41cc-a7a7-11a31b9e0499",
      "metadata": {
        "id": "163e0301-fae2-41cc-a7a7-11a31b9e0499"
      },
      "source": [
        "### 8.2 Find Environmental Data that Doesn't have Matching Tree Data\n",
        "<div style=\"background-color:lemonchiffon; border:1px solid; padding:5px; margin:5px; font-weight:bold\"><font color=\"crimson\">\n",
        "TODO: Complete the following code cells\n",
        "    </font></div>"
      ]
    },
    {
      "cell_type": "code",
      "execution_count": null,
      "id": "17727576-c7c3-487a-87d1-d27d326f661c",
      "metadata": {
        "id": "17727576-c7c3-487a-87d1-d27d326f661c",
        "colab": {
          "base_uri": "https://localhost:8080/",
          "height": 100
        },
        "outputId": "8119a407-1052-446f-f51e-4a2cb70be363"
      },
      "outputs": [
        {
          "output_type": "execute_result",
          "data": {
            "text/plain": [
              "Empty DataFrame\n",
              "Columns: [Identifier, Maturity, Physiological Condition, Tree Set To Be Removed, Removal Reason, Capital Asset Value For Amenity Trees, Carbon Storage In Kilograms, Gross Carbon Sequestration Per Year In Kilograms, Pollution Removal Per Year In Grams]\n",
              "Index: []"
            ],
            "text/html": [
              "\n",
              "  <div id=\"df-c5eddd5b-093e-4a28-9773-b9343e8a1d29\" class=\"colab-df-container\">\n",
              "    <div>\n",
              "<style scoped>\n",
              "    .dataframe tbody tr th:only-of-type {\n",
              "        vertical-align: middle;\n",
              "    }\n",
              "\n",
              "    .dataframe tbody tr th {\n",
              "        vertical-align: top;\n",
              "    }\n",
              "\n",
              "    .dataframe thead th {\n",
              "        text-align: right;\n",
              "    }\n",
              "</style>\n",
              "<table border=\"1\" class=\"dataframe\">\n",
              "  <thead>\n",
              "    <tr style=\"text-align: right;\">\n",
              "      <th></th>\n",
              "      <th>Identifier</th>\n",
              "      <th>Maturity</th>\n",
              "      <th>Physiological Condition</th>\n",
              "      <th>Tree Set To Be Removed</th>\n",
              "      <th>Removal Reason</th>\n",
              "      <th>Capital Asset Value For Amenity Trees</th>\n",
              "      <th>Carbon Storage In Kilograms</th>\n",
              "      <th>Gross Carbon Sequestration Per Year In Kilograms</th>\n",
              "      <th>Pollution Removal Per Year In Grams</th>\n",
              "    </tr>\n",
              "  </thead>\n",
              "  <tbody>\n",
              "  </tbody>\n",
              "</table>\n",
              "</div>\n",
              "    <div class=\"colab-df-buttons\">\n",
              "\n",
              "  <div class=\"colab-df-container\">\n",
              "    <button class=\"colab-df-convert\" onclick=\"convertToInteractive('df-c5eddd5b-093e-4a28-9773-b9343e8a1d29')\"\n",
              "            title=\"Convert this dataframe to an interactive table.\"\n",
              "            style=\"display:none;\">\n",
              "\n",
              "  <svg xmlns=\"http://www.w3.org/2000/svg\" height=\"24px\" viewBox=\"0 -960 960 960\">\n",
              "    <path d=\"M120-120v-720h720v720H120Zm60-500h600v-160H180v160Zm220 220h160v-160H400v160Zm0 220h160v-160H400v160ZM180-400h160v-160H180v160Zm440 0h160v-160H620v160ZM180-180h160v-160H180v160Zm440 0h160v-160H620v160Z\"/>\n",
              "  </svg>\n",
              "    </button>\n",
              "\n",
              "  <style>\n",
              "    .colab-df-container {\n",
              "      display:flex;\n",
              "      gap: 12px;\n",
              "    }\n",
              "\n",
              "    .colab-df-convert {\n",
              "      background-color: #E8F0FE;\n",
              "      border: none;\n",
              "      border-radius: 50%;\n",
              "      cursor: pointer;\n",
              "      display: none;\n",
              "      fill: #1967D2;\n",
              "      height: 32px;\n",
              "      padding: 0 0 0 0;\n",
              "      width: 32px;\n",
              "    }\n",
              "\n",
              "    .colab-df-convert:hover {\n",
              "      background-color: #E2EBFA;\n",
              "      box-shadow: 0px 1px 2px rgba(60, 64, 67, 0.3), 0px 1px 3px 1px rgba(60, 64, 67, 0.15);\n",
              "      fill: #174EA6;\n",
              "    }\n",
              "\n",
              "    .colab-df-buttons div {\n",
              "      margin-bottom: 4px;\n",
              "    }\n",
              "\n",
              "    [theme=dark] .colab-df-convert {\n",
              "      background-color: #3B4455;\n",
              "      fill: #D2E3FC;\n",
              "    }\n",
              "\n",
              "    [theme=dark] .colab-df-convert:hover {\n",
              "      background-color: #434B5C;\n",
              "      box-shadow: 0px 1px 3px 1px rgba(0, 0, 0, 0.15);\n",
              "      filter: drop-shadow(0px 1px 2px rgba(0, 0, 0, 0.3));\n",
              "      fill: #FFFFFF;\n",
              "    }\n",
              "  </style>\n",
              "\n",
              "    <script>\n",
              "      const buttonEl =\n",
              "        document.querySelector('#df-c5eddd5b-093e-4a28-9773-b9343e8a1d29 button.colab-df-convert');\n",
              "      buttonEl.style.display =\n",
              "        google.colab.kernel.accessAllowed ? 'block' : 'none';\n",
              "\n",
              "      async function convertToInteractive(key) {\n",
              "        const element = document.querySelector('#df-c5eddd5b-093e-4a28-9773-b9343e8a1d29');\n",
              "        const dataTable =\n",
              "          await google.colab.kernel.invokeFunction('convertToInteractive',\n",
              "                                                    [key], {});\n",
              "        if (!dataTable) return;\n",
              "\n",
              "        const docLinkHtml = 'Like what you see? Visit the ' +\n",
              "          '<a target=\"_blank\" href=https://colab.research.google.com/notebooks/data_table.ipynb>data table notebook</a>'\n",
              "          + ' to learn more about interactive tables.';\n",
              "        element.innerHTML = '';\n",
              "        dataTable['output_type'] = 'display_data';\n",
              "        await google.colab.output.renderOutput(dataTable, element);\n",
              "        const docLink = document.createElement('div');\n",
              "        docLink.innerHTML = docLinkHtml;\n",
              "        element.appendChild(docLink);\n",
              "      }\n",
              "    </script>\n",
              "  </div>\n",
              "\n",
              "    </div>\n",
              "  </div>\n"
            ]
          },
          "metadata": {},
          "execution_count": 84
        }
      ],
      "source": [
        "# Find environmental data that doesn't have matching tree data\n",
        "Environmental_notin_Trees = ~environmental['Identifier'].isin(trees['Identifier'])\n",
        "environmental[Environmental_notin_Trees]"
      ]
    },
    {
      "cell_type": "code",
      "execution_count": null,
      "id": "7c562a4f-6a70-4e53-8dc5-c2ebd3a1417f",
      "metadata": {
        "id": "7c562a4f-6a70-4e53-8dc5-c2ebd3a1417f",
        "colab": {
          "base_uri": "https://localhost:8080/"
        },
        "outputId": "591d0140-beb7-4903-faa7-c4f0b0b04615"
      },
      "outputs": [
        {
          "output_type": "execute_result",
          "data": {
            "text/plain": [
              "(0, 9)"
            ]
          },
          "metadata": {},
          "execution_count": 85
        }
      ],
      "source": [
        "# Confirm how many rows we have\n",
        "environmental[Environmental_notin_Trees].shape"
      ]
    },
    {
      "cell_type": "markdown",
      "id": "ce4445b4-53db-4d95-82b6-4af1088046bf",
      "metadata": {
        "id": "ce4445b4-53db-4d95-82b6-4af1088046bf"
      },
      "source": [
        "### 8.3 Find Trees that Don't have Matching Common Names Data\n",
        "<div style=\"background-color:lemonchiffon; border:1px solid; padding:5px; margin:5px; font-weight:bold\"><font color=\"crimson\">\n",
        "TODO: Complete the following code cells\n",
        "    </font></div>"
      ]
    },
    {
      "cell_type": "code",
      "execution_count": null,
      "id": "f66f9bfd-6bfc-4faf-946e-d5d8f6cbb4b6",
      "metadata": {
        "id": "f66f9bfd-6bfc-4faf-946e-d5d8f6cbb4b6",
        "colab": {
          "base_uri": "https://localhost:8080/",
          "height": 881
        },
        "outputId": "198a56ad-b2ce-4438-ec35-6ff279715857"
      },
      "outputs": [
        {
          "output_type": "execute_result",
          "data": {
            "text/plain": [
              "      Identifier  Number Of Trees                             Site Name  \\\n",
              "151     00051832              1.0                           ARGYLE WALK   \n",
              "384     00053954              1.0                        CHURCHILL ROAD   \n",
              "495     00047497              1.0                        PATSHULL PLACE   \n",
              "611     00055434              1.0                  SHARPLES HALL STREET   \n",
              "653     00055289              1.0                      QUEEN'S CRESCENT   \n",
              "...          ...              ...                                   ...   \n",
              "21826   00050835              1.0                           INGESTRE RD   \n",
              "22948   00052341              1.0                    NEW COMPTON STREET   \n",
              "23266   00048846              1.0                           ASMARA ROAD   \n",
              "23335   00048705              1.0                     GOLDINGTON STREET   \n",
              "23372   00031627              1.0  ST. GEORGE THE MARTYR C OF E JMI (E)   \n",
              "\n",
              "      Contract Area                Scientific Name Inspection Date  \\\n",
              "151        Highways  Sorbus aucuparia 'Streetwise'      2019-02-10   \n",
              "384        Highways  Sorbus aucuparia 'Streetwise'      2017-10-07   \n",
              "495        Highways  Sorbus aucuparia 'Streetwise'      2017-06-22   \n",
              "611        Highways  Sorbus aucuparia 'Streetwise'      2019-09-30   \n",
              "653        Highways  Sorbus aucuparia 'Streetwise'      2017-07-08   \n",
              "...             ...                            ...             ...   \n",
              "21826      Highways  Sorbus aucuparia 'Streetwise'      2017-08-18   \n",
              "22948      Highways  Sorbus aucuparia 'Streetwise'      2019-07-08   \n",
              "23266      Highways  Sorbus aucuparia 'Streetwise'      2018-08-28   \n",
              "23335      Highways  Sorbus aucuparia 'Streetwise'      2019-10-23   \n",
              "23372     Education       Cotoneaster salicifolius      2018-07-23   \n",
              "\n",
              "      Inspection Due Date  Height In Metres  Spread In Metres  \\\n",
              "151             2022/2023               7.0               3.0   \n",
              "384             2020/2021               3.0               2.0   \n",
              "495             2020/2021               5.0               3.0   \n",
              "611             2022/2023               2.0               2.0   \n",
              "653             2020/2021               4.0               1.0   \n",
              "...                   ...               ...               ...   \n",
              "21826           2020/2021               3.0               1.0   \n",
              "22948           2022/2023               4.0               3.0   \n",
              "23266           2021/2022               5.0               3.0   \n",
              "23335           2022/2023               6.0               2.0   \n",
              "23372           2021/2022               5.0               5.0   \n",
              "\n",
              "       Diameter In Centimetres At Breast Height  Ward Code  \\\n",
              "151                                        12.0  E05000141   \n",
              "384                                         5.0  E05000139   \n",
              "495                                        11.0  E05000131   \n",
              "611                                         4.0  E05000130   \n",
              "653                                         7.0  E05000136   \n",
              "...                                         ...        ...   \n",
              "21826                                       7.0  E05000139   \n",
              "22948                                       6.0  E05000138   \n",
              "23266                                       8.0  E05000132   \n",
              "23335                                      12.0  E05000143   \n",
              "23372                                       8.0  E05000138   \n",
              "\n",
              "                            Ward Name  Easting  Northing  Longitude  \\\n",
              "151                      King's Cross   530227    182706  -0.124054   \n",
              "384                      Kentish Town   529007    185975  -0.140440   \n",
              "495                        Cantelowes   529202    184717  -0.138094   \n",
              "611    Camden Town with Primrose Hill   527962    184050  -0.156202   \n",
              "653                        Haverstock   528072    184723  -0.154369   \n",
              "...                               ...      ...       ...        ...   \n",
              "21826                    Kentish Town   528962    185826  -0.141137   \n",
              "22948       Holborn and Covent Garden   529976    181160  -0.128249   \n",
              "23266                   Fortune Green   524568    185347  -0.204661   \n",
              "23335      St Pancras and Somers Town   529662    183417  -0.131941   \n",
              "23372       Holborn and Covent Garden   530742    182119  -0.116856   \n",
              "\n",
              "        Latitude                Location  \n",
              "151    51.528257  (51.528257, -0.124054)  \n",
              "384    51.557913   (51.557913, -0.14044)  \n",
              "495    51.546569  (51.546569, -0.138094)  \n",
              "611    51.540853  (51.540853, -0.156202)  \n",
              "653    51.546881  (51.546881, -0.154369)  \n",
              "...          ...                     ...  \n",
              "21826  51.556589  (51.556589, -0.141137)  \n",
              "22948  51.514422  (51.514422, -0.128249)  \n",
              "23266  51.553268  (51.553268, -0.204661)  \n",
              "23335  51.534780   (51.53478, -0.131941)  \n",
              "23372  51.522865  (51.522865, -0.116856)  \n",
              "\n",
              "[76 rows x 17 columns]"
            ],
            "text/html": [
              "\n",
              "  <div id=\"df-11a004cd-d47d-4b6e-959f-93cfae303fe8\" class=\"colab-df-container\">\n",
              "    <div>\n",
              "<style scoped>\n",
              "    .dataframe tbody tr th:only-of-type {\n",
              "        vertical-align: middle;\n",
              "    }\n",
              "\n",
              "    .dataframe tbody tr th {\n",
              "        vertical-align: top;\n",
              "    }\n",
              "\n",
              "    .dataframe thead th {\n",
              "        text-align: right;\n",
              "    }\n",
              "</style>\n",
              "<table border=\"1\" class=\"dataframe\">\n",
              "  <thead>\n",
              "    <tr style=\"text-align: right;\">\n",
              "      <th></th>\n",
              "      <th>Identifier</th>\n",
              "      <th>Number Of Trees</th>\n",
              "      <th>Site Name</th>\n",
              "      <th>Contract Area</th>\n",
              "      <th>Scientific Name</th>\n",
              "      <th>Inspection Date</th>\n",
              "      <th>Inspection Due Date</th>\n",
              "      <th>Height In Metres</th>\n",
              "      <th>Spread In Metres</th>\n",
              "      <th>Diameter In Centimetres At Breast Height</th>\n",
              "      <th>Ward Code</th>\n",
              "      <th>Ward Name</th>\n",
              "      <th>Easting</th>\n",
              "      <th>Northing</th>\n",
              "      <th>Longitude</th>\n",
              "      <th>Latitude</th>\n",
              "      <th>Location</th>\n",
              "    </tr>\n",
              "  </thead>\n",
              "  <tbody>\n",
              "    <tr>\n",
              "      <th>151</th>\n",
              "      <td>00051832</td>\n",
              "      <td>1.0</td>\n",
              "      <td>ARGYLE WALK</td>\n",
              "      <td>Highways</td>\n",
              "      <td>Sorbus aucuparia 'Streetwise'</td>\n",
              "      <td>2019-02-10</td>\n",
              "      <td>2022/2023</td>\n",
              "      <td>7.0</td>\n",
              "      <td>3.0</td>\n",
              "      <td>12.0</td>\n",
              "      <td>E05000141</td>\n",
              "      <td>King's Cross</td>\n",
              "      <td>530227</td>\n",
              "      <td>182706</td>\n",
              "      <td>-0.124054</td>\n",
              "      <td>51.528257</td>\n",
              "      <td>(51.528257, -0.124054)</td>\n",
              "    </tr>\n",
              "    <tr>\n",
              "      <th>384</th>\n",
              "      <td>00053954</td>\n",
              "      <td>1.0</td>\n",
              "      <td>CHURCHILL ROAD</td>\n",
              "      <td>Highways</td>\n",
              "      <td>Sorbus aucuparia 'Streetwise'</td>\n",
              "      <td>2017-10-07</td>\n",
              "      <td>2020/2021</td>\n",
              "      <td>3.0</td>\n",
              "      <td>2.0</td>\n",
              "      <td>5.0</td>\n",
              "      <td>E05000139</td>\n",
              "      <td>Kentish Town</td>\n",
              "      <td>529007</td>\n",
              "      <td>185975</td>\n",
              "      <td>-0.140440</td>\n",
              "      <td>51.557913</td>\n",
              "      <td>(51.557913, -0.14044)</td>\n",
              "    </tr>\n",
              "    <tr>\n",
              "      <th>495</th>\n",
              "      <td>00047497</td>\n",
              "      <td>1.0</td>\n",
              "      <td>PATSHULL PLACE</td>\n",
              "      <td>Highways</td>\n",
              "      <td>Sorbus aucuparia 'Streetwise'</td>\n",
              "      <td>2017-06-22</td>\n",
              "      <td>2020/2021</td>\n",
              "      <td>5.0</td>\n",
              "      <td>3.0</td>\n",
              "      <td>11.0</td>\n",
              "      <td>E05000131</td>\n",
              "      <td>Cantelowes</td>\n",
              "      <td>529202</td>\n",
              "      <td>184717</td>\n",
              "      <td>-0.138094</td>\n",
              "      <td>51.546569</td>\n",
              "      <td>(51.546569, -0.138094)</td>\n",
              "    </tr>\n",
              "    <tr>\n",
              "      <th>611</th>\n",
              "      <td>00055434</td>\n",
              "      <td>1.0</td>\n",
              "      <td>SHARPLES HALL STREET</td>\n",
              "      <td>Highways</td>\n",
              "      <td>Sorbus aucuparia 'Streetwise'</td>\n",
              "      <td>2019-09-30</td>\n",
              "      <td>2022/2023</td>\n",
              "      <td>2.0</td>\n",
              "      <td>2.0</td>\n",
              "      <td>4.0</td>\n",
              "      <td>E05000130</td>\n",
              "      <td>Camden Town with Primrose Hill</td>\n",
              "      <td>527962</td>\n",
              "      <td>184050</td>\n",
              "      <td>-0.156202</td>\n",
              "      <td>51.540853</td>\n",
              "      <td>(51.540853, -0.156202)</td>\n",
              "    </tr>\n",
              "    <tr>\n",
              "      <th>653</th>\n",
              "      <td>00055289</td>\n",
              "      <td>1.0</td>\n",
              "      <td>QUEEN'S CRESCENT</td>\n",
              "      <td>Highways</td>\n",
              "      <td>Sorbus aucuparia 'Streetwise'</td>\n",
              "      <td>2017-07-08</td>\n",
              "      <td>2020/2021</td>\n",
              "      <td>4.0</td>\n",
              "      <td>1.0</td>\n",
              "      <td>7.0</td>\n",
              "      <td>E05000136</td>\n",
              "      <td>Haverstock</td>\n",
              "      <td>528072</td>\n",
              "      <td>184723</td>\n",
              "      <td>-0.154369</td>\n",
              "      <td>51.546881</td>\n",
              "      <td>(51.546881, -0.154369)</td>\n",
              "    </tr>\n",
              "    <tr>\n",
              "      <th>...</th>\n",
              "      <td>...</td>\n",
              "      <td>...</td>\n",
              "      <td>...</td>\n",
              "      <td>...</td>\n",
              "      <td>...</td>\n",
              "      <td>...</td>\n",
              "      <td>...</td>\n",
              "      <td>...</td>\n",
              "      <td>...</td>\n",
              "      <td>...</td>\n",
              "      <td>...</td>\n",
              "      <td>...</td>\n",
              "      <td>...</td>\n",
              "      <td>...</td>\n",
              "      <td>...</td>\n",
              "      <td>...</td>\n",
              "      <td>...</td>\n",
              "    </tr>\n",
              "    <tr>\n",
              "      <th>21826</th>\n",
              "      <td>00050835</td>\n",
              "      <td>1.0</td>\n",
              "      <td>INGESTRE RD</td>\n",
              "      <td>Highways</td>\n",
              "      <td>Sorbus aucuparia 'Streetwise'</td>\n",
              "      <td>2017-08-18</td>\n",
              "      <td>2020/2021</td>\n",
              "      <td>3.0</td>\n",
              "      <td>1.0</td>\n",
              "      <td>7.0</td>\n",
              "      <td>E05000139</td>\n",
              "      <td>Kentish Town</td>\n",
              "      <td>528962</td>\n",
              "      <td>185826</td>\n",
              "      <td>-0.141137</td>\n",
              "      <td>51.556589</td>\n",
              "      <td>(51.556589, -0.141137)</td>\n",
              "    </tr>\n",
              "    <tr>\n",
              "      <th>22948</th>\n",
              "      <td>00052341</td>\n",
              "      <td>1.0</td>\n",
              "      <td>NEW COMPTON STREET</td>\n",
              "      <td>Highways</td>\n",
              "      <td>Sorbus aucuparia 'Streetwise'</td>\n",
              "      <td>2019-07-08</td>\n",
              "      <td>2022/2023</td>\n",
              "      <td>4.0</td>\n",
              "      <td>3.0</td>\n",
              "      <td>6.0</td>\n",
              "      <td>E05000138</td>\n",
              "      <td>Holborn and Covent Garden</td>\n",
              "      <td>529976</td>\n",
              "      <td>181160</td>\n",
              "      <td>-0.128249</td>\n",
              "      <td>51.514422</td>\n",
              "      <td>(51.514422, -0.128249)</td>\n",
              "    </tr>\n",
              "    <tr>\n",
              "      <th>23266</th>\n",
              "      <td>00048846</td>\n",
              "      <td>1.0</td>\n",
              "      <td>ASMARA ROAD</td>\n",
              "      <td>Highways</td>\n",
              "      <td>Sorbus aucuparia 'Streetwise'</td>\n",
              "      <td>2018-08-28</td>\n",
              "      <td>2021/2022</td>\n",
              "      <td>5.0</td>\n",
              "      <td>3.0</td>\n",
              "      <td>8.0</td>\n",
              "      <td>E05000132</td>\n",
              "      <td>Fortune Green</td>\n",
              "      <td>524568</td>\n",
              "      <td>185347</td>\n",
              "      <td>-0.204661</td>\n",
              "      <td>51.553268</td>\n",
              "      <td>(51.553268, -0.204661)</td>\n",
              "    </tr>\n",
              "    <tr>\n",
              "      <th>23335</th>\n",
              "      <td>00048705</td>\n",
              "      <td>1.0</td>\n",
              "      <td>GOLDINGTON STREET</td>\n",
              "      <td>Highways</td>\n",
              "      <td>Sorbus aucuparia 'Streetwise'</td>\n",
              "      <td>2019-10-23</td>\n",
              "      <td>2022/2023</td>\n",
              "      <td>6.0</td>\n",
              "      <td>2.0</td>\n",
              "      <td>12.0</td>\n",
              "      <td>E05000143</td>\n",
              "      <td>St Pancras and Somers Town</td>\n",
              "      <td>529662</td>\n",
              "      <td>183417</td>\n",
              "      <td>-0.131941</td>\n",
              "      <td>51.534780</td>\n",
              "      <td>(51.53478, -0.131941)</td>\n",
              "    </tr>\n",
              "    <tr>\n",
              "      <th>23372</th>\n",
              "      <td>00031627</td>\n",
              "      <td>1.0</td>\n",
              "      <td>ST. GEORGE THE MARTYR C OF E JMI (E)</td>\n",
              "      <td>Education</td>\n",
              "      <td>Cotoneaster salicifolius</td>\n",
              "      <td>2018-07-23</td>\n",
              "      <td>2021/2022</td>\n",
              "      <td>5.0</td>\n",
              "      <td>5.0</td>\n",
              "      <td>8.0</td>\n",
              "      <td>E05000138</td>\n",
              "      <td>Holborn and Covent Garden</td>\n",
              "      <td>530742</td>\n",
              "      <td>182119</td>\n",
              "      <td>-0.116856</td>\n",
              "      <td>51.522865</td>\n",
              "      <td>(51.522865, -0.116856)</td>\n",
              "    </tr>\n",
              "  </tbody>\n",
              "</table>\n",
              "<p>76 rows × 17 columns</p>\n",
              "</div>\n",
              "    <div class=\"colab-df-buttons\">\n",
              "\n",
              "  <div class=\"colab-df-container\">\n",
              "    <button class=\"colab-df-convert\" onclick=\"convertToInteractive('df-11a004cd-d47d-4b6e-959f-93cfae303fe8')\"\n",
              "            title=\"Convert this dataframe to an interactive table.\"\n",
              "            style=\"display:none;\">\n",
              "\n",
              "  <svg xmlns=\"http://www.w3.org/2000/svg\" height=\"24px\" viewBox=\"0 -960 960 960\">\n",
              "    <path d=\"M120-120v-720h720v720H120Zm60-500h600v-160H180v160Zm220 220h160v-160H400v160Zm0 220h160v-160H400v160ZM180-400h160v-160H180v160Zm440 0h160v-160H620v160ZM180-180h160v-160H180v160Zm440 0h160v-160H620v160Z\"/>\n",
              "  </svg>\n",
              "    </button>\n",
              "\n",
              "  <style>\n",
              "    .colab-df-container {\n",
              "      display:flex;\n",
              "      gap: 12px;\n",
              "    }\n",
              "\n",
              "    .colab-df-convert {\n",
              "      background-color: #E8F0FE;\n",
              "      border: none;\n",
              "      border-radius: 50%;\n",
              "      cursor: pointer;\n",
              "      display: none;\n",
              "      fill: #1967D2;\n",
              "      height: 32px;\n",
              "      padding: 0 0 0 0;\n",
              "      width: 32px;\n",
              "    }\n",
              "\n",
              "    .colab-df-convert:hover {\n",
              "      background-color: #E2EBFA;\n",
              "      box-shadow: 0px 1px 2px rgba(60, 64, 67, 0.3), 0px 1px 3px 1px rgba(60, 64, 67, 0.15);\n",
              "      fill: #174EA6;\n",
              "    }\n",
              "\n",
              "    .colab-df-buttons div {\n",
              "      margin-bottom: 4px;\n",
              "    }\n",
              "\n",
              "    [theme=dark] .colab-df-convert {\n",
              "      background-color: #3B4455;\n",
              "      fill: #D2E3FC;\n",
              "    }\n",
              "\n",
              "    [theme=dark] .colab-df-convert:hover {\n",
              "      background-color: #434B5C;\n",
              "      box-shadow: 0px 1px 3px 1px rgba(0, 0, 0, 0.15);\n",
              "      filter: drop-shadow(0px 1px 2px rgba(0, 0, 0, 0.3));\n",
              "      fill: #FFFFFF;\n",
              "    }\n",
              "  </style>\n",
              "\n",
              "    <script>\n",
              "      const buttonEl =\n",
              "        document.querySelector('#df-11a004cd-d47d-4b6e-959f-93cfae303fe8 button.colab-df-convert');\n",
              "      buttonEl.style.display =\n",
              "        google.colab.kernel.accessAllowed ? 'block' : 'none';\n",
              "\n",
              "      async function convertToInteractive(key) {\n",
              "        const element = document.querySelector('#df-11a004cd-d47d-4b6e-959f-93cfae303fe8');\n",
              "        const dataTable =\n",
              "          await google.colab.kernel.invokeFunction('convertToInteractive',\n",
              "                                                    [key], {});\n",
              "        if (!dataTable) return;\n",
              "\n",
              "        const docLinkHtml = 'Like what you see? Visit the ' +\n",
              "          '<a target=\"_blank\" href=https://colab.research.google.com/notebooks/data_table.ipynb>data table notebook</a>'\n",
              "          + ' to learn more about interactive tables.';\n",
              "        element.innerHTML = '';\n",
              "        dataTable['output_type'] = 'display_data';\n",
              "        await google.colab.output.renderOutput(dataTable, element);\n",
              "        const docLink = document.createElement('div');\n",
              "        docLink.innerHTML = docLinkHtml;\n",
              "        element.appendChild(docLink);\n",
              "      }\n",
              "    </script>\n",
              "  </div>\n",
              "\n",
              "\n",
              "<div id=\"df-e2e5b22d-75c7-43aa-996e-14b99fc35dfc\">\n",
              "  <button class=\"colab-df-quickchart\" onclick=\"quickchart('df-e2e5b22d-75c7-43aa-996e-14b99fc35dfc')\"\n",
              "            title=\"Suggest charts\"\n",
              "            style=\"display:none;\">\n",
              "\n",
              "<svg xmlns=\"http://www.w3.org/2000/svg\" height=\"24px\"viewBox=\"0 0 24 24\"\n",
              "     width=\"24px\">\n",
              "    <g>\n",
              "        <path d=\"M19 3H5c-1.1 0-2 .9-2 2v14c0 1.1.9 2 2 2h14c1.1 0 2-.9 2-2V5c0-1.1-.9-2-2-2zM9 17H7v-7h2v7zm4 0h-2V7h2v10zm4 0h-2v-4h2v4z\"/>\n",
              "    </g>\n",
              "</svg>\n",
              "  </button>\n",
              "\n",
              "<style>\n",
              "  .colab-df-quickchart {\n",
              "      --bg-color: #E8F0FE;\n",
              "      --fill-color: #1967D2;\n",
              "      --hover-bg-color: #E2EBFA;\n",
              "      --hover-fill-color: #174EA6;\n",
              "      --disabled-fill-color: #AAA;\n",
              "      --disabled-bg-color: #DDD;\n",
              "  }\n",
              "\n",
              "  [theme=dark] .colab-df-quickchart {\n",
              "      --bg-color: #3B4455;\n",
              "      --fill-color: #D2E3FC;\n",
              "      --hover-bg-color: #434B5C;\n",
              "      --hover-fill-color: #FFFFFF;\n",
              "      --disabled-bg-color: #3B4455;\n",
              "      --disabled-fill-color: #666;\n",
              "  }\n",
              "\n",
              "  .colab-df-quickchart {\n",
              "    background-color: var(--bg-color);\n",
              "    border: none;\n",
              "    border-radius: 50%;\n",
              "    cursor: pointer;\n",
              "    display: none;\n",
              "    fill: var(--fill-color);\n",
              "    height: 32px;\n",
              "    padding: 0;\n",
              "    width: 32px;\n",
              "  }\n",
              "\n",
              "  .colab-df-quickchart:hover {\n",
              "    background-color: var(--hover-bg-color);\n",
              "    box-shadow: 0 1px 2px rgba(60, 64, 67, 0.3), 0 1px 3px 1px rgba(60, 64, 67, 0.15);\n",
              "    fill: var(--button-hover-fill-color);\n",
              "  }\n",
              "\n",
              "  .colab-df-quickchart-complete:disabled,\n",
              "  .colab-df-quickchart-complete:disabled:hover {\n",
              "    background-color: var(--disabled-bg-color);\n",
              "    fill: var(--disabled-fill-color);\n",
              "    box-shadow: none;\n",
              "  }\n",
              "\n",
              "  .colab-df-spinner {\n",
              "    border: 2px solid var(--fill-color);\n",
              "    border-color: transparent;\n",
              "    border-bottom-color: var(--fill-color);\n",
              "    animation:\n",
              "      spin 1s steps(1) infinite;\n",
              "  }\n",
              "\n",
              "  @keyframes spin {\n",
              "    0% {\n",
              "      border-color: transparent;\n",
              "      border-bottom-color: var(--fill-color);\n",
              "      border-left-color: var(--fill-color);\n",
              "    }\n",
              "    20% {\n",
              "      border-color: transparent;\n",
              "      border-left-color: var(--fill-color);\n",
              "      border-top-color: var(--fill-color);\n",
              "    }\n",
              "    30% {\n",
              "      border-color: transparent;\n",
              "      border-left-color: var(--fill-color);\n",
              "      border-top-color: var(--fill-color);\n",
              "      border-right-color: var(--fill-color);\n",
              "    }\n",
              "    40% {\n",
              "      border-color: transparent;\n",
              "      border-right-color: var(--fill-color);\n",
              "      border-top-color: var(--fill-color);\n",
              "    }\n",
              "    60% {\n",
              "      border-color: transparent;\n",
              "      border-right-color: var(--fill-color);\n",
              "    }\n",
              "    80% {\n",
              "      border-color: transparent;\n",
              "      border-right-color: var(--fill-color);\n",
              "      border-bottom-color: var(--fill-color);\n",
              "    }\n",
              "    90% {\n",
              "      border-color: transparent;\n",
              "      border-bottom-color: var(--fill-color);\n",
              "    }\n",
              "  }\n",
              "</style>\n",
              "\n",
              "  <script>\n",
              "    async function quickchart(key) {\n",
              "      const quickchartButtonEl =\n",
              "        document.querySelector('#' + key + ' button');\n",
              "      quickchartButtonEl.disabled = true;  // To prevent multiple clicks.\n",
              "      quickchartButtonEl.classList.add('colab-df-spinner');\n",
              "      try {\n",
              "        const charts = await google.colab.kernel.invokeFunction(\n",
              "            'suggestCharts', [key], {});\n",
              "      } catch (error) {\n",
              "        console.error('Error during call to suggestCharts:', error);\n",
              "      }\n",
              "      quickchartButtonEl.classList.remove('colab-df-spinner');\n",
              "      quickchartButtonEl.classList.add('colab-df-quickchart-complete');\n",
              "    }\n",
              "    (() => {\n",
              "      let quickchartButtonEl =\n",
              "        document.querySelector('#df-e2e5b22d-75c7-43aa-996e-14b99fc35dfc button');\n",
              "      quickchartButtonEl.style.display =\n",
              "        google.colab.kernel.accessAllowed ? 'block' : 'none';\n",
              "    })();\n",
              "  </script>\n",
              "</div>\n",
              "    </div>\n",
              "  </div>\n"
            ]
          },
          "metadata": {},
          "execution_count": 86
        }
      ],
      "source": [
        "# Find trees with scientific names that don't have matching common names data\n",
        "Trees_notin_CommonNames = ~trees['Scientific Name'].isin(names['Scientific Name'])\n",
        "trees[Trees_notin_CommonNames]"
      ]
    },
    {
      "cell_type": "code",
      "execution_count": null,
      "id": "183f5951-2c4e-486a-beb9-68abc8be8674",
      "metadata": {
        "id": "183f5951-2c4e-486a-beb9-68abc8be8674",
        "colab": {
          "base_uri": "https://localhost:8080/"
        },
        "outputId": "75e07dd5-e7b1-42e3-8d95-f6085cf3e108"
      },
      "outputs": [
        {
          "output_type": "execute_result",
          "data": {
            "text/plain": [
              "(76, 17)"
            ]
          },
          "metadata": {},
          "execution_count": 87
        }
      ],
      "source": [
        "# Confirm how many rows we have\n",
        "trees[Trees_notin_CommonNames].shape"
      ]
    },
    {
      "cell_type": "markdown",
      "id": "28a9ce1a-e0d6-42b2-b83a-bfb1c1a21f75",
      "metadata": {
        "id": "28a9ce1a-e0d6-42b2-b83a-bfb1c1a21f75"
      },
      "source": [
        "<hr/>\n",
        "\n",
        "### 8.4 Observations\n",
        "\n",
        "<div style=\"background-color:lemonchiffon; border:1px solid; padding:5px; margin:5px; font-weight:bold\"><font color=\"crimson\">\n",
        "TODO: Write down your observation about unmatched data issues.\n",
        "    </font></div>\n"
      ]
    },
    {
      "cell_type": "markdown",
      "id": "80b550e2-3d7e-44af-990a-cc59b070c269",
      "metadata": {
        "id": "80b550e2-3d7e-44af-990a-cc59b070c269"
      },
      "source": [
        "There are 23 trees that were not in the environmental dataset and 76 trees not in the common names so these trees will not show up when the tables are joined. Astrid's concern was that the data we have won’t be sufficient to deliver on the Tree Walks Brochures and\n",
        "The Environment Report initiatives, however, these numbers that do not have matched data are relatively small compared to the dataset size."
      ]
    },
    {
      "cell_type": "markdown",
      "id": "663f0130-1aee-4590-b6d3-ddc531035415",
      "metadata": {
        "id": "663f0130-1aee-4590-b6d3-ddc531035415"
      },
      "source": [
        "<hr/>"
      ]
    },
    {
      "cell_type": "markdown",
      "id": "ecb4c78f-147a-4cb7-b646-1de2d365c5e5",
      "metadata": {
        "id": "ecb4c78f-147a-4cb7-b646-1de2d365c5e5"
      },
      "source": [
        "# END OF NOTEBOOK"
      ]
    },
    {
      "cell_type": "code",
      "execution_count": null,
      "id": "23027640-3750-4ea5-9057-e81626698bdb",
      "metadata": {
        "id": "23027640-3750-4ea5-9057-e81626698bdb"
      },
      "outputs": [],
      "source": []
    }
  ],
  "metadata": {
    "kernelspec": {
      "display_name": "Python 3 (ipykernel)",
      "language": "python",
      "name": "python3"
    },
    "language_info": {
      "codemirror_mode": {
        "name": "ipython",
        "version": 3
      },
      "file_extension": ".py",
      "mimetype": "text/x-python",
      "name": "python",
      "nbconvert_exporter": "python",
      "pygments_lexer": "ipython3",
      "version": "3.9.7"
    },
    "colab": {
      "provenance": [],
      "toc_visible": true,
      "include_colab_link": true
    }
  },
  "nbformat": 4,
  "nbformat_minor": 5
}